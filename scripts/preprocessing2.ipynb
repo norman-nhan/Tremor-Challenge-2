{
 "cells": [
  {
   "cell_type": "code",
   "execution_count": 1,
   "id": "17f97b07",
   "metadata": {},
   "outputs": [
    {
     "data": {
      "application/vnd.microsoft.datawrangler.viewer.v0+json": {
       "columns": [
        {
         "name": "index",
         "rawType": "int64",
         "type": "integer"
        },
        {
         "name": "ID",
         "rawType": "int64",
         "type": "integer"
        },
        {
         "name": "Activity Type ID",
         "rawType": "int64",
         "type": "integer"
        },
        {
         "name": "Activity Type",
         "rawType": "object",
         "type": "string"
        },
        {
         "name": "Started",
         "rawType": "object",
         "type": "string"
        },
        {
         "name": "Finished",
         "rawType": "object",
         "type": "string"
        },
        {
         "name": "Updated",
         "rawType": "object",
         "type": "string"
        },
        {
         "name": "Subject",
         "rawType": "object",
         "type": "string"
        }
       ],
       "conversionMethod": "pd.DataFrame",
       "ref": "5f03cc5e-a5fc-4cdd-a12b-5fb8244de613",
       "rows": [
        [
         "0",
         "1130251",
         "2806",
         "1 (FACING camera) Sit and stand",
         "2024/09/02 6:16",
         "2024/09/02 6:16",
         "2024/09/02 6:16",
         "U22"
        ],
        [
         "1",
         "1130254",
         "2807",
         "2 (FACING camera) both hands SHAKING (sitting position)",
         "2024/09/02 6:17",
         "2024/09/02 6:17",
         "2024/09/02 6:17",
         "U22"
        ],
        [
         "2",
         "1130257",
         "2807",
         "2 (FACING camera) both hands SHAKING (sitting position)",
         "2024/09/02 6:18",
         "2024/09/02 6:18",
         "2024/09/02 6:18",
         "U22"
        ],
        [
         "3",
         "1130261",
         "2806",
         "1 (FACING camera) Sit and stand",
         "2024/09/02 6:20",
         "2024/09/02 6:20",
         "2024/09/02 6:20",
         "U22"
        ],
        [
         "4",
         "1130292",
         "2806",
         "1 (FACING camera) Sit and stand",
         "2024/09/02 6:42",
         "2024/09/02 6:42",
         "2024/09/02 6:42",
         "U2"
        ]
       ],
       "shape": {
        "columns": 7,
        "rows": 5
       }
      },
      "text/html": [
       "<div>\n",
       "<style scoped>\n",
       "    .dataframe tbody tr th:only-of-type {\n",
       "        vertical-align: middle;\n",
       "    }\n",
       "\n",
       "    .dataframe tbody tr th {\n",
       "        vertical-align: top;\n",
       "    }\n",
       "\n",
       "    .dataframe thead th {\n",
       "        text-align: right;\n",
       "    }\n",
       "</style>\n",
       "<table border=\"1\" class=\"dataframe\">\n",
       "  <thead>\n",
       "    <tr style=\"text-align: right;\">\n",
       "      <th></th>\n",
       "      <th>ID</th>\n",
       "      <th>Activity Type ID</th>\n",
       "      <th>Activity Type</th>\n",
       "      <th>Started</th>\n",
       "      <th>Finished</th>\n",
       "      <th>Updated</th>\n",
       "      <th>Subject</th>\n",
       "    </tr>\n",
       "  </thead>\n",
       "  <tbody>\n",
       "    <tr>\n",
       "      <th>0</th>\n",
       "      <td>1130251</td>\n",
       "      <td>2806</td>\n",
       "      <td>1 (FACING camera) Sit and stand</td>\n",
       "      <td>2024/09/02 6:16</td>\n",
       "      <td>2024/09/02 6:16</td>\n",
       "      <td>2024/09/02 6:16</td>\n",
       "      <td>U22</td>\n",
       "    </tr>\n",
       "    <tr>\n",
       "      <th>1</th>\n",
       "      <td>1130254</td>\n",
       "      <td>2807</td>\n",
       "      <td>2 (FACING camera) both hands SHAKING (sitting ...</td>\n",
       "      <td>2024/09/02 6:17</td>\n",
       "      <td>2024/09/02 6:17</td>\n",
       "      <td>2024/09/02 6:17</td>\n",
       "      <td>U22</td>\n",
       "    </tr>\n",
       "    <tr>\n",
       "      <th>2</th>\n",
       "      <td>1130257</td>\n",
       "      <td>2807</td>\n",
       "      <td>2 (FACING camera) both hands SHAKING (sitting ...</td>\n",
       "      <td>2024/09/02 6:18</td>\n",
       "      <td>2024/09/02 6:18</td>\n",
       "      <td>2024/09/02 6:18</td>\n",
       "      <td>U22</td>\n",
       "    </tr>\n",
       "    <tr>\n",
       "      <th>3</th>\n",
       "      <td>1130261</td>\n",
       "      <td>2806</td>\n",
       "      <td>1 (FACING camera) Sit and stand</td>\n",
       "      <td>2024/09/02 6:20</td>\n",
       "      <td>2024/09/02 6:20</td>\n",
       "      <td>2024/09/02 6:20</td>\n",
       "      <td>U22</td>\n",
       "    </tr>\n",
       "    <tr>\n",
       "      <th>4</th>\n",
       "      <td>1130292</td>\n",
       "      <td>2806</td>\n",
       "      <td>1 (FACING camera) Sit and stand</td>\n",
       "      <td>2024/09/02 6:42</td>\n",
       "      <td>2024/09/02 6:42</td>\n",
       "      <td>2024/09/02 6:42</td>\n",
       "      <td>U2</td>\n",
       "    </tr>\n",
       "  </tbody>\n",
       "</table>\n",
       "</div>"
      ],
      "text/plain": [
       "        ID  Activity Type ID  \\\n",
       "0  1130251              2806   \n",
       "1  1130254              2807   \n",
       "2  1130257              2807   \n",
       "3  1130261              2806   \n",
       "4  1130292              2806   \n",
       "\n",
       "                                       Activity Type          Started  \\\n",
       "0                    1 (FACING camera) Sit and stand  2024/09/02 6:16   \n",
       "1  2 (FACING camera) both hands SHAKING (sitting ...  2024/09/02 6:17   \n",
       "2  2 (FACING camera) both hands SHAKING (sitting ...  2024/09/02 6:18   \n",
       "3                    1 (FACING camera) Sit and stand  2024/09/02 6:20   \n",
       "4                    1 (FACING camera) Sit and stand  2024/09/02 6:42   \n",
       "\n",
       "          Finished          Updated Subject  \n",
       "0  2024/09/02 6:16  2024/09/02 6:16     U22  \n",
       "1  2024/09/02 6:17  2024/09/02 6:17     U22  \n",
       "2  2024/09/02 6:18  2024/09/02 6:18     U22  \n",
       "3  2024/09/02 6:20  2024/09/02 6:20     U22  \n",
       "4  2024/09/02 6:42  2024/09/02 6:42      U2  "
      ]
     },
     "execution_count": 1,
     "metadata": {},
     "output_type": "execute_result"
    }
   ],
   "source": [
    "import pandas as pd\n",
    "\n",
    "# Load Train data\n",
    "train_df = pd.read_csv('../data/TrainingDataPD25/TrainActivities.csv')\n",
    "train_df.head()"
   ]
  },
  {
   "cell_type": "code",
   "execution_count": 2,
   "id": "70dc0d05",
   "metadata": {},
   "outputs": [],
   "source": [
    "# convert Started, Finished and Updated columns to datetime format\n",
    "train_df['Started'] = pd.to_datetime(train_df['Started'])\n",
    "train_df['Finished'] = pd.to_datetime(train_df['Finished'])\n",
    "train_df['Updated'] = pd.to_datetime(train_df['Updated'])"
   ]
  },
  {
   "cell_type": "code",
   "execution_count": 3,
   "id": "9efd043c",
   "metadata": {},
   "outputs": [],
   "source": [
    "# convert the timezone to JST\n",
    "train_df['Started'] = train_df['Started'].dt.tz_localize('UTC').dt.tz_convert('Asia/Tokyo')\n",
    "train_df['Finished'] = train_df['Finished'].dt.tz_localize('UTC').dt.tz_convert('Asia/Tokyo')\n",
    "train_df['Updated'] = train_df['Updated'].dt.tz_localize('UTC').dt.tz_convert('Asia/Tokyo')"
   ]
  },
  {
   "cell_type": "code",
   "execution_count": 4,
   "id": "117ec959",
   "metadata": {},
   "outputs": [],
   "source": [
    "# cleaning train_df\n",
    "train_df = train_df.dropna()"
   ]
  },
  {
   "cell_type": "code",
   "execution_count": 5,
   "id": "c6cb4f53",
   "metadata": {},
   "outputs": [],
   "source": [
    "# combine all dataframes of each user \n",
    "import os\n",
    "import glob\n",
    "\n",
    "base_dir = '/Users/tptn/MachineLearning/tremor_challenge2/data/TrainingDataPD25/users_timeXYZ/users'\n",
    "\n",
    "headers = ['id', 'datetime', 'x', 'y', 'z']\n",
    "df_list = []\n",
    "for user in os.listdir(base_dir):\n",
    "    path = os.path.join(base_dir, user)\n",
    "\n",
    "    if os.path.isdir(path):\n",
    "        files = glob.glob(os.path.join(path, '*.csv'))\n",
    "\n",
    "        for f in files:\n",
    "            df = pd.read_csv(f, header=None, names=headers)\n",
    "            df['datetime'] = pd.to_datetime(df['datetime'], format='%Y-%m-%dT%H:%M:%S.%f%z')\n",
    "            if df['datetime'].dt.tz != 'UTC+09:00': # convert timezone if it not in JST\n",
    "                df['datetime'] = df['datetime'].dt.tz_convert('Asia/Tokyo')\n",
    "            df_list.append(df)\n",
    "            \n",
    "users_data = pd.concat(df_list, ignore_index=True)"
   ]
  },
  {
   "cell_type": "code",
   "execution_count": 6,
   "id": "02135c9c",
   "metadata": {},
   "outputs": [
    {
     "data": {
      "text/plain": [
       "id                               int64\n",
       "datetime    datetime64[ns, Asia/Tokyo]\n",
       "x                              float64\n",
       "y                              float64\n",
       "z                              float64\n",
       "dtype: object"
      ]
     },
     "execution_count": 6,
     "metadata": {},
     "output_type": "execute_result"
    }
   ],
   "source": [
    "users_data.shape\n",
    "users_data.dtypes\n",
    "# there are no null values in the dataframes"
   ]
  },
  {
   "cell_type": "code",
   "execution_count": 7,
   "id": "fabe56ac",
   "metadata": {},
   "outputs": [],
   "source": [
    "# train_df['Activity Type'].value_counts().index\n",
    "# train_df['Activity Type'].unique()"
   ]
  },
  {
   "cell_type": "code",
   "execution_count": 8,
   "id": "f9e2de38",
   "metadata": {},
   "outputs": [],
   "source": [
    "ACT_LABELS = list(train_df['Activity Type'].unique())\n",
    "# print(ACT_LABELS)\n",
    "USERS = list(users_data['id'].unique())\n",
    "# print(USERS)"
   ]
  },
  {
   "cell_type": "code",
   "execution_count": 9,
   "id": "20e29cfd",
   "metadata": {},
   "outputs": [
    {
     "data": {
      "application/vnd.microsoft.datawrangler.viewer.v0+json": {
       "columns": [
        {
         "name": "index",
         "rawType": "int64",
         "type": "integer"
        },
        {
         "name": "id",
         "rawType": "int64",
         "type": "integer"
        },
        {
         "name": "datetime",
         "rawType": "datetime64[ns, Asia/Tokyo]",
         "type": "unknown"
        },
        {
         "name": "x",
         "rawType": "float64",
         "type": "float"
        },
        {
         "name": "y",
         "rawType": "float64",
         "type": "float"
        },
        {
         "name": "z",
         "rawType": "float64",
         "type": "float"
        }
       ],
       "conversionMethod": "pd.DataFrame",
       "ref": "347cab6e-ff5f-43ca-ad70-bf932d545d71",
       "rows": [
        [
         "1343454",
         "2807",
         "2024-09-06 06:25:28.643000+09:00",
         "2.452",
         "-0.986",
         "9.768"
        ],
        [
         "1343455",
         "2807",
         "2024-09-06 06:25:28.802000+09:00",
         "2.433",
         "-0.991",
         "9.773"
        ],
        [
         "1343456",
         "2807",
         "2024-09-06 06:25:28.965000+09:00",
         "2.449",
         "-0.989",
         "9.764"
        ],
        [
         "1343457",
         "2807",
         "2024-09-06 06:25:29.122000+09:00",
         "2.428",
         "-0.986",
         "9.756"
        ],
        [
         "1343458",
         "2807",
         "2024-09-06 06:25:29.282000+09:00",
         "2.425",
         "-0.989",
         "9.771"
        ]
       ],
       "shape": {
        "columns": 5,
        "rows": 5
       }
      },
      "text/html": [
       "<div>\n",
       "<style scoped>\n",
       "    .dataframe tbody tr th:only-of-type {\n",
       "        vertical-align: middle;\n",
       "    }\n",
       "\n",
       "    .dataframe tbody tr th {\n",
       "        vertical-align: top;\n",
       "    }\n",
       "\n",
       "    .dataframe thead th {\n",
       "        text-align: right;\n",
       "    }\n",
       "</style>\n",
       "<table border=\"1\" class=\"dataframe\">\n",
       "  <thead>\n",
       "    <tr style=\"text-align: right;\">\n",
       "      <th></th>\n",
       "      <th>id</th>\n",
       "      <th>datetime</th>\n",
       "      <th>x</th>\n",
       "      <th>y</th>\n",
       "      <th>z</th>\n",
       "    </tr>\n",
       "  </thead>\n",
       "  <tbody>\n",
       "    <tr>\n",
       "      <th>1343454</th>\n",
       "      <td>2807</td>\n",
       "      <td>2024-09-06 06:25:28.643000+09:00</td>\n",
       "      <td>2.452</td>\n",
       "      <td>-0.986</td>\n",
       "      <td>9.768</td>\n",
       "    </tr>\n",
       "    <tr>\n",
       "      <th>1343455</th>\n",
       "      <td>2807</td>\n",
       "      <td>2024-09-06 06:25:28.802000+09:00</td>\n",
       "      <td>2.433</td>\n",
       "      <td>-0.991</td>\n",
       "      <td>9.773</td>\n",
       "    </tr>\n",
       "    <tr>\n",
       "      <th>1343456</th>\n",
       "      <td>2807</td>\n",
       "      <td>2024-09-06 06:25:28.965000+09:00</td>\n",
       "      <td>2.449</td>\n",
       "      <td>-0.989</td>\n",
       "      <td>9.764</td>\n",
       "    </tr>\n",
       "    <tr>\n",
       "      <th>1343457</th>\n",
       "      <td>2807</td>\n",
       "      <td>2024-09-06 06:25:29.122000+09:00</td>\n",
       "      <td>2.428</td>\n",
       "      <td>-0.986</td>\n",
       "      <td>9.756</td>\n",
       "    </tr>\n",
       "    <tr>\n",
       "      <th>1343458</th>\n",
       "      <td>2807</td>\n",
       "      <td>2024-09-06 06:25:29.282000+09:00</td>\n",
       "      <td>2.425</td>\n",
       "      <td>-0.989</td>\n",
       "      <td>9.771</td>\n",
       "    </tr>\n",
       "  </tbody>\n",
       "</table>\n",
       "</div>"
      ],
      "text/plain": [
       "           id                         datetime      x      y      z\n",
       "1343454  2807 2024-09-06 06:25:28.643000+09:00  2.452 -0.986  9.768\n",
       "1343455  2807 2024-09-06 06:25:28.802000+09:00  2.433 -0.991  9.773\n",
       "1343456  2807 2024-09-06 06:25:28.965000+09:00  2.449 -0.989  9.764\n",
       "1343457  2807 2024-09-06 06:25:29.122000+09:00  2.428 -0.986  9.756\n",
       "1343458  2807 2024-09-06 06:25:29.282000+09:00  2.425 -0.989  9.771"
      ]
     },
     "execution_count": 9,
     "metadata": {},
     "output_type": "execute_result"
    }
   ],
   "source": [
    "# Split accelerometer data per 1 sample (=Activity at one time)\n",
    "\"\"\"\n",
    "Make Segment.\n",
    "A segment is a group of continuous sensor data for which feature calculation (statistic calculation) is performed in human activity recognition using sensor data.\n",
    "\"\"\"\n",
    "seg_label_list = [] # segment's (1 sample's) label list (label mean \"activity_type_id\", \"user_id\" etc.).\n",
    "seg_list = [] # segment's (1 sample's) accelerometer data list.\n",
    "\n",
    "for i in list(train_df.index):\n",
    "    started_at = train_df.loc[i, 'Started']\n",
    "    finished_at = train_df.loc[i, 'Finished']\n",
    "    seg = users_data[(users_data[\"datetime\"] >=started_at) & (users_data[\"datetime\"] <= finished_at)]\n",
    "    seg_label = train_df.loc[i, \"Activity Type\"]\n",
    "    if (len(seg)!=0):\n",
    "        seg_list.append(seg)\n",
    "        seg_label_list.append(seg_label)\n",
    "\n",
    "seg_list[0].head()"
   ]
  },
  {
   "cell_type": "markdown",
   "id": "e0b9cc5e",
   "metadata": {},
   "source": [
    "# Feature Extraction"
   ]
  },
  {
   "cell_type": "code",
   "execution_count": 10,
   "id": "4ef08f2c",
   "metadata": {},
   "outputs": [
    {
     "name": "stdout",
     "output_type": "stream",
     "text": [
      "2024-09-02 15:16:00+09:00 2024-09-11 14:11:00+09:00\n"
     ]
    }
   ],
   "source": [
    "# Extract start and end date of the whole training dataset\n",
    "date_start = train_df['Started'].min()\n",
    "date_finish = train_df['Finished'].max()\n",
    "print(date_start, date_finish)"
   ]
  },
  {
   "cell_type": "markdown",
   "id": "be598112",
   "metadata": {},
   "source": [
    "From the output above it looks like that the training dataset is conducted only 9 days from 2024-09-02 to 2024-09-11."
   ]
  },
  {
   "cell_type": "code",
   "execution_count": 11,
   "id": "83657c63",
   "metadata": {},
   "outputs": [],
   "source": [
    "\"\"\"\n",
    "Create hourly data frames from start date to end date\n",
    "Weekday will be used as feature\n",
    "\"\"\"\n",
    "import datetime\n",
    "time = date_start\n",
    "time_list = []\n",
    "while time <= date_finish:\n",
    "    for hour in range (0, 24):\n",
    "        year_month_date_hour = str(time.date()) + '-' + str(hour).zfill(2)\n",
    "        time_list.append([year_month_date_hour, hour, time, time.weekday()])\n",
    "    time = time + datetime.timedelta(days=1)\n",
    "\n",
    "cols = ['year-month-date', 'hour', 'start', 'weekday']\n",
    "df_y = pd.DataFrame(time_list, columns=cols)\n",
    "del time_list, time"
   ]
  },
  {
   "cell_type": "code",
   "execution_count": 12,
   "id": "93128ecd",
   "metadata": {},
   "outputs": [
    {
     "data": {
      "application/vnd.microsoft.datawrangler.viewer.v0+json": {
       "columns": [
        {
         "name": "index",
         "rawType": "int64",
         "type": "integer"
        },
        {
         "name": "year-month-date",
         "rawType": "object",
         "type": "string"
        },
        {
         "name": "hour",
         "rawType": "int64",
         "type": "integer"
        },
        {
         "name": "start",
         "rawType": "datetime64[ns, Asia/Tokyo]",
         "type": "unknown"
        },
        {
         "name": "weekday",
         "rawType": "int64",
         "type": "integer"
        }
       ],
       "conversionMethod": "pd.DataFrame",
       "ref": "cc9dbd15-64da-4b6a-b4ea-cf5dd27d5fea",
       "rows": [
        [
         "0",
         "2024-09-02-00",
         "0",
         "2024-09-02 15:16:00+09:00",
         "0"
        ],
        [
         "1",
         "2024-09-02-01",
         "1",
         "2024-09-02 15:16:00+09:00",
         "0"
        ],
        [
         "2",
         "2024-09-02-02",
         "2",
         "2024-09-02 15:16:00+09:00",
         "0"
        ],
        [
         "3",
         "2024-09-02-03",
         "3",
         "2024-09-02 15:16:00+09:00",
         "0"
        ],
        [
         "4",
         "2024-09-02-04",
         "4",
         "2024-09-02 15:16:00+09:00",
         "0"
        ]
       ],
       "shape": {
        "columns": 4,
        "rows": 5
       }
      },
      "text/html": [
       "<div>\n",
       "<style scoped>\n",
       "    .dataframe tbody tr th:only-of-type {\n",
       "        vertical-align: middle;\n",
       "    }\n",
       "\n",
       "    .dataframe tbody tr th {\n",
       "        vertical-align: top;\n",
       "    }\n",
       "\n",
       "    .dataframe thead th {\n",
       "        text-align: right;\n",
       "    }\n",
       "</style>\n",
       "<table border=\"1\" class=\"dataframe\">\n",
       "  <thead>\n",
       "    <tr style=\"text-align: right;\">\n",
       "      <th></th>\n",
       "      <th>year-month-date</th>\n",
       "      <th>hour</th>\n",
       "      <th>start</th>\n",
       "      <th>weekday</th>\n",
       "    </tr>\n",
       "  </thead>\n",
       "  <tbody>\n",
       "    <tr>\n",
       "      <th>0</th>\n",
       "      <td>2024-09-02-00</td>\n",
       "      <td>0</td>\n",
       "      <td>2024-09-02 15:16:00+09:00</td>\n",
       "      <td>0</td>\n",
       "    </tr>\n",
       "    <tr>\n",
       "      <th>1</th>\n",
       "      <td>2024-09-02-01</td>\n",
       "      <td>1</td>\n",
       "      <td>2024-09-02 15:16:00+09:00</td>\n",
       "      <td>0</td>\n",
       "    </tr>\n",
       "    <tr>\n",
       "      <th>2</th>\n",
       "      <td>2024-09-02-02</td>\n",
       "      <td>2</td>\n",
       "      <td>2024-09-02 15:16:00+09:00</td>\n",
       "      <td>0</td>\n",
       "    </tr>\n",
       "    <tr>\n",
       "      <th>3</th>\n",
       "      <td>2024-09-02-03</td>\n",
       "      <td>3</td>\n",
       "      <td>2024-09-02 15:16:00+09:00</td>\n",
       "      <td>0</td>\n",
       "    </tr>\n",
       "    <tr>\n",
       "      <th>4</th>\n",
       "      <td>2024-09-02-04</td>\n",
       "      <td>4</td>\n",
       "      <td>2024-09-02 15:16:00+09:00</td>\n",
       "      <td>0</td>\n",
       "    </tr>\n",
       "  </tbody>\n",
       "</table>\n",
       "</div>"
      ],
      "text/plain": [
       "  year-month-date  hour                     start  weekday\n",
       "0   2024-09-02-00     0 2024-09-02 15:16:00+09:00        0\n",
       "1   2024-09-02-01     1 2024-09-02 15:16:00+09:00        0\n",
       "2   2024-09-02-02     2 2024-09-02 15:16:00+09:00        0\n",
       "3   2024-09-02-03     3 2024-09-02 15:16:00+09:00        0\n",
       "4   2024-09-02-04     4 2024-09-02 15:16:00+09:00        0"
      ]
     },
     "execution_count": 12,
     "metadata": {},
     "output_type": "execute_result"
    }
   ],
   "source": [
    "df_y.head()"
   ]
  },
  {
   "cell_type": "code",
   "execution_count": null,
   "id": "39e233e7",
   "metadata": {},
   "outputs": [],
   "source": [
    "# add year-month-date-hour column to train_df\n",
    "train_df['year-month-date-hour'] = train_df['Started'].dt.date.astype(str) + '-' + train_df['Started'].dt.hour.astype(str)"
   ]
  },
  {
   "cell_type": "code",
   "execution_count": null,
   "id": "7581f768",
   "metadata": {},
   "outputs": [
    {
     "ename": "KeyError",
     "evalue": "\"['id'] not in index\"",
     "output_type": "error",
     "traceback": [
      "\u001b[31m---------------------------------------------------------------------------\u001b[39m",
      "\u001b[31mKeyError\u001b[39m                                  Traceback (most recent call last)",
      "\u001b[36mCell\u001b[39m\u001b[36m \u001b[39m\u001b[32mIn[16]\u001b[39m\u001b[32m, line 10\u001b[39m\n\u001b[32m      7\u001b[39m     \u001b[38;5;28;01mreturn\u001b[39;00m X\n\u001b[32m      9\u001b[39m tmp_df = train_df.copy()\n\u001b[32m---> \u001b[39m\u001b[32m10\u001b[39m feat_df = \u001b[43mmakeFeatures\u001b[49m\u001b[43m(\u001b[49m\u001b[43mtrain_df\u001b[49m\u001b[43m)\u001b[49m\n",
      "\u001b[36mCell\u001b[39m\u001b[36m \u001b[39m\u001b[32mIn[16]\u001b[39m\u001b[32m, line 2\u001b[39m, in \u001b[36mmakeFeatures\u001b[39m\u001b[34m(df)\u001b[39m\n\u001b[32m      1\u001b[39m \u001b[38;5;28;01mdef\u001b[39;00m\u001b[38;5;250m \u001b[39m\u001b[34mmakeFeatures\u001b[39m(df):\n\u001b[32m----> \u001b[39m\u001b[32m2\u001b[39m     feat = \u001b[43mdf\u001b[49m\u001b[43m.\u001b[49m\u001b[43mgroupby\u001b[49m\u001b[43m(\u001b[49m\u001b[43m[\u001b[49m\u001b[33;43m'\u001b[39;49m\u001b[33;43mActivity Type ID\u001b[39;49m\u001b[33;43m'\u001b[39;49m\u001b[43m,\u001b[49m\u001b[43m \u001b[49m\u001b[33;43m'\u001b[39;49m\u001b[33;43myear-month-date-hour\u001b[39;49m\u001b[33;43m'\u001b[39;49m\u001b[43m]\u001b[49m\u001b[43m,\u001b[49m\u001b[43m \u001b[49m\u001b[43mas_index\u001b[49m\u001b[43m=\u001b[49m\u001b[38;5;28;43;01mFalse\u001b[39;49;00m\u001b[43m)\u001b[49m\u001b[43m.\u001b[49m\u001b[43mcount\u001b[49m\u001b[43m(\u001b[49m\u001b[43m)\u001b[49m\u001b[43m[\u001b[49m\u001b[43m[\u001b[49m\u001b[33;43m'\u001b[39;49m\u001b[33;43mActivity Type ID\u001b[39;49m\u001b[33;43m'\u001b[39;49m\u001b[43m,\u001b[49m\u001b[43m \u001b[49m\u001b[33;43m'\u001b[39;49m\u001b[33;43myear-month-date-hour\u001b[39;49m\u001b[33;43m'\u001b[39;49m\u001b[43m,\u001b[49m\u001b[43m \u001b[49m\u001b[33;43m'\u001b[39;49m\u001b[33;43mid\u001b[39;49m\u001b[33;43m'\u001b[39;49m\u001b[43m]\u001b[49m\u001b[43m]\u001b[49m.rename(columns={\u001b[33m'\u001b[39m\u001b[33mid\u001b[39m\u001b[33m'\u001b[39m: \u001b[33m'\u001b[39m\u001b[33mcount\u001b[39m\u001b[33m'\u001b[39m})\n\u001b[32m      3\u001b[39m     X = df_y.copy()\n\u001b[32m      4\u001b[39m     acts = \u001b[38;5;28mlist\u001b[39m(df[\u001b[33m'\u001b[39m\u001b[33mActivity Type ID\u001b[39m\u001b[33m'\u001b[39m].unique())\n",
      "\u001b[36mFile \u001b[39m\u001b[32m~/MachineLearning/tremor_challenge2/lib/python3.12/site-packages/pandas/core/frame.py:4108\u001b[39m, in \u001b[36mDataFrame.__getitem__\u001b[39m\u001b[34m(self, key)\u001b[39m\n\u001b[32m   4106\u001b[39m     \u001b[38;5;28;01mif\u001b[39;00m is_iterator(key):\n\u001b[32m   4107\u001b[39m         key = \u001b[38;5;28mlist\u001b[39m(key)\n\u001b[32m-> \u001b[39m\u001b[32m4108\u001b[39m     indexer = \u001b[38;5;28;43mself\u001b[39;49m\u001b[43m.\u001b[49m\u001b[43mcolumns\u001b[49m\u001b[43m.\u001b[49m\u001b[43m_get_indexer_strict\u001b[49m\u001b[43m(\u001b[49m\u001b[43mkey\u001b[49m\u001b[43m,\u001b[49m\u001b[43m \u001b[49m\u001b[33;43m\"\u001b[39;49m\u001b[33;43mcolumns\u001b[39;49m\u001b[33;43m\"\u001b[39;49m\u001b[43m)\u001b[49m[\u001b[32m1\u001b[39m]\n\u001b[32m   4110\u001b[39m \u001b[38;5;66;03m# take() does not accept boolean indexers\u001b[39;00m\n\u001b[32m   4111\u001b[39m \u001b[38;5;28;01mif\u001b[39;00m \u001b[38;5;28mgetattr\u001b[39m(indexer, \u001b[33m\"\u001b[39m\u001b[33mdtype\u001b[39m\u001b[33m\"\u001b[39m, \u001b[38;5;28;01mNone\u001b[39;00m) == \u001b[38;5;28mbool\u001b[39m:\n",
      "\u001b[36mFile \u001b[39m\u001b[32m~/MachineLearning/tremor_challenge2/lib/python3.12/site-packages/pandas/core/indexes/base.py:6200\u001b[39m, in \u001b[36mIndex._get_indexer_strict\u001b[39m\u001b[34m(self, key, axis_name)\u001b[39m\n\u001b[32m   6197\u001b[39m \u001b[38;5;28;01melse\u001b[39;00m:\n\u001b[32m   6198\u001b[39m     keyarr, indexer, new_indexer = \u001b[38;5;28mself\u001b[39m._reindex_non_unique(keyarr)\n\u001b[32m-> \u001b[39m\u001b[32m6200\u001b[39m \u001b[38;5;28;43mself\u001b[39;49m\u001b[43m.\u001b[49m\u001b[43m_raise_if_missing\u001b[49m\u001b[43m(\u001b[49m\u001b[43mkeyarr\u001b[49m\u001b[43m,\u001b[49m\u001b[43m \u001b[49m\u001b[43mindexer\u001b[49m\u001b[43m,\u001b[49m\u001b[43m \u001b[49m\u001b[43maxis_name\u001b[49m\u001b[43m)\u001b[49m\n\u001b[32m   6202\u001b[39m keyarr = \u001b[38;5;28mself\u001b[39m.take(indexer)\n\u001b[32m   6203\u001b[39m \u001b[38;5;28;01mif\u001b[39;00m \u001b[38;5;28misinstance\u001b[39m(key, Index):\n\u001b[32m   6204\u001b[39m     \u001b[38;5;66;03m# GH 42790 - Preserve name from an Index\u001b[39;00m\n",
      "\u001b[36mFile \u001b[39m\u001b[32m~/MachineLearning/tremor_challenge2/lib/python3.12/site-packages/pandas/core/indexes/base.py:6252\u001b[39m, in \u001b[36mIndex._raise_if_missing\u001b[39m\u001b[34m(self, key, indexer, axis_name)\u001b[39m\n\u001b[32m   6249\u001b[39m     \u001b[38;5;28;01mraise\u001b[39;00m \u001b[38;5;167;01mKeyError\u001b[39;00m(\u001b[33mf\u001b[39m\u001b[33m\"\u001b[39m\u001b[33mNone of [\u001b[39m\u001b[38;5;132;01m{\u001b[39;00mkey\u001b[38;5;132;01m}\u001b[39;00m\u001b[33m] are in the [\u001b[39m\u001b[38;5;132;01m{\u001b[39;00maxis_name\u001b[38;5;132;01m}\u001b[39;00m\u001b[33m]\u001b[39m\u001b[33m\"\u001b[39m)\n\u001b[32m   6251\u001b[39m not_found = \u001b[38;5;28mlist\u001b[39m(ensure_index(key)[missing_mask.nonzero()[\u001b[32m0\u001b[39m]].unique())\n\u001b[32m-> \u001b[39m\u001b[32m6252\u001b[39m \u001b[38;5;28;01mraise\u001b[39;00m \u001b[38;5;167;01mKeyError\u001b[39;00m(\u001b[33mf\u001b[39m\u001b[33m\"\u001b[39m\u001b[38;5;132;01m{\u001b[39;00mnot_found\u001b[38;5;132;01m}\u001b[39;00m\u001b[33m not in index\u001b[39m\u001b[33m\"\u001b[39m)\n",
      "\u001b[31mKeyError\u001b[39m: \"['id'] not in index\""
     ]
    }
   ],
   "source": [
    "train_cp = train_df.copy()\n",
    "feat = train_cp.groupby([])"
   ]
  }
 ],
 "metadata": {
  "kernelspec": {
   "display_name": "tremor_challenge2",
   "language": "python",
   "name": "python3"
  },
  "language_info": {
   "codemirror_mode": {
    "name": "ipython",
    "version": 3
   },
   "file_extension": ".py",
   "mimetype": "text/x-python",
   "name": "python",
   "nbconvert_exporter": "python",
   "pygments_lexer": "ipython3",
   "version": "3.12.8"
  }
 },
 "nbformat": 4,
 "nbformat_minor": 5
}
