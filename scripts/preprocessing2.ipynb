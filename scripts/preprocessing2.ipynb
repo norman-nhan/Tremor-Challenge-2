{
 "cells": [
  {
   "cell_type": "code",
   "execution_count": 1,
   "id": "17f97b07",
   "metadata": {},
   "outputs": [
    {
     "data": {
      "application/vnd.microsoft.datawrangler.viewer.v0+json": {
       "columns": [
        {
         "name": "index",
         "rawType": "int64",
         "type": "integer"
        },
        {
         "name": "ID",
         "rawType": "int64",
         "type": "integer"
        },
        {
         "name": "Activity Type ID",
         "rawType": "int64",
         "type": "integer"
        },
        {
         "name": "Activity Type",
         "rawType": "object",
         "type": "string"
        },
        {
         "name": "Started",
         "rawType": "object",
         "type": "string"
        },
        {
         "name": "Finished",
         "rawType": "object",
         "type": "string"
        },
        {
         "name": "Updated",
         "rawType": "object",
         "type": "string"
        },
        {
         "name": "Subject",
         "rawType": "object",
         "type": "string"
        }
       ],
       "conversionMethod": "pd.DataFrame",
       "ref": "b814a1e1-a5d5-4e1f-acee-962c1a3b298b",
       "rows": [
        [
         "0",
         "1130251",
         "2806",
         "1 (FACING camera) Sit and stand",
         "2024/09/02 6:16",
         "2024/09/02 6:16",
         "2024/09/02 6:16",
         "U22"
        ],
        [
         "1",
         "1130254",
         "2807",
         "2 (FACING camera) both hands SHAKING (sitting position)",
         "2024/09/02 6:17",
         "2024/09/02 6:17",
         "2024/09/02 6:17",
         "U22"
        ],
        [
         "2",
         "1130257",
         "2807",
         "2 (FACING camera) both hands SHAKING (sitting position)",
         "2024/09/02 6:18",
         "2024/09/02 6:18",
         "2024/09/02 6:18",
         "U22"
        ],
        [
         "3",
         "1130261",
         "2806",
         "1 (FACING camera) Sit and stand",
         "2024/09/02 6:20",
         "2024/09/02 6:20",
         "2024/09/02 6:20",
         "U22"
        ],
        [
         "4",
         "1130292",
         "2806",
         "1 (FACING camera) Sit and stand",
         "2024/09/02 6:42",
         "2024/09/02 6:42",
         "2024/09/02 6:42",
         "U2"
        ]
       ],
       "shape": {
        "columns": 7,
        "rows": 5
       }
      },
      "text/html": [
       "<div>\n",
       "<style scoped>\n",
       "    .dataframe tbody tr th:only-of-type {\n",
       "        vertical-align: middle;\n",
       "    }\n",
       "\n",
       "    .dataframe tbody tr th {\n",
       "        vertical-align: top;\n",
       "    }\n",
       "\n",
       "    .dataframe thead th {\n",
       "        text-align: right;\n",
       "    }\n",
       "</style>\n",
       "<table border=\"1\" class=\"dataframe\">\n",
       "  <thead>\n",
       "    <tr style=\"text-align: right;\">\n",
       "      <th></th>\n",
       "      <th>ID</th>\n",
       "      <th>Activity Type ID</th>\n",
       "      <th>Activity Type</th>\n",
       "      <th>Started</th>\n",
       "      <th>Finished</th>\n",
       "      <th>Updated</th>\n",
       "      <th>Subject</th>\n",
       "    </tr>\n",
       "  </thead>\n",
       "  <tbody>\n",
       "    <tr>\n",
       "      <th>0</th>\n",
       "      <td>1130251</td>\n",
       "      <td>2806</td>\n",
       "      <td>1 (FACING camera) Sit and stand</td>\n",
       "      <td>2024/09/02 6:16</td>\n",
       "      <td>2024/09/02 6:16</td>\n",
       "      <td>2024/09/02 6:16</td>\n",
       "      <td>U22</td>\n",
       "    </tr>\n",
       "    <tr>\n",
       "      <th>1</th>\n",
       "      <td>1130254</td>\n",
       "      <td>2807</td>\n",
       "      <td>2 (FACING camera) both hands SHAKING (sitting ...</td>\n",
       "      <td>2024/09/02 6:17</td>\n",
       "      <td>2024/09/02 6:17</td>\n",
       "      <td>2024/09/02 6:17</td>\n",
       "      <td>U22</td>\n",
       "    </tr>\n",
       "    <tr>\n",
       "      <th>2</th>\n",
       "      <td>1130257</td>\n",
       "      <td>2807</td>\n",
       "      <td>2 (FACING camera) both hands SHAKING (sitting ...</td>\n",
       "      <td>2024/09/02 6:18</td>\n",
       "      <td>2024/09/02 6:18</td>\n",
       "      <td>2024/09/02 6:18</td>\n",
       "      <td>U22</td>\n",
       "    </tr>\n",
       "    <tr>\n",
       "      <th>3</th>\n",
       "      <td>1130261</td>\n",
       "      <td>2806</td>\n",
       "      <td>1 (FACING camera) Sit and stand</td>\n",
       "      <td>2024/09/02 6:20</td>\n",
       "      <td>2024/09/02 6:20</td>\n",
       "      <td>2024/09/02 6:20</td>\n",
       "      <td>U22</td>\n",
       "    </tr>\n",
       "    <tr>\n",
       "      <th>4</th>\n",
       "      <td>1130292</td>\n",
       "      <td>2806</td>\n",
       "      <td>1 (FACING camera) Sit and stand</td>\n",
       "      <td>2024/09/02 6:42</td>\n",
       "      <td>2024/09/02 6:42</td>\n",
       "      <td>2024/09/02 6:42</td>\n",
       "      <td>U2</td>\n",
       "    </tr>\n",
       "  </tbody>\n",
       "</table>\n",
       "</div>"
      ],
      "text/plain": [
       "        ID  Activity Type ID  \\\n",
       "0  1130251              2806   \n",
       "1  1130254              2807   \n",
       "2  1130257              2807   \n",
       "3  1130261              2806   \n",
       "4  1130292              2806   \n",
       "\n",
       "                                       Activity Type          Started  \\\n",
       "0                    1 (FACING camera) Sit and stand  2024/09/02 6:16   \n",
       "1  2 (FACING camera) both hands SHAKING (sitting ...  2024/09/02 6:17   \n",
       "2  2 (FACING camera) both hands SHAKING (sitting ...  2024/09/02 6:18   \n",
       "3                    1 (FACING camera) Sit and stand  2024/09/02 6:20   \n",
       "4                    1 (FACING camera) Sit and stand  2024/09/02 6:42   \n",
       "\n",
       "          Finished          Updated Subject  \n",
       "0  2024/09/02 6:16  2024/09/02 6:16     U22  \n",
       "1  2024/09/02 6:17  2024/09/02 6:17     U22  \n",
       "2  2024/09/02 6:18  2024/09/02 6:18     U22  \n",
       "3  2024/09/02 6:20  2024/09/02 6:20     U22  \n",
       "4  2024/09/02 6:42  2024/09/02 6:42      U2  "
      ]
     },
     "execution_count": 1,
     "metadata": {},
     "output_type": "execute_result"
    }
   ],
   "source": [
    "import pandas as pd\n",
    "\n",
    "# Load Train data\n",
    "train_df = pd.read_csv('../data/TrainingDataPD25/TrainActivities.csv')\n",
    "train_df.head()"
   ]
  },
  {
   "cell_type": "code",
   "execution_count": null,
   "id": "70dc0d05",
   "metadata": {},
   "outputs": [],
   "source": [
    "# convert Started, Finished and Updated columns to datetime format\n",
    "train_df['Started'] = pd.to_datetime(train_df['Started'])\n",
    "train_df['Finished'] = pd.to_datetime(train_df['Finished'])\n",
    "train_df['Updated'] = pd.to_datetime(train_df['Updated'])"
   ]
  },
  {
   "cell_type": "code",
   "execution_count": 3,
   "id": "9efd043c",
   "metadata": {},
   "outputs": [],
   "source": [
    "# convert the timezone to JST\n",
    "train_df['Started'] = train_df['Started'].dt.tz_localize('UTC').dt.tz_convert('Asia/Tokyo')\n",
    "train_df['Finished'] = train_df['Finished'].dt.tz_localize('UTC').dt.tz_convert('Asia/Tokyo')\n",
    "train_df['Updated'] = train_df['Updated'].dt.tz_localize('UTC').dt.tz_convert('Asia/Tokyo')"
   ]
  },
  {
   "cell_type": "code",
   "execution_count": null,
   "id": "117ec959",
   "metadata": {},
   "outputs": [],
   "source": [
    "# cleaning train_df\n",
    "train_df = train_df.dropna()"
   ]
  },
  {
   "cell_type": "code",
   "execution_count": 29,
   "id": "c6cb4f53",
   "metadata": {},
   "outputs": [],
   "source": [
    "# combine all dataframes of each user \n",
    "import os\n",
    "import glob\n",
    "\n",
    "base_dir = '/Users/tptn/MachineLearning/tremor_challenge2/data/TrainingDataPD25/users_timeXYZ/users'\n",
    "\n",
    "headers = ['id', 'datetime', 'x', 'y', 'z']\n",
    "df_list = []\n",
    "for user in os.listdir(base_dir):\n",
    "    path = os.path.join(base_dir, user)\n",
    "\n",
    "    if os.path.isdir(path):\n",
    "        files = glob.glob(os.path.join(path, '*.csv'))\n",
    "\n",
    "        for f in files:\n",
    "            df = pd.read_csv(f, header=None, names=headers)\n",
    "            df['datetime'] = pd.to_datetime(df['datetime'], format='%Y-%m-%dT%H:%M:%S.%f%z')\n",
    "            if df['datetime'].dt.tz != 'UTC+09:00': # convert timezone if it not in JST\n",
    "                df['datetime'] = df['datetime'].dt.tz_convert('Asia/Tokyo')\n",
    "            df_list.append(df)\n",
    "            \n",
    "users_data = pd.concat(df_list, ignore_index=True)"
   ]
  },
  {
   "cell_type": "code",
   "execution_count": 39,
   "id": "02135c9c",
   "metadata": {},
   "outputs": [
    {
     "data": {
      "text/plain": [
       "id                               int64\n",
       "datetime    datetime64[ns, Asia/Tokyo]\n",
       "x                              float64\n",
       "y                              float64\n",
       "z                              float64\n",
       "dtype: object"
      ]
     },
     "execution_count": 39,
     "metadata": {},
     "output_type": "execute_result"
    }
   ],
   "source": [
    "users_data.shape\n",
    "users_data.dtypes\n",
    "# there are no null values in the dataframes"
   ]
  },
  {
   "cell_type": "code",
   "execution_count": null,
   "id": "fabe56ac",
   "metadata": {},
   "outputs": [
    {
     "data": {
      "text/plain": [
       "array(['1 (FACING camera) Sit and stand',\n",
       "       '2 (FACING camera) both hands SHAKING (sitting position)',\n",
       "       '3 Stand up from chair - both hands with SHAKING',\n",
       "       '4 (Sideway) Sit & stand',\n",
       "       '5 (Sideway) both hands SHAKING (sitting)',\n",
       "       '6 (Sideway) STAND up with - both hands SHAKING',\n",
       "       '7 Cool down - sitting/relax', '8 Walk (LEFT --> Right --> Left)',\n",
       "       '9 Walk & STOP/frozen, full body shaking, rotate then return back',\n",
       "       '10 Slow walk (SHAKING hands/body, tiny step, head forward)'],\n",
       "      dtype=object)"
      ]
     },
     "execution_count": 33,
     "metadata": {},
     "output_type": "execute_result"
    }
   ],
   "source": [
    "# train_df['Activity Type'].value_counts().index\n",
    "# train_df['Activity Type'].unique()"
   ]
  },
  {
   "cell_type": "code",
   "execution_count": null,
   "id": "f9e2de38",
   "metadata": {},
   "outputs": [],
   "source": [
    "ACT_LABELS = list(train_df['Activity Type'].unique())\n",
    "# print(ACT_LABELS)\n",
    "USERS = list(users_data['id'].unique())\n",
    "# print(USERS)"
   ]
  },
  {
   "cell_type": "code",
   "execution_count": 49,
   "id": "20e29cfd",
   "metadata": {},
   "outputs": [
    {
     "data": {
      "application/vnd.microsoft.datawrangler.viewer.v0+json": {
       "columns": [
        {
         "name": "index",
         "rawType": "int64",
         "type": "integer"
        },
        {
         "name": "id",
         "rawType": "int64",
         "type": "integer"
        },
        {
         "name": "datetime",
         "rawType": "datetime64[ns, Asia/Tokyo]",
         "type": "unknown"
        },
        {
         "name": "x",
         "rawType": "float64",
         "type": "float"
        },
        {
         "name": "y",
         "rawType": "float64",
         "type": "float"
        },
        {
         "name": "z",
         "rawType": "float64",
         "type": "float"
        }
       ],
       "conversionMethod": "pd.DataFrame",
       "ref": "078f9223-f71f-467a-a008-ebb5061abfb5",
       "rows": [
        [
         "1343454",
         "2807",
         "2024-09-06 06:25:28.643000+09:00",
         "2.452",
         "-0.986",
         "9.768"
        ],
        [
         "1343455",
         "2807",
         "2024-09-06 06:25:28.802000+09:00",
         "2.433",
         "-0.991",
         "9.773"
        ],
        [
         "1343456",
         "2807",
         "2024-09-06 06:25:28.965000+09:00",
         "2.449",
         "-0.989",
         "9.764"
        ],
        [
         "1343457",
         "2807",
         "2024-09-06 06:25:29.122000+09:00",
         "2.428",
         "-0.986",
         "9.756"
        ],
        [
         "1343458",
         "2807",
         "2024-09-06 06:25:29.282000+09:00",
         "2.425",
         "-0.989",
         "9.771"
        ]
       ],
       "shape": {
        "columns": 5,
        "rows": 5
       }
      },
      "text/html": [
       "<div>\n",
       "<style scoped>\n",
       "    .dataframe tbody tr th:only-of-type {\n",
       "        vertical-align: middle;\n",
       "    }\n",
       "\n",
       "    .dataframe tbody tr th {\n",
       "        vertical-align: top;\n",
       "    }\n",
       "\n",
       "    .dataframe thead th {\n",
       "        text-align: right;\n",
       "    }\n",
       "</style>\n",
       "<table border=\"1\" class=\"dataframe\">\n",
       "  <thead>\n",
       "    <tr style=\"text-align: right;\">\n",
       "      <th></th>\n",
       "      <th>id</th>\n",
       "      <th>datetime</th>\n",
       "      <th>x</th>\n",
       "      <th>y</th>\n",
       "      <th>z</th>\n",
       "    </tr>\n",
       "  </thead>\n",
       "  <tbody>\n",
       "    <tr>\n",
       "      <th>1343454</th>\n",
       "      <td>2807</td>\n",
       "      <td>2024-09-06 06:25:28.643000+09:00</td>\n",
       "      <td>2.452</td>\n",
       "      <td>-0.986</td>\n",
       "      <td>9.768</td>\n",
       "    </tr>\n",
       "    <tr>\n",
       "      <th>1343455</th>\n",
       "      <td>2807</td>\n",
       "      <td>2024-09-06 06:25:28.802000+09:00</td>\n",
       "      <td>2.433</td>\n",
       "      <td>-0.991</td>\n",
       "      <td>9.773</td>\n",
       "    </tr>\n",
       "    <tr>\n",
       "      <th>1343456</th>\n",
       "      <td>2807</td>\n",
       "      <td>2024-09-06 06:25:28.965000+09:00</td>\n",
       "      <td>2.449</td>\n",
       "      <td>-0.989</td>\n",
       "      <td>9.764</td>\n",
       "    </tr>\n",
       "    <tr>\n",
       "      <th>1343457</th>\n",
       "      <td>2807</td>\n",
       "      <td>2024-09-06 06:25:29.122000+09:00</td>\n",
       "      <td>2.428</td>\n",
       "      <td>-0.986</td>\n",
       "      <td>9.756</td>\n",
       "    </tr>\n",
       "    <tr>\n",
       "      <th>1343458</th>\n",
       "      <td>2807</td>\n",
       "      <td>2024-09-06 06:25:29.282000+09:00</td>\n",
       "      <td>2.425</td>\n",
       "      <td>-0.989</td>\n",
       "      <td>9.771</td>\n",
       "    </tr>\n",
       "  </tbody>\n",
       "</table>\n",
       "</div>"
      ],
      "text/plain": [
       "           id                         datetime      x      y      z\n",
       "1343454  2807 2024-09-06 06:25:28.643000+09:00  2.452 -0.986  9.768\n",
       "1343455  2807 2024-09-06 06:25:28.802000+09:00  2.433 -0.991  9.773\n",
       "1343456  2807 2024-09-06 06:25:28.965000+09:00  2.449 -0.989  9.764\n",
       "1343457  2807 2024-09-06 06:25:29.122000+09:00  2.428 -0.986  9.756\n",
       "1343458  2807 2024-09-06 06:25:29.282000+09:00  2.425 -0.989  9.771"
      ]
     },
     "execution_count": 49,
     "metadata": {},
     "output_type": "execute_result"
    }
   ],
   "source": [
    "# Split accelerometer data per 1 sample (=Activity at one time)\n",
    "\"\"\"\n",
    "Make Segment.\n",
    "A segment is a group of continuous sensor data for which feature calculation (statistic calculation) is performed in human activity recognition using sensor data.\n",
    "\"\"\"\n",
    "seg_label_list = [] # segment's (1 sample's) label list (label mean \"activity_type_id\", \"user_id\" etc.).\n",
    "seg_list = [] # segment's (1 sample's) accelerometer data list.\n",
    "\n",
    "for i in list(train_df.index):\n",
    "    started_at = train_df.loc[i, 'Started']\n",
    "    finished_at = train_df.loc[i, 'Finished']\n",
    "    seg = users_data[(users_data[\"datetime\"] >=started_at) & (users_data[\"datetime\"] <= finished_at)]\n",
    "    seg_label = train_df.loc[i, \"Activity Type\"]\n",
    "    if (len(seg)!=0):\n",
    "        seg_list.append(seg)\n",
    "        seg_label_list.append(seg_label)\n",
    "\n",
    "seg_list[0].head()"
   ]
  },
  {
   "cell_type": "code",
   "execution_count": null,
   "id": "e0b9cc5e",
   "metadata": {},
   "outputs": [],
   "source": []
  }
 ],
 "metadata": {
  "kernelspec": {
   "display_name": "tremor_challenge2",
   "language": "python",
   "name": "python3"
  },
  "language_info": {
   "codemirror_mode": {
    "name": "ipython",
    "version": 3
   },
   "file_extension": ".py",
   "mimetype": "text/x-python",
   "name": "python",
   "nbconvert_exporter": "python",
   "pygments_lexer": "ipython3",
   "version": "3.12.8"
  }
 },
 "nbformat": 4,
 "nbformat_minor": 5
}
