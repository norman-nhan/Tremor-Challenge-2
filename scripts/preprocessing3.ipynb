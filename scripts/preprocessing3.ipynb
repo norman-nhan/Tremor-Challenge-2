{
 "cells": [
  {
   "cell_type": "markdown",
   "id": "1ee03a44",
   "metadata": {},
   "source": [
    "# Loads data & time conversion"
   ]
  },
  {
   "cell_type": "markdown",
   "id": "50cdd9d7",
   "metadata": {},
   "source": [
    "In the TrainActivities.csv, all time-related columns are in JST but doesn't contain UTC information. \n",
    "\n",
    "While all accelerometer data are took in different time zones. \n",
    "\n",
    "Thus we need to add UTC information to activity labels dataset which is UTC+09:00\n",
    "\n",
    "And convert all accelerometer data into the same timezone which is UTC+09:00"
   ]
  },
  {
   "cell_type": "code",
   "execution_count": 14,
   "id": "3714bad8",
   "metadata": {},
   "outputs": [
    {
     "data": {
      "application/vnd.microsoft.datawrangler.viewer.v0+json": {
       "columns": [
        {
         "name": "index",
         "rawType": "int64",
         "type": "integer"
        },
        {
         "name": "ID",
         "rawType": "int64",
         "type": "integer"
        },
        {
         "name": "Activity Type ID",
         "rawType": "int64",
         "type": "integer"
        },
        {
         "name": "Activity Type",
         "rawType": "object",
         "type": "string"
        },
        {
         "name": "Started",
         "rawType": "object",
         "type": "string"
        },
        {
         "name": "Finished",
         "rawType": "object",
         "type": "string"
        },
        {
         "name": "Updated",
         "rawType": "object",
         "type": "string"
        },
        {
         "name": "Subject",
         "rawType": "object",
         "type": "string"
        }
       ],
       "conversionMethod": "pd.DataFrame",
       "ref": "524b0f68-0982-494e-a662-1b8efdc8d3f7",
       "rows": [
        [
         "0",
         "1130251",
         "2806",
         "1 (FACING camera) Sit and stand",
         "2024/09/02 6:16",
         "2024/09/02 6:16",
         "2024/09/02 6:16",
         "U22"
        ],
        [
         "1",
         "1130254",
         "2807",
         "2 (FACING camera) both hands SHAKING (sitting position)",
         "2024/09/02 6:17",
         "2024/09/02 6:17",
         "2024/09/02 6:17",
         "U22"
        ],
        [
         "2",
         "1130257",
         "2807",
         "2 (FACING camera) both hands SHAKING (sitting position)",
         "2024/09/02 6:18",
         "2024/09/02 6:18",
         "2024/09/02 6:18",
         "U22"
        ],
        [
         "3",
         "1130261",
         "2806",
         "1 (FACING camera) Sit and stand",
         "2024/09/02 6:20",
         "2024/09/02 6:20",
         "2024/09/02 6:20",
         "U22"
        ],
        [
         "4",
         "1130292",
         "2806",
         "1 (FACING camera) Sit and stand",
         "2024/09/02 6:42",
         "2024/09/02 6:42",
         "2024/09/02 6:42",
         "U2"
        ]
       ],
       "shape": {
        "columns": 7,
        "rows": 5
       }
      },
      "text/html": [
       "<div>\n",
       "<style scoped>\n",
       "    .dataframe tbody tr th:only-of-type {\n",
       "        vertical-align: middle;\n",
       "    }\n",
       "\n",
       "    .dataframe tbody tr th {\n",
       "        vertical-align: top;\n",
       "    }\n",
       "\n",
       "    .dataframe thead th {\n",
       "        text-align: right;\n",
       "    }\n",
       "</style>\n",
       "<table border=\"1\" class=\"dataframe\">\n",
       "  <thead>\n",
       "    <tr style=\"text-align: right;\">\n",
       "      <th></th>\n",
       "      <th>ID</th>\n",
       "      <th>Activity Type ID</th>\n",
       "      <th>Activity Type</th>\n",
       "      <th>Started</th>\n",
       "      <th>Finished</th>\n",
       "      <th>Updated</th>\n",
       "      <th>Subject</th>\n",
       "    </tr>\n",
       "  </thead>\n",
       "  <tbody>\n",
       "    <tr>\n",
       "      <th>0</th>\n",
       "      <td>1130251</td>\n",
       "      <td>2806</td>\n",
       "      <td>1 (FACING camera) Sit and stand</td>\n",
       "      <td>2024/09/02 6:16</td>\n",
       "      <td>2024/09/02 6:16</td>\n",
       "      <td>2024/09/02 6:16</td>\n",
       "      <td>U22</td>\n",
       "    </tr>\n",
       "    <tr>\n",
       "      <th>1</th>\n",
       "      <td>1130254</td>\n",
       "      <td>2807</td>\n",
       "      <td>2 (FACING camera) both hands SHAKING (sitting ...</td>\n",
       "      <td>2024/09/02 6:17</td>\n",
       "      <td>2024/09/02 6:17</td>\n",
       "      <td>2024/09/02 6:17</td>\n",
       "      <td>U22</td>\n",
       "    </tr>\n",
       "    <tr>\n",
       "      <th>2</th>\n",
       "      <td>1130257</td>\n",
       "      <td>2807</td>\n",
       "      <td>2 (FACING camera) both hands SHAKING (sitting ...</td>\n",
       "      <td>2024/09/02 6:18</td>\n",
       "      <td>2024/09/02 6:18</td>\n",
       "      <td>2024/09/02 6:18</td>\n",
       "      <td>U22</td>\n",
       "    </tr>\n",
       "    <tr>\n",
       "      <th>3</th>\n",
       "      <td>1130261</td>\n",
       "      <td>2806</td>\n",
       "      <td>1 (FACING camera) Sit and stand</td>\n",
       "      <td>2024/09/02 6:20</td>\n",
       "      <td>2024/09/02 6:20</td>\n",
       "      <td>2024/09/02 6:20</td>\n",
       "      <td>U22</td>\n",
       "    </tr>\n",
       "    <tr>\n",
       "      <th>4</th>\n",
       "      <td>1130292</td>\n",
       "      <td>2806</td>\n",
       "      <td>1 (FACING camera) Sit and stand</td>\n",
       "      <td>2024/09/02 6:42</td>\n",
       "      <td>2024/09/02 6:42</td>\n",
       "      <td>2024/09/02 6:42</td>\n",
       "      <td>U2</td>\n",
       "    </tr>\n",
       "  </tbody>\n",
       "</table>\n",
       "</div>"
      ],
      "text/plain": [
       "        ID  Activity Type ID  \\\n",
       "0  1130251              2806   \n",
       "1  1130254              2807   \n",
       "2  1130257              2807   \n",
       "3  1130261              2806   \n",
       "4  1130292              2806   \n",
       "\n",
       "                                       Activity Type          Started  \\\n",
       "0                    1 (FACING camera) Sit and stand  2024/09/02 6:16   \n",
       "1  2 (FACING camera) both hands SHAKING (sitting ...  2024/09/02 6:17   \n",
       "2  2 (FACING camera) both hands SHAKING (sitting ...  2024/09/02 6:18   \n",
       "3                    1 (FACING camera) Sit and stand  2024/09/02 6:20   \n",
       "4                    1 (FACING camera) Sit and stand  2024/09/02 6:42   \n",
       "\n",
       "          Finished          Updated Subject  \n",
       "0  2024/09/02 6:16  2024/09/02 6:16     U22  \n",
       "1  2024/09/02 6:17  2024/09/02 6:17     U22  \n",
       "2  2024/09/02 6:18  2024/09/02 6:18     U22  \n",
       "3  2024/09/02 6:20  2024/09/02 6:20     U22  \n",
       "4  2024/09/02 6:42  2024/09/02 6:42      U2  "
      ]
     },
     "execution_count": 14,
     "metadata": {},
     "output_type": "execute_result"
    }
   ],
   "source": [
    "import pandas as pd\n",
    "# load activity data\n",
    "act_df = pd.read_csv('../data/TrainingDataPD25/TrainActivities.csv')\n",
    "act_df.head()"
   ]
  },
  {
   "cell_type": "code",
   "execution_count": 15,
   "id": "daa06a1c",
   "metadata": {},
   "outputs": [],
   "source": [
    "def convert_to_jst(df, columns):\n",
    "    for col in columns:\n",
    "        df[col] = pd.to_datetime(df[col], format='%Y/%m/%d %H:%M', errors='coerce')\n",
    "        df[col] = df[col].dt.tz_localize('UTC+09:00')\n",
    "\n",
    "cols = ['Started', 'Finished', 'Updated']\n",
    "convert_to_jst(act_df, cols)"
   ]
  },
  {
   "cell_type": "code",
   "execution_count": 16,
   "id": "f9b66130",
   "metadata": {},
   "outputs": [
    {
     "name": "stdout",
     "output_type": "stream",
     "text": [
      "UTC+09:00\n"
     ]
    },
    {
     "data": {
      "application/vnd.microsoft.datawrangler.viewer.v0+json": {
       "columns": [
        {
         "name": "index",
         "rawType": "int64",
         "type": "integer"
        },
        {
         "name": "ID",
         "rawType": "int64",
         "type": "integer"
        },
        {
         "name": "Activity Type ID",
         "rawType": "int64",
         "type": "integer"
        },
        {
         "name": "Activity Type",
         "rawType": "object",
         "type": "string"
        },
        {
         "name": "Started",
         "rawType": "datetime64[ns, UTC+09:00]",
         "type": "unknown"
        },
        {
         "name": "Finished",
         "rawType": "datetime64[ns, UTC+09:00]",
         "type": "unknown"
        },
        {
         "name": "Updated",
         "rawType": "datetime64[ns, UTC+09:00]",
         "type": "unknown"
        },
        {
         "name": "Subject",
         "rawType": "object",
         "type": "string"
        }
       ],
       "conversionMethod": "pd.DataFrame",
       "ref": "8fe7c0a5-0180-4792-8304-5ca6a3aa04ca",
       "rows": [
        [
         "0",
         "1130251",
         "2806",
         "1 (FACING camera) Sit and stand",
         "2024-09-02 06:16:00+09:00",
         "2024-09-02 06:16:00+09:00",
         "2024-09-02 06:16:00+09:00",
         "U22"
        ],
        [
         "1",
         "1130254",
         "2807",
         "2 (FACING camera) both hands SHAKING (sitting position)",
         "2024-09-02 06:17:00+09:00",
         "2024-09-02 06:17:00+09:00",
         "2024-09-02 06:17:00+09:00",
         "U22"
        ],
        [
         "2",
         "1130257",
         "2807",
         "2 (FACING camera) both hands SHAKING (sitting position)",
         "2024-09-02 06:18:00+09:00",
         "2024-09-02 06:18:00+09:00",
         "2024-09-02 06:18:00+09:00",
         "U22"
        ],
        [
         "3",
         "1130261",
         "2806",
         "1 (FACING camera) Sit and stand",
         "2024-09-02 06:20:00+09:00",
         "2024-09-02 06:20:00+09:00",
         "2024-09-02 06:20:00+09:00",
         "U22"
        ],
        [
         "4",
         "1130292",
         "2806",
         "1 (FACING camera) Sit and stand",
         "2024-09-02 06:42:00+09:00",
         "2024-09-02 06:42:00+09:00",
         "2024-09-02 06:42:00+09:00",
         "U2"
        ]
       ],
       "shape": {
        "columns": 7,
        "rows": 5
       }
      },
      "text/html": [
       "<div>\n",
       "<style scoped>\n",
       "    .dataframe tbody tr th:only-of-type {\n",
       "        vertical-align: middle;\n",
       "    }\n",
       "\n",
       "    .dataframe tbody tr th {\n",
       "        vertical-align: top;\n",
       "    }\n",
       "\n",
       "    .dataframe thead th {\n",
       "        text-align: right;\n",
       "    }\n",
       "</style>\n",
       "<table border=\"1\" class=\"dataframe\">\n",
       "  <thead>\n",
       "    <tr style=\"text-align: right;\">\n",
       "      <th></th>\n",
       "      <th>ID</th>\n",
       "      <th>Activity Type ID</th>\n",
       "      <th>Activity Type</th>\n",
       "      <th>Started</th>\n",
       "      <th>Finished</th>\n",
       "      <th>Updated</th>\n",
       "      <th>Subject</th>\n",
       "    </tr>\n",
       "  </thead>\n",
       "  <tbody>\n",
       "    <tr>\n",
       "      <th>0</th>\n",
       "      <td>1130251</td>\n",
       "      <td>2806</td>\n",
       "      <td>1 (FACING camera) Sit and stand</td>\n",
       "      <td>2024-09-02 06:16:00+09:00</td>\n",
       "      <td>2024-09-02 06:16:00+09:00</td>\n",
       "      <td>2024-09-02 06:16:00+09:00</td>\n",
       "      <td>U22</td>\n",
       "    </tr>\n",
       "    <tr>\n",
       "      <th>1</th>\n",
       "      <td>1130254</td>\n",
       "      <td>2807</td>\n",
       "      <td>2 (FACING camera) both hands SHAKING (sitting ...</td>\n",
       "      <td>2024-09-02 06:17:00+09:00</td>\n",
       "      <td>2024-09-02 06:17:00+09:00</td>\n",
       "      <td>2024-09-02 06:17:00+09:00</td>\n",
       "      <td>U22</td>\n",
       "    </tr>\n",
       "    <tr>\n",
       "      <th>2</th>\n",
       "      <td>1130257</td>\n",
       "      <td>2807</td>\n",
       "      <td>2 (FACING camera) both hands SHAKING (sitting ...</td>\n",
       "      <td>2024-09-02 06:18:00+09:00</td>\n",
       "      <td>2024-09-02 06:18:00+09:00</td>\n",
       "      <td>2024-09-02 06:18:00+09:00</td>\n",
       "      <td>U22</td>\n",
       "    </tr>\n",
       "    <tr>\n",
       "      <th>3</th>\n",
       "      <td>1130261</td>\n",
       "      <td>2806</td>\n",
       "      <td>1 (FACING camera) Sit and stand</td>\n",
       "      <td>2024-09-02 06:20:00+09:00</td>\n",
       "      <td>2024-09-02 06:20:00+09:00</td>\n",
       "      <td>2024-09-02 06:20:00+09:00</td>\n",
       "      <td>U22</td>\n",
       "    </tr>\n",
       "    <tr>\n",
       "      <th>4</th>\n",
       "      <td>1130292</td>\n",
       "      <td>2806</td>\n",
       "      <td>1 (FACING camera) Sit and stand</td>\n",
       "      <td>2024-09-02 06:42:00+09:00</td>\n",
       "      <td>2024-09-02 06:42:00+09:00</td>\n",
       "      <td>2024-09-02 06:42:00+09:00</td>\n",
       "      <td>U2</td>\n",
       "    </tr>\n",
       "  </tbody>\n",
       "</table>\n",
       "</div>"
      ],
      "text/plain": [
       "        ID  Activity Type ID  \\\n",
       "0  1130251              2806   \n",
       "1  1130254              2807   \n",
       "2  1130257              2807   \n",
       "3  1130261              2806   \n",
       "4  1130292              2806   \n",
       "\n",
       "                                       Activity Type  \\\n",
       "0                    1 (FACING camera) Sit and stand   \n",
       "1  2 (FACING camera) both hands SHAKING (sitting ...   \n",
       "2  2 (FACING camera) both hands SHAKING (sitting ...   \n",
       "3                    1 (FACING camera) Sit and stand   \n",
       "4                    1 (FACING camera) Sit and stand   \n",
       "\n",
       "                    Started                  Finished  \\\n",
       "0 2024-09-02 06:16:00+09:00 2024-09-02 06:16:00+09:00   \n",
       "1 2024-09-02 06:17:00+09:00 2024-09-02 06:17:00+09:00   \n",
       "2 2024-09-02 06:18:00+09:00 2024-09-02 06:18:00+09:00   \n",
       "3 2024-09-02 06:20:00+09:00 2024-09-02 06:20:00+09:00   \n",
       "4 2024-09-02 06:42:00+09:00 2024-09-02 06:42:00+09:00   \n",
       "\n",
       "                    Updated Subject  \n",
       "0 2024-09-02 06:16:00+09:00     U22  \n",
       "1 2024-09-02 06:17:00+09:00     U22  \n",
       "2 2024-09-02 06:18:00+09:00     U22  \n",
       "3 2024-09-02 06:20:00+09:00     U22  \n",
       "4 2024-09-02 06:42:00+09:00      U2  "
      ]
     },
     "metadata": {},
     "output_type": "display_data"
    }
   ],
   "source": [
    "print(act_df['Started'].dt.tz)\n",
    "display(act_df.head())"
   ]
  },
  {
   "cell_type": "code",
   "execution_count": 2,
   "id": "e59e8509",
   "metadata": {},
   "outputs": [],
   "source": [
    "\"\"\"\n",
    "This dataset contains more than one timezones, but all of them include the UTC offset.\n",
    "\"\"\"\n",
    "\n",
    "# Load all csv files into one dataframe\n",
    "import os\n",
    "import glob\n",
    "from datetime import timezone, timedelta\n",
    "\n",
    "base_dir = '/Users/tptn/MachineLearning/tremor_challenge2/data/TrainingDataPD25/users_timeXYZ/users'\n",
    "\n",
    "headers = ['id', 'datetime', 'x', 'y', 'z']\n",
    "df_list = [] # to store all csv files\n",
    "\n",
    "for id in os.listdir(base_dir):\n",
    "    path = os.path.join(base_dir, id)\n",
    "\n",
    "    if os.path.isdir(path):\n",
    "        files = glob.glob(os.path.join(path, '*.csv'))\n",
    "\n",
    "        for f in files:\n",
    "            df = pd.read_csv(f, header=None, names=headers) # load csv\n",
    "            df['datetime'] = pd.to_datetime(df['datetime'], format='%Y-%m-%dT%H:%M:%S.%f%z') # conver to datetime\n",
    "            tz = df['datetime'].dt.tz # get the timezone\n",
    "            if tz != 'UTC+09:00':\n",
    "                df['datetime'] = df['datetime'].dt.tz_convert('UTC+09:00')\n",
    "            df_list.append(df)\n",
    "\n",
    "users_df = pd.concat(df_list, ignore_index=True)"
   ]
  },
  {
   "cell_type": "code",
   "execution_count": 3,
   "id": "d45a1919",
   "metadata": {},
   "outputs": [
    {
     "data": {
      "text/plain": [
       "datetime.timezone(datetime.timedelta(seconds=32400))"
      ]
     },
     "execution_count": 3,
     "metadata": {},
     "output_type": "execute_result"
    }
   ],
   "source": [
    "users_df['datetime'].dt.tz"
   ]
  },
  {
   "cell_type": "markdown",
   "id": "2cbd20bd",
   "metadata": {},
   "source": [
    "# Matching activity labels with sensor data\n",
    "\n",
    "In order to match the activity labels with the sensor data, we need to consider whether the timestamps in the sensor data are in the started and finished time of the activity or not. However, the started and finished in activity labels dataset do not contain any seconds, which makes no interval exists between started and finished.\n",
    "\n",
    "Solution:\n",
    "- Assume a activity started at H:min:00.000000 and finished at H:min:59.999999"
   ]
  },
  {
   "cell_type": "code",
   "execution_count": 17,
   "id": "3ad16974",
   "metadata": {},
   "outputs": [],
   "source": [
    "act_df['started'] = act_df['Started'].dt.floor('s')\n",
    "act_df['finished'] = act_df['Finished'].dt.floor('s') + pd.Timedelta(minutes=1) - pd.Timedelta(microseconds=1)"
   ]
  },
  {
   "cell_type": "code",
   "execution_count": 18,
   "id": "961e14ed",
   "metadata": {},
   "outputs": [
    {
     "data": {
      "application/vnd.microsoft.datawrangler.viewer.v0+json": {
       "columns": [
        {
         "name": "index",
         "rawType": "int64",
         "type": "integer"
        },
        {
         "name": "Started",
         "rawType": "datetime64[ns, UTC+09:00]",
         "type": "unknown"
        },
        {
         "name": "Finished",
         "rawType": "datetime64[ns, UTC+09:00]",
         "type": "unknown"
        },
        {
         "name": "started",
         "rawType": "datetime64[ns, UTC+09:00]",
         "type": "unknown"
        },
        {
         "name": "finished",
         "rawType": "datetime64[ns, UTC+09:00]",
         "type": "unknown"
        }
       ],
       "conversionMethod": "pd.DataFrame",
       "ref": "cecdcd88-1729-4765-9ba4-9ce06e85cba0",
       "rows": [
        [
         "0",
         "2024-09-02 06:16:00+09:00",
         "2024-09-02 06:16:00+09:00",
         "2024-09-02 06:16:00+09:00",
         "2024-09-02 06:16:59.999999+09:00"
        ],
        [
         "1",
         "2024-09-02 06:17:00+09:00",
         "2024-09-02 06:17:00+09:00",
         "2024-09-02 06:17:00+09:00",
         "2024-09-02 06:17:59.999999+09:00"
        ],
        [
         "2",
         "2024-09-02 06:18:00+09:00",
         "2024-09-02 06:18:00+09:00",
         "2024-09-02 06:18:00+09:00",
         "2024-09-02 06:18:59.999999+09:00"
        ],
        [
         "3",
         "2024-09-02 06:20:00+09:00",
         "2024-09-02 06:20:00+09:00",
         "2024-09-02 06:20:00+09:00",
         "2024-09-02 06:20:59.999999+09:00"
        ],
        [
         "4",
         "2024-09-02 06:42:00+09:00",
         "2024-09-02 06:42:00+09:00",
         "2024-09-02 06:42:00+09:00",
         "2024-09-02 06:42:59.999999+09:00"
        ]
       ],
       "shape": {
        "columns": 4,
        "rows": 5
       }
      },
      "text/html": [
       "<div>\n",
       "<style scoped>\n",
       "    .dataframe tbody tr th:only-of-type {\n",
       "        vertical-align: middle;\n",
       "    }\n",
       "\n",
       "    .dataframe tbody tr th {\n",
       "        vertical-align: top;\n",
       "    }\n",
       "\n",
       "    .dataframe thead th {\n",
       "        text-align: right;\n",
       "    }\n",
       "</style>\n",
       "<table border=\"1\" class=\"dataframe\">\n",
       "  <thead>\n",
       "    <tr style=\"text-align: right;\">\n",
       "      <th></th>\n",
       "      <th>Started</th>\n",
       "      <th>Finished</th>\n",
       "      <th>started</th>\n",
       "      <th>finished</th>\n",
       "    </tr>\n",
       "  </thead>\n",
       "  <tbody>\n",
       "    <tr>\n",
       "      <th>0</th>\n",
       "      <td>2024-09-02 06:16:00+09:00</td>\n",
       "      <td>2024-09-02 06:16:00+09:00</td>\n",
       "      <td>2024-09-02 06:16:00+09:00</td>\n",
       "      <td>2024-09-02 06:16:59.999999+09:00</td>\n",
       "    </tr>\n",
       "    <tr>\n",
       "      <th>1</th>\n",
       "      <td>2024-09-02 06:17:00+09:00</td>\n",
       "      <td>2024-09-02 06:17:00+09:00</td>\n",
       "      <td>2024-09-02 06:17:00+09:00</td>\n",
       "      <td>2024-09-02 06:17:59.999999+09:00</td>\n",
       "    </tr>\n",
       "    <tr>\n",
       "      <th>2</th>\n",
       "      <td>2024-09-02 06:18:00+09:00</td>\n",
       "      <td>2024-09-02 06:18:00+09:00</td>\n",
       "      <td>2024-09-02 06:18:00+09:00</td>\n",
       "      <td>2024-09-02 06:18:59.999999+09:00</td>\n",
       "    </tr>\n",
       "    <tr>\n",
       "      <th>3</th>\n",
       "      <td>2024-09-02 06:20:00+09:00</td>\n",
       "      <td>2024-09-02 06:20:00+09:00</td>\n",
       "      <td>2024-09-02 06:20:00+09:00</td>\n",
       "      <td>2024-09-02 06:20:59.999999+09:00</td>\n",
       "    </tr>\n",
       "    <tr>\n",
       "      <th>4</th>\n",
       "      <td>2024-09-02 06:42:00+09:00</td>\n",
       "      <td>2024-09-02 06:42:00+09:00</td>\n",
       "      <td>2024-09-02 06:42:00+09:00</td>\n",
       "      <td>2024-09-02 06:42:59.999999+09:00</td>\n",
       "    </tr>\n",
       "  </tbody>\n",
       "</table>\n",
       "</div>"
      ],
      "text/plain": [
       "                    Started                  Finished  \\\n",
       "0 2024-09-02 06:16:00+09:00 2024-09-02 06:16:00+09:00   \n",
       "1 2024-09-02 06:17:00+09:00 2024-09-02 06:17:00+09:00   \n",
       "2 2024-09-02 06:18:00+09:00 2024-09-02 06:18:00+09:00   \n",
       "3 2024-09-02 06:20:00+09:00 2024-09-02 06:20:00+09:00   \n",
       "4 2024-09-02 06:42:00+09:00 2024-09-02 06:42:00+09:00   \n",
       "\n",
       "                    started                         finished  \n",
       "0 2024-09-02 06:16:00+09:00 2024-09-02 06:16:59.999999+09:00  \n",
       "1 2024-09-02 06:17:00+09:00 2024-09-02 06:17:59.999999+09:00  \n",
       "2 2024-09-02 06:18:00+09:00 2024-09-02 06:18:59.999999+09:00  \n",
       "3 2024-09-02 06:20:00+09:00 2024-09-02 06:20:59.999999+09:00  \n",
       "4 2024-09-02 06:42:00+09:00 2024-09-02 06:42:59.999999+09:00  "
      ]
     },
     "execution_count": 18,
     "metadata": {},
     "output_type": "execute_result"
    }
   ],
   "source": [
    "cols = ['Started', 'Finished', 'started', 'finished']\n",
    "act_df[cols].head()"
   ]
  },
  {
   "cell_type": "code",
   "execution_count": 27,
   "id": "0955ceee",
   "metadata": {},
   "outputs": [
    {
     "name": "stdout",
     "output_type": "stream",
     "text": [
      "number of na rows per columns:\n"
     ]
    },
    {
     "data": {
      "text/plain": [
       "ID                   0\n",
       "Activity Type ID     0\n",
       "Activity Type        0\n",
       "Started             66\n",
       "Finished            67\n",
       "Updated              0\n",
       "Subject              0\n",
       "started             66\n",
       "finished            67\n",
       "dtype: int64"
      ]
     },
     "metadata": {},
     "output_type": "display_data"
    },
    {
     "name": "stdout",
     "output_type": "stream",
     "text": [
      "number of duplicated activity rows: 128\n",
      "act_df shape: (342, 9)\n"
     ]
    }
   ],
   "source": [
    "# Clean up the dataset\n",
    "print('number of na rows per columns:')\n",
    "display(act_df.isna().sum())\n",
    "cols = ['Activity Type', 'Started', 'Finished']\n",
    "print(f'number of duplicated activity rows: {act_df.duplicated(subset=cols, keep='last').sum()}')\n",
    "print(f'act_df shape: {act_df.shape}')"
   ]
  },
  {
   "cell_type": "markdown",
   "id": "acff07e4",
   "metadata": {},
   "source": [
    "From the above, we can see that this dataset is really bad. We need to clean the na, and duplicated rows."
   ]
  },
  {
   "cell_type": "code",
   "execution_count": 34,
   "id": "414276f1",
   "metadata": {},
   "outputs": [
    {
     "name": "stdout",
     "output_type": "stream",
     "text": [
      "act_df shape: (203, 9)\n"
     ]
    },
    {
     "data": {
      "application/vnd.microsoft.datawrangler.viewer.v0+json": {
       "columns": [
        {
         "name": "index",
         "rawType": "int64",
         "type": "integer"
        },
        {
         "name": "ID",
         "rawType": "int64",
         "type": "integer"
        },
        {
         "name": "Activity Type ID",
         "rawType": "int64",
         "type": "integer"
        },
        {
         "name": "Activity Type",
         "rawType": "object",
         "type": "string"
        },
        {
         "name": "Started",
         "rawType": "datetime64[ns, UTC+09:00]",
         "type": "unknown"
        },
        {
         "name": "Finished",
         "rawType": "datetime64[ns, UTC+09:00]",
         "type": "unknown"
        },
        {
         "name": "Updated",
         "rawType": "datetime64[ns, UTC+09:00]",
         "type": "unknown"
        },
        {
         "name": "Subject",
         "rawType": "object",
         "type": "string"
        },
        {
         "name": "started",
         "rawType": "datetime64[ns, UTC+09:00]",
         "type": "unknown"
        },
        {
         "name": "finished",
         "rawType": "datetime64[ns, UTC+09:00]",
         "type": "unknown"
        }
       ],
       "conversionMethod": "pd.DataFrame",
       "ref": "c0cf2c2a-9b62-4753-af35-34936fcba9e7",
       "rows": [
        [
         "0",
         "1130306",
         "2806",
         "1 (FACING camera) Sit and stand",
         "2024-09-02 06:44:00+09:00",
         "2024-09-02 06:44:00+09:00",
         "2024-09-02 06:44:00+09:00",
         "U1",
         "2024-09-02 06:44:00+09:00",
         "2024-09-02 06:44:59.999999+09:00"
        ],
        [
         "1",
         "1137246",
         "2806",
         "1 (FACING camera) Sit and stand",
         "2024-09-03 21:21:00+09:00",
         "2024-09-03 21:21:00+09:00",
         "2024-09-03 21:42:00+09:00",
         "U1",
         "2024-09-03 21:21:00+09:00",
         "2024-09-03 21:21:59.999999+09:00"
        ],
        [
         "2",
         "1137278",
         "2806",
         "1 (FACING camera) Sit and stand",
         "2024-09-03 21:22:00+09:00",
         "2024-09-03 21:22:00+09:00",
         "2024-09-03 21:38:00+09:00",
         "U1",
         "2024-09-03 21:22:00+09:00",
         "2024-09-03 21:22:59.999999+09:00"
        ],
        [
         "3",
         "1137252",
         "2807",
         "2 (FACING camera) both hands SHAKING (sitting position)",
         "2024-09-03 21:23:00+09:00",
         "2024-09-03 21:23:00+09:00",
         "2024-09-03 21:42:00+09:00",
         "U1",
         "2024-09-03 21:23:00+09:00",
         "2024-09-03 21:23:59.999999+09:00"
        ],
        [
         "4",
         "1137255",
         "2808",
         "3 Stand up from chair - both hands with SHAKING",
         "2024-09-03 21:24:00+09:00",
         "2024-09-03 21:24:00+09:00",
         "2024-09-03 21:42:00+09:00",
         "U1",
         "2024-09-03 21:24:00+09:00",
         "2024-09-03 21:24:59.999999+09:00"
        ]
       ],
       "shape": {
        "columns": 9,
        "rows": 5
       }
      },
      "text/html": [
       "<div>\n",
       "<style scoped>\n",
       "    .dataframe tbody tr th:only-of-type {\n",
       "        vertical-align: middle;\n",
       "    }\n",
       "\n",
       "    .dataframe tbody tr th {\n",
       "        vertical-align: top;\n",
       "    }\n",
       "\n",
       "    .dataframe thead th {\n",
       "        text-align: right;\n",
       "    }\n",
       "</style>\n",
       "<table border=\"1\" class=\"dataframe\">\n",
       "  <thead>\n",
       "    <tr style=\"text-align: right;\">\n",
       "      <th></th>\n",
       "      <th>ID</th>\n",
       "      <th>Activity Type ID</th>\n",
       "      <th>Activity Type</th>\n",
       "      <th>Started</th>\n",
       "      <th>Finished</th>\n",
       "      <th>Updated</th>\n",
       "      <th>Subject</th>\n",
       "      <th>started</th>\n",
       "      <th>finished</th>\n",
       "    </tr>\n",
       "  </thead>\n",
       "  <tbody>\n",
       "    <tr>\n",
       "      <th>0</th>\n",
       "      <td>1130306</td>\n",
       "      <td>2806</td>\n",
       "      <td>1 (FACING camera) Sit and stand</td>\n",
       "      <td>2024-09-02 06:44:00+09:00</td>\n",
       "      <td>2024-09-02 06:44:00+09:00</td>\n",
       "      <td>2024-09-02 06:44:00+09:00</td>\n",
       "      <td>U1</td>\n",
       "      <td>2024-09-02 06:44:00+09:00</td>\n",
       "      <td>2024-09-02 06:44:59.999999+09:00</td>\n",
       "    </tr>\n",
       "    <tr>\n",
       "      <th>1</th>\n",
       "      <td>1137246</td>\n",
       "      <td>2806</td>\n",
       "      <td>1 (FACING camera) Sit and stand</td>\n",
       "      <td>2024-09-03 21:21:00+09:00</td>\n",
       "      <td>2024-09-03 21:21:00+09:00</td>\n",
       "      <td>2024-09-03 21:42:00+09:00</td>\n",
       "      <td>U1</td>\n",
       "      <td>2024-09-03 21:21:00+09:00</td>\n",
       "      <td>2024-09-03 21:21:59.999999+09:00</td>\n",
       "    </tr>\n",
       "    <tr>\n",
       "      <th>2</th>\n",
       "      <td>1137278</td>\n",
       "      <td>2806</td>\n",
       "      <td>1 (FACING camera) Sit and stand</td>\n",
       "      <td>2024-09-03 21:22:00+09:00</td>\n",
       "      <td>2024-09-03 21:22:00+09:00</td>\n",
       "      <td>2024-09-03 21:38:00+09:00</td>\n",
       "      <td>U1</td>\n",
       "      <td>2024-09-03 21:22:00+09:00</td>\n",
       "      <td>2024-09-03 21:22:59.999999+09:00</td>\n",
       "    </tr>\n",
       "    <tr>\n",
       "      <th>3</th>\n",
       "      <td>1137252</td>\n",
       "      <td>2807</td>\n",
       "      <td>2 (FACING camera) both hands SHAKING (sitting ...</td>\n",
       "      <td>2024-09-03 21:23:00+09:00</td>\n",
       "      <td>2024-09-03 21:23:00+09:00</td>\n",
       "      <td>2024-09-03 21:42:00+09:00</td>\n",
       "      <td>U1</td>\n",
       "      <td>2024-09-03 21:23:00+09:00</td>\n",
       "      <td>2024-09-03 21:23:59.999999+09:00</td>\n",
       "    </tr>\n",
       "    <tr>\n",
       "      <th>4</th>\n",
       "      <td>1137255</td>\n",
       "      <td>2808</td>\n",
       "      <td>3 Stand up from chair - both hands with SHAKING</td>\n",
       "      <td>2024-09-03 21:24:00+09:00</td>\n",
       "      <td>2024-09-03 21:24:00+09:00</td>\n",
       "      <td>2024-09-03 21:42:00+09:00</td>\n",
       "      <td>U1</td>\n",
       "      <td>2024-09-03 21:24:00+09:00</td>\n",
       "      <td>2024-09-03 21:24:59.999999+09:00</td>\n",
       "    </tr>\n",
       "  </tbody>\n",
       "</table>\n",
       "</div>"
      ],
      "text/plain": [
       "        ID  Activity Type ID  \\\n",
       "0  1130306              2806   \n",
       "1  1137246              2806   \n",
       "2  1137278              2806   \n",
       "3  1137252              2807   \n",
       "4  1137255              2808   \n",
       "\n",
       "                                       Activity Type  \\\n",
       "0                    1 (FACING camera) Sit and stand   \n",
       "1                    1 (FACING camera) Sit and stand   \n",
       "2                    1 (FACING camera) Sit and stand   \n",
       "3  2 (FACING camera) both hands SHAKING (sitting ...   \n",
       "4    3 Stand up from chair - both hands with SHAKING   \n",
       "\n",
       "                    Started                  Finished  \\\n",
       "0 2024-09-02 06:44:00+09:00 2024-09-02 06:44:00+09:00   \n",
       "1 2024-09-03 21:21:00+09:00 2024-09-03 21:21:00+09:00   \n",
       "2 2024-09-03 21:22:00+09:00 2024-09-03 21:22:00+09:00   \n",
       "3 2024-09-03 21:23:00+09:00 2024-09-03 21:23:00+09:00   \n",
       "4 2024-09-03 21:24:00+09:00 2024-09-03 21:24:00+09:00   \n",
       "\n",
       "                    Updated Subject                   started  \\\n",
       "0 2024-09-02 06:44:00+09:00      U1 2024-09-02 06:44:00+09:00   \n",
       "1 2024-09-03 21:42:00+09:00      U1 2024-09-03 21:21:00+09:00   \n",
       "2 2024-09-03 21:38:00+09:00      U1 2024-09-03 21:22:00+09:00   \n",
       "3 2024-09-03 21:42:00+09:00      U1 2024-09-03 21:23:00+09:00   \n",
       "4 2024-09-03 21:42:00+09:00      U1 2024-09-03 21:24:00+09:00   \n",
       "\n",
       "                          finished  \n",
       "0 2024-09-02 06:44:59.999999+09:00  \n",
       "1 2024-09-03 21:21:59.999999+09:00  \n",
       "2 2024-09-03 21:22:59.999999+09:00  \n",
       "3 2024-09-03 21:23:59.999999+09:00  \n",
       "4 2024-09-03 21:24:59.999999+09:00  "
      ]
     },
     "metadata": {},
     "output_type": "display_data"
    }
   ],
   "source": [
    "# drop na rows in act_df and sort by subject\n",
    "# test_df = act_df.copy()\n",
    "act_df = act_df.dropna()\n",
    "cols = ['Activity Type', 'Started', 'Finished']\n",
    "act_df = act_df.drop_duplicates(subset=cols, keep='last')\n",
    "act_df = act_df.sort_values(by=['Subject', 'started'])\n",
    "\n",
    "act_df = act_df.reset_index(drop=True)\n",
    "print(f'act_df shape: {act_df.shape}')\n",
    "display(act_df.head())\n",
    "# del test_df"
   ]
  },
  {
   "cell_type": "code",
   "execution_count": 36,
   "id": "0a49d813",
   "metadata": {},
   "outputs": [],
   "source": [
    "\"\"\"\n",
    "Segmenting the dataset into one dataframe per activity\n",
    "Description:\n",
    "- Each activity will has its own dataframe, which contains all the timestamps and accelerometer data within the activity time range.\n",
    "\"\"\"\n",
    "from datetime import timedelta\n",
    "\n",
    "seg_label_list = [] # segment's (1 sample's) label list (label mean \"activity_type_id\", \"user_id\" etc.).\n",
    "seg_list = [] # segment's (1 sample's) accelerometer data list.\n",
    "\n",
    "for i in list(act_df.index):\n",
    "    started_at = act_df.iloc[i]['started']\n",
    "    finished_at = act_df.iloc[i]['finished']\n",
    "    seg = users_df[(users_df['datetime'] >= started_at) & (users_df['datetime'] <= finished_at)]\n",
    "    seg_label = act_df.iloc[i]['Activity Type']\n",
    "    # check if seq is not empty\n",
    "    if len(seg) != 0:\n",
    "        seg_list.append(seg)\n",
    "        seg_label_list.append(seg_label)"
   ]
  },
  {
   "cell_type": "code",
   "execution_count": 37,
   "id": "8574e2ea",
   "metadata": {},
   "outputs": [
    {
     "name": "stdout",
     "output_type": "stream",
     "text": [
      "seg_list: 199, seg_label_list: 199\n"
     ]
    }
   ],
   "source": [
    "print(f'seg_list: {len(seg_list)}, seg_label_list: {len(seg_label_list)}')"
   ]
  }
 ],
 "metadata": {
  "kernelspec": {
   "display_name": "tremor_challenge2",
   "language": "python",
   "name": "python3"
  },
  "language_info": {
   "codemirror_mode": {
    "name": "ipython",
    "version": 3
   },
   "file_extension": ".py",
   "mimetype": "text/x-python",
   "name": "python",
   "nbconvert_exporter": "python",
   "pygments_lexer": "ipython3",
   "version": "3.12.8"
  }
 },
 "nbformat": 4,
 "nbformat_minor": 5
}
