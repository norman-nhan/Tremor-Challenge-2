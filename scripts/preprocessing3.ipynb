{
 "cells": [
  {
   "cell_type": "markdown",
   "id": "1ee03a44",
   "metadata": {},
   "source": [
    "# Loading data & time conversion"
   ]
  },
  {
   "cell_type": "markdown",
   "id": "50cdd9d7",
   "metadata": {},
   "source": [
    "In the TrainActivities.csv, all time-related columns are in JST but doesn't contain UTC information. \n",
    "\n",
    "While all accelerometer data are took in different time zones. \n",
    "\n",
    "Thus we need to add UTC information to activity labels dataset which is UTC+09:00\n",
    "\n",
    "And convert all accelerometer data into the same timezone which is UTC+09:00"
   ]
  },
  {
   "cell_type": "code",
   "execution_count": 14,
   "id": "3714bad8",
   "metadata": {},
   "outputs": [
    {
     "data": {
      "application/vnd.microsoft.datawrangler.viewer.v0+json": {
       "columns": [
        {
         "name": "index",
         "rawType": "int64",
         "type": "integer"
        },
        {
         "name": "ID",
         "rawType": "int64",
         "type": "integer"
        },
        {
         "name": "Activity Type ID",
         "rawType": "int64",
         "type": "integer"
        },
        {
         "name": "Activity Type",
         "rawType": "object",
         "type": "string"
        },
        {
         "name": "Started",
         "rawType": "object",
         "type": "string"
        },
        {
         "name": "Finished",
         "rawType": "object",
         "type": "string"
        },
        {
         "name": "Updated",
         "rawType": "object",
         "type": "string"
        },
        {
         "name": "Subject",
         "rawType": "object",
         "type": "string"
        }
       ],
       "conversionMethod": "pd.DataFrame",
       "ref": "524b0f68-0982-494e-a662-1b8efdc8d3f7",
       "rows": [
        [
         "0",
         "1130251",
         "2806",
         "1 (FACING camera) Sit and stand",
         "2024/09/02 6:16",
         "2024/09/02 6:16",
         "2024/09/02 6:16",
         "U22"
        ],
        [
         "1",
         "1130254",
         "2807",
         "2 (FACING camera) both hands SHAKING (sitting position)",
         "2024/09/02 6:17",
         "2024/09/02 6:17",
         "2024/09/02 6:17",
         "U22"
        ],
        [
         "2",
         "1130257",
         "2807",
         "2 (FACING camera) both hands SHAKING (sitting position)",
         "2024/09/02 6:18",
         "2024/09/02 6:18",
         "2024/09/02 6:18",
         "U22"
        ],
        [
         "3",
         "1130261",
         "2806",
         "1 (FACING camera) Sit and stand",
         "2024/09/02 6:20",
         "2024/09/02 6:20",
         "2024/09/02 6:20",
         "U22"
        ],
        [
         "4",
         "1130292",
         "2806",
         "1 (FACING camera) Sit and stand",
         "2024/09/02 6:42",
         "2024/09/02 6:42",
         "2024/09/02 6:42",
         "U2"
        ]
       ],
       "shape": {
        "columns": 7,
        "rows": 5
       }
      },
      "text/html": [
       "<div>\n",
       "<style scoped>\n",
       "    .dataframe tbody tr th:only-of-type {\n",
       "        vertical-align: middle;\n",
       "    }\n",
       "\n",
       "    .dataframe tbody tr th {\n",
       "        vertical-align: top;\n",
       "    }\n",
       "\n",
       "    .dataframe thead th {\n",
       "        text-align: right;\n",
       "    }\n",
       "</style>\n",
       "<table border=\"1\" class=\"dataframe\">\n",
       "  <thead>\n",
       "    <tr style=\"text-align: right;\">\n",
       "      <th></th>\n",
       "      <th>ID</th>\n",
       "      <th>Activity Type ID</th>\n",
       "      <th>Activity Type</th>\n",
       "      <th>Started</th>\n",
       "      <th>Finished</th>\n",
       "      <th>Updated</th>\n",
       "      <th>Subject</th>\n",
       "    </tr>\n",
       "  </thead>\n",
       "  <tbody>\n",
       "    <tr>\n",
       "      <th>0</th>\n",
       "      <td>1130251</td>\n",
       "      <td>2806</td>\n",
       "      <td>1 (FACING camera) Sit and stand</td>\n",
       "      <td>2024/09/02 6:16</td>\n",
       "      <td>2024/09/02 6:16</td>\n",
       "      <td>2024/09/02 6:16</td>\n",
       "      <td>U22</td>\n",
       "    </tr>\n",
       "    <tr>\n",
       "      <th>1</th>\n",
       "      <td>1130254</td>\n",
       "      <td>2807</td>\n",
       "      <td>2 (FACING camera) both hands SHAKING (sitting ...</td>\n",
       "      <td>2024/09/02 6:17</td>\n",
       "      <td>2024/09/02 6:17</td>\n",
       "      <td>2024/09/02 6:17</td>\n",
       "      <td>U22</td>\n",
       "    </tr>\n",
       "    <tr>\n",
       "      <th>2</th>\n",
       "      <td>1130257</td>\n",
       "      <td>2807</td>\n",
       "      <td>2 (FACING camera) both hands SHAKING (sitting ...</td>\n",
       "      <td>2024/09/02 6:18</td>\n",
       "      <td>2024/09/02 6:18</td>\n",
       "      <td>2024/09/02 6:18</td>\n",
       "      <td>U22</td>\n",
       "    </tr>\n",
       "    <tr>\n",
       "      <th>3</th>\n",
       "      <td>1130261</td>\n",
       "      <td>2806</td>\n",
       "      <td>1 (FACING camera) Sit and stand</td>\n",
       "      <td>2024/09/02 6:20</td>\n",
       "      <td>2024/09/02 6:20</td>\n",
       "      <td>2024/09/02 6:20</td>\n",
       "      <td>U22</td>\n",
       "    </tr>\n",
       "    <tr>\n",
       "      <th>4</th>\n",
       "      <td>1130292</td>\n",
       "      <td>2806</td>\n",
       "      <td>1 (FACING camera) Sit and stand</td>\n",
       "      <td>2024/09/02 6:42</td>\n",
       "      <td>2024/09/02 6:42</td>\n",
       "      <td>2024/09/02 6:42</td>\n",
       "      <td>U2</td>\n",
       "    </tr>\n",
       "  </tbody>\n",
       "</table>\n",
       "</div>"
      ],
      "text/plain": [
       "        ID  Activity Type ID  \\\n",
       "0  1130251              2806   \n",
       "1  1130254              2807   \n",
       "2  1130257              2807   \n",
       "3  1130261              2806   \n",
       "4  1130292              2806   \n",
       "\n",
       "                                       Activity Type          Started  \\\n",
       "0                    1 (FACING camera) Sit and stand  2024/09/02 6:16   \n",
       "1  2 (FACING camera) both hands SHAKING (sitting ...  2024/09/02 6:17   \n",
       "2  2 (FACING camera) both hands SHAKING (sitting ...  2024/09/02 6:18   \n",
       "3                    1 (FACING camera) Sit and stand  2024/09/02 6:20   \n",
       "4                    1 (FACING camera) Sit and stand  2024/09/02 6:42   \n",
       "\n",
       "          Finished          Updated Subject  \n",
       "0  2024/09/02 6:16  2024/09/02 6:16     U22  \n",
       "1  2024/09/02 6:17  2024/09/02 6:17     U22  \n",
       "2  2024/09/02 6:18  2024/09/02 6:18     U22  \n",
       "3  2024/09/02 6:20  2024/09/02 6:20     U22  \n",
       "4  2024/09/02 6:42  2024/09/02 6:42      U2  "
      ]
     },
     "execution_count": 14,
     "metadata": {},
     "output_type": "execute_result"
    }
   ],
   "source": [
    "import pandas as pd\n",
    "# load activity data\n",
    "act_df = pd.read_csv('../data/TrainingDataPD25/TrainActivities.csv')\n",
    "act_df.head()"
   ]
  },
  {
   "cell_type": "code",
   "execution_count": 15,
   "id": "daa06a1c",
   "metadata": {},
   "outputs": [],
   "source": [
    "def convert_to_jst(df, columns):\n",
    "    for col in columns:\n",
    "        df[col] = pd.to_datetime(df[col], format='%Y/%m/%d %H:%M', errors='coerce')\n",
    "        df[col] = df[col].dt.tz_localize('UTC+09:00')\n",
    "\n",
    "cols = ['Started', 'Finished', 'Updated']\n",
    "convert_to_jst(act_df, cols)"
   ]
  },
  {
   "cell_type": "code",
   "execution_count": 16,
   "id": "f9b66130",
   "metadata": {},
   "outputs": [
    {
     "name": "stdout",
     "output_type": "stream",
     "text": [
      "UTC+09:00\n"
     ]
    },
    {
     "data": {
      "application/vnd.microsoft.datawrangler.viewer.v0+json": {
       "columns": [
        {
         "name": "index",
         "rawType": "int64",
         "type": "integer"
        },
        {
         "name": "ID",
         "rawType": "int64",
         "type": "integer"
        },
        {
         "name": "Activity Type ID",
         "rawType": "int64",
         "type": "integer"
        },
        {
         "name": "Activity Type",
         "rawType": "object",
         "type": "string"
        },
        {
         "name": "Started",
         "rawType": "datetime64[ns, UTC+09:00]",
         "type": "unknown"
        },
        {
         "name": "Finished",
         "rawType": "datetime64[ns, UTC+09:00]",
         "type": "unknown"
        },
        {
         "name": "Updated",
         "rawType": "datetime64[ns, UTC+09:00]",
         "type": "unknown"
        },
        {
         "name": "Subject",
         "rawType": "object",
         "type": "string"
        }
       ],
       "conversionMethod": "pd.DataFrame",
       "ref": "8fe7c0a5-0180-4792-8304-5ca6a3aa04ca",
       "rows": [
        [
         "0",
         "1130251",
         "2806",
         "1 (FACING camera) Sit and stand",
         "2024-09-02 06:16:00+09:00",
         "2024-09-02 06:16:00+09:00",
         "2024-09-02 06:16:00+09:00",
         "U22"
        ],
        [
         "1",
         "1130254",
         "2807",
         "2 (FACING camera) both hands SHAKING (sitting position)",
         "2024-09-02 06:17:00+09:00",
         "2024-09-02 06:17:00+09:00",
         "2024-09-02 06:17:00+09:00",
         "U22"
        ],
        [
         "2",
         "1130257",
         "2807",
         "2 (FACING camera) both hands SHAKING (sitting position)",
         "2024-09-02 06:18:00+09:00",
         "2024-09-02 06:18:00+09:00",
         "2024-09-02 06:18:00+09:00",
         "U22"
        ],
        [
         "3",
         "1130261",
         "2806",
         "1 (FACING camera) Sit and stand",
         "2024-09-02 06:20:00+09:00",
         "2024-09-02 06:20:00+09:00",
         "2024-09-02 06:20:00+09:00",
         "U22"
        ],
        [
         "4",
         "1130292",
         "2806",
         "1 (FACING camera) Sit and stand",
         "2024-09-02 06:42:00+09:00",
         "2024-09-02 06:42:00+09:00",
         "2024-09-02 06:42:00+09:00",
         "U2"
        ]
       ],
       "shape": {
        "columns": 7,
        "rows": 5
       }
      },
      "text/html": [
       "<div>\n",
       "<style scoped>\n",
       "    .dataframe tbody tr th:only-of-type {\n",
       "        vertical-align: middle;\n",
       "    }\n",
       "\n",
       "    .dataframe tbody tr th {\n",
       "        vertical-align: top;\n",
       "    }\n",
       "\n",
       "    .dataframe thead th {\n",
       "        text-align: right;\n",
       "    }\n",
       "</style>\n",
       "<table border=\"1\" class=\"dataframe\">\n",
       "  <thead>\n",
       "    <tr style=\"text-align: right;\">\n",
       "      <th></th>\n",
       "      <th>ID</th>\n",
       "      <th>Activity Type ID</th>\n",
       "      <th>Activity Type</th>\n",
       "      <th>Started</th>\n",
       "      <th>Finished</th>\n",
       "      <th>Updated</th>\n",
       "      <th>Subject</th>\n",
       "    </tr>\n",
       "  </thead>\n",
       "  <tbody>\n",
       "    <tr>\n",
       "      <th>0</th>\n",
       "      <td>1130251</td>\n",
       "      <td>2806</td>\n",
       "      <td>1 (FACING camera) Sit and stand</td>\n",
       "      <td>2024-09-02 06:16:00+09:00</td>\n",
       "      <td>2024-09-02 06:16:00+09:00</td>\n",
       "      <td>2024-09-02 06:16:00+09:00</td>\n",
       "      <td>U22</td>\n",
       "    </tr>\n",
       "    <tr>\n",
       "      <th>1</th>\n",
       "      <td>1130254</td>\n",
       "      <td>2807</td>\n",
       "      <td>2 (FACING camera) both hands SHAKING (sitting ...</td>\n",
       "      <td>2024-09-02 06:17:00+09:00</td>\n",
       "      <td>2024-09-02 06:17:00+09:00</td>\n",
       "      <td>2024-09-02 06:17:00+09:00</td>\n",
       "      <td>U22</td>\n",
       "    </tr>\n",
       "    <tr>\n",
       "      <th>2</th>\n",
       "      <td>1130257</td>\n",
       "      <td>2807</td>\n",
       "      <td>2 (FACING camera) both hands SHAKING (sitting ...</td>\n",
       "      <td>2024-09-02 06:18:00+09:00</td>\n",
       "      <td>2024-09-02 06:18:00+09:00</td>\n",
       "      <td>2024-09-02 06:18:00+09:00</td>\n",
       "      <td>U22</td>\n",
       "    </tr>\n",
       "    <tr>\n",
       "      <th>3</th>\n",
       "      <td>1130261</td>\n",
       "      <td>2806</td>\n",
       "      <td>1 (FACING camera) Sit and stand</td>\n",
       "      <td>2024-09-02 06:20:00+09:00</td>\n",
       "      <td>2024-09-02 06:20:00+09:00</td>\n",
       "      <td>2024-09-02 06:20:00+09:00</td>\n",
       "      <td>U22</td>\n",
       "    </tr>\n",
       "    <tr>\n",
       "      <th>4</th>\n",
       "      <td>1130292</td>\n",
       "      <td>2806</td>\n",
       "      <td>1 (FACING camera) Sit and stand</td>\n",
       "      <td>2024-09-02 06:42:00+09:00</td>\n",
       "      <td>2024-09-02 06:42:00+09:00</td>\n",
       "      <td>2024-09-02 06:42:00+09:00</td>\n",
       "      <td>U2</td>\n",
       "    </tr>\n",
       "  </tbody>\n",
       "</table>\n",
       "</div>"
      ],
      "text/plain": [
       "        ID  Activity Type ID  \\\n",
       "0  1130251              2806   \n",
       "1  1130254              2807   \n",
       "2  1130257              2807   \n",
       "3  1130261              2806   \n",
       "4  1130292              2806   \n",
       "\n",
       "                                       Activity Type  \\\n",
       "0                    1 (FACING camera) Sit and stand   \n",
       "1  2 (FACING camera) both hands SHAKING (sitting ...   \n",
       "2  2 (FACING camera) both hands SHAKING (sitting ...   \n",
       "3                    1 (FACING camera) Sit and stand   \n",
       "4                    1 (FACING camera) Sit and stand   \n",
       "\n",
       "                    Started                  Finished  \\\n",
       "0 2024-09-02 06:16:00+09:00 2024-09-02 06:16:00+09:00   \n",
       "1 2024-09-02 06:17:00+09:00 2024-09-02 06:17:00+09:00   \n",
       "2 2024-09-02 06:18:00+09:00 2024-09-02 06:18:00+09:00   \n",
       "3 2024-09-02 06:20:00+09:00 2024-09-02 06:20:00+09:00   \n",
       "4 2024-09-02 06:42:00+09:00 2024-09-02 06:42:00+09:00   \n",
       "\n",
       "                    Updated Subject  \n",
       "0 2024-09-02 06:16:00+09:00     U22  \n",
       "1 2024-09-02 06:17:00+09:00     U22  \n",
       "2 2024-09-02 06:18:00+09:00     U22  \n",
       "3 2024-09-02 06:20:00+09:00     U22  \n",
       "4 2024-09-02 06:42:00+09:00      U2  "
      ]
     },
     "metadata": {},
     "output_type": "display_data"
    }
   ],
   "source": [
    "print(act_df['Started'].dt.tz)\n",
    "display(act_df.head())"
   ]
  },
  {
   "cell_type": "code",
   "execution_count": 2,
   "id": "e59e8509",
   "metadata": {},
   "outputs": [],
   "source": [
    "\"\"\"\n",
    "This dataset contains more than one timezones, but all of them include the UTC offset.\n",
    "\"\"\"\n",
    "\n",
    "# Load all csv files into one dataframe\n",
    "import os\n",
    "import glob\n",
    "from datetime import timezone, timedelta\n",
    "\n",
    "base_dir = '/Users/tptn/MachineLearning/tremor_challenge2/data/TrainingDataPD25/users_timeXYZ/users'\n",
    "\n",
    "headers = ['id', 'datetime', 'x', 'y', 'z']\n",
    "df_list = [] # to store all csv files\n",
    "\n",
    "for id in os.listdir(base_dir):\n",
    "    path = os.path.join(base_dir, id)\n",
    "\n",
    "    if os.path.isdir(path):\n",
    "        files = glob.glob(os.path.join(path, '*.csv'))\n",
    "\n",
    "        for f in files:\n",
    "            df = pd.read_csv(f, header=None, names=headers) # load csv\n",
    "            df['datetime'] = pd.to_datetime(df['datetime'], format='%Y-%m-%dT%H:%M:%S.%f%z') # conver to datetime\n",
    "            tz = df['datetime'].dt.tz # get the timezone\n",
    "            if tz != 'UTC+09:00':\n",
    "                df['datetime'] = df['datetime'].dt.tz_convert('UTC+09:00')\n",
    "            df_list.append(df)\n",
    "\n",
    "users_df = pd.concat(df_list, ignore_index=True)"
   ]
  },
  {
   "cell_type": "code",
   "execution_count": 3,
   "id": "d45a1919",
   "metadata": {},
   "outputs": [
    {
     "data": {
      "text/plain": [
       "datetime.timezone(datetime.timedelta(seconds=32400))"
      ]
     },
     "execution_count": 3,
     "metadata": {},
     "output_type": "execute_result"
    }
   ],
   "source": [
    "users_df['datetime'].dt.tz"
   ]
  },
  {
   "cell_type": "code",
   "execution_count": 50,
   "id": "5cdc1407",
   "metadata": {},
   "outputs": [
    {
     "data": {
      "application/vnd.microsoft.datawrangler.viewer.v0+json": {
       "columns": [
        {
         "name": "index",
         "rawType": "int64",
         "type": "integer"
        },
        {
         "name": "id",
         "rawType": "int64",
         "type": "integer"
        },
        {
         "name": "datetime",
         "rawType": "datetime64[ns, UTC+09:00]",
         "type": "unknown"
        },
        {
         "name": "x",
         "rawType": "float64",
         "type": "float"
        },
        {
         "name": "y",
         "rawType": "float64",
         "type": "float"
        },
        {
         "name": "z",
         "rawType": "float64",
         "type": "float"
        }
       ],
       "conversionMethod": "pd.DataFrame",
       "ref": "ad43e169-83c0-48b4-9151-5f01f24f8daa",
       "rows": [
        [
         "0",
         "2810",
         "2024-09-10 06:25:37.059000+09:00",
         "7.322",
         "6.469",
         "-0.548"
        ],
        [
         "1",
         "2810",
         "2024-09-10 06:25:37.075000+09:00",
         "7.336",
         "6.364",
         "-0.586"
        ],
        [
         "2",
         "2810",
         "2024-09-10 06:25:37.084000+09:00",
         "7.381",
         "6.271",
         "-0.612"
        ],
        [
         "3",
         "2810",
         "2024-09-10 06:25:37.093000+09:00",
         "7.36",
         "6.194",
         "-0.624"
        ],
        [
         "4",
         "2810",
         "2024-09-10 06:25:37.102000+09:00",
         "7.319",
         "6.098",
         "-0.619"
        ]
       ],
       "shape": {
        "columns": 5,
        "rows": 5
       }
      },
      "text/html": [
       "<div>\n",
       "<style scoped>\n",
       "    .dataframe tbody tr th:only-of-type {\n",
       "        vertical-align: middle;\n",
       "    }\n",
       "\n",
       "    .dataframe tbody tr th {\n",
       "        vertical-align: top;\n",
       "    }\n",
       "\n",
       "    .dataframe thead th {\n",
       "        text-align: right;\n",
       "    }\n",
       "</style>\n",
       "<table border=\"1\" class=\"dataframe\">\n",
       "  <thead>\n",
       "    <tr style=\"text-align: right;\">\n",
       "      <th></th>\n",
       "      <th>id</th>\n",
       "      <th>datetime</th>\n",
       "      <th>x</th>\n",
       "      <th>y</th>\n",
       "      <th>z</th>\n",
       "    </tr>\n",
       "  </thead>\n",
       "  <tbody>\n",
       "    <tr>\n",
       "      <th>0</th>\n",
       "      <td>2810</td>\n",
       "      <td>2024-09-10 06:25:37.059000+09:00</td>\n",
       "      <td>7.322</td>\n",
       "      <td>6.469</td>\n",
       "      <td>-0.548</td>\n",
       "    </tr>\n",
       "    <tr>\n",
       "      <th>1</th>\n",
       "      <td>2810</td>\n",
       "      <td>2024-09-10 06:25:37.075000+09:00</td>\n",
       "      <td>7.336</td>\n",
       "      <td>6.364</td>\n",
       "      <td>-0.586</td>\n",
       "    </tr>\n",
       "    <tr>\n",
       "      <th>2</th>\n",
       "      <td>2810</td>\n",
       "      <td>2024-09-10 06:25:37.084000+09:00</td>\n",
       "      <td>7.381</td>\n",
       "      <td>6.271</td>\n",
       "      <td>-0.612</td>\n",
       "    </tr>\n",
       "    <tr>\n",
       "      <th>3</th>\n",
       "      <td>2810</td>\n",
       "      <td>2024-09-10 06:25:37.093000+09:00</td>\n",
       "      <td>7.360</td>\n",
       "      <td>6.194</td>\n",
       "      <td>-0.624</td>\n",
       "    </tr>\n",
       "    <tr>\n",
       "      <th>4</th>\n",
       "      <td>2810</td>\n",
       "      <td>2024-09-10 06:25:37.102000+09:00</td>\n",
       "      <td>7.319</td>\n",
       "      <td>6.098</td>\n",
       "      <td>-0.619</td>\n",
       "    </tr>\n",
       "  </tbody>\n",
       "</table>\n",
       "</div>"
      ],
      "text/plain": [
       "     id                         datetime      x      y      z\n",
       "0  2810 2024-09-10 06:25:37.059000+09:00  7.322  6.469 -0.548\n",
       "1  2810 2024-09-10 06:25:37.075000+09:00  7.336  6.364 -0.586\n",
       "2  2810 2024-09-10 06:25:37.084000+09:00  7.381  6.271 -0.612\n",
       "3  2810 2024-09-10 06:25:37.093000+09:00  7.360  6.194 -0.624\n",
       "4  2810 2024-09-10 06:25:37.102000+09:00  7.319  6.098 -0.619"
      ]
     },
     "execution_count": 50,
     "metadata": {},
     "output_type": "execute_result"
    }
   ],
   "source": [
    "users_df.head()"
   ]
  },
  {
   "cell_type": "markdown",
   "id": "2cbd20bd",
   "metadata": {},
   "source": [
    "# Matching activity labels with sensor data\n",
    "\n",
    "In order to match the activity labels with the sensor data, we need to consider whether the timestamps in the sensor data are in the started and finished time of the activity or not. However, the started and finished in activity labels dataset do not contain any seconds, which makes no interval exists between started and finished.\n",
    "\n",
    "Solution:\n",
    "- Assume a activity started at H:min:00.000000 and finished at H:min:59.999999"
   ]
  },
  {
   "cell_type": "code",
   "execution_count": 17,
   "id": "3ad16974",
   "metadata": {},
   "outputs": [],
   "source": [
    "act_df['started'] = act_df['Started'].dt.floor('s')\n",
    "act_df['finished'] = act_df['Finished'].dt.floor('s') + pd.Timedelta(minutes=1) - pd.Timedelta(microseconds=1)"
   ]
  },
  {
   "cell_type": "code",
   "execution_count": 18,
   "id": "961e14ed",
   "metadata": {},
   "outputs": [
    {
     "data": {
      "application/vnd.microsoft.datawrangler.viewer.v0+json": {
       "columns": [
        {
         "name": "index",
         "rawType": "int64",
         "type": "integer"
        },
        {
         "name": "Started",
         "rawType": "datetime64[ns, UTC+09:00]",
         "type": "unknown"
        },
        {
         "name": "Finished",
         "rawType": "datetime64[ns, UTC+09:00]",
         "type": "unknown"
        },
        {
         "name": "started",
         "rawType": "datetime64[ns, UTC+09:00]",
         "type": "unknown"
        },
        {
         "name": "finished",
         "rawType": "datetime64[ns, UTC+09:00]",
         "type": "unknown"
        }
       ],
       "conversionMethod": "pd.DataFrame",
       "ref": "cecdcd88-1729-4765-9ba4-9ce06e85cba0",
       "rows": [
        [
         "0",
         "2024-09-02 06:16:00+09:00",
         "2024-09-02 06:16:00+09:00",
         "2024-09-02 06:16:00+09:00",
         "2024-09-02 06:16:59.999999+09:00"
        ],
        [
         "1",
         "2024-09-02 06:17:00+09:00",
         "2024-09-02 06:17:00+09:00",
         "2024-09-02 06:17:00+09:00",
         "2024-09-02 06:17:59.999999+09:00"
        ],
        [
         "2",
         "2024-09-02 06:18:00+09:00",
         "2024-09-02 06:18:00+09:00",
         "2024-09-02 06:18:00+09:00",
         "2024-09-02 06:18:59.999999+09:00"
        ],
        [
         "3",
         "2024-09-02 06:20:00+09:00",
         "2024-09-02 06:20:00+09:00",
         "2024-09-02 06:20:00+09:00",
         "2024-09-02 06:20:59.999999+09:00"
        ],
        [
         "4",
         "2024-09-02 06:42:00+09:00",
         "2024-09-02 06:42:00+09:00",
         "2024-09-02 06:42:00+09:00",
         "2024-09-02 06:42:59.999999+09:00"
        ]
       ],
       "shape": {
        "columns": 4,
        "rows": 5
       }
      },
      "text/html": [
       "<div>\n",
       "<style scoped>\n",
       "    .dataframe tbody tr th:only-of-type {\n",
       "        vertical-align: middle;\n",
       "    }\n",
       "\n",
       "    .dataframe tbody tr th {\n",
       "        vertical-align: top;\n",
       "    }\n",
       "\n",
       "    .dataframe thead th {\n",
       "        text-align: right;\n",
       "    }\n",
       "</style>\n",
       "<table border=\"1\" class=\"dataframe\">\n",
       "  <thead>\n",
       "    <tr style=\"text-align: right;\">\n",
       "      <th></th>\n",
       "      <th>Started</th>\n",
       "      <th>Finished</th>\n",
       "      <th>started</th>\n",
       "      <th>finished</th>\n",
       "    </tr>\n",
       "  </thead>\n",
       "  <tbody>\n",
       "    <tr>\n",
       "      <th>0</th>\n",
       "      <td>2024-09-02 06:16:00+09:00</td>\n",
       "      <td>2024-09-02 06:16:00+09:00</td>\n",
       "      <td>2024-09-02 06:16:00+09:00</td>\n",
       "      <td>2024-09-02 06:16:59.999999+09:00</td>\n",
       "    </tr>\n",
       "    <tr>\n",
       "      <th>1</th>\n",
       "      <td>2024-09-02 06:17:00+09:00</td>\n",
       "      <td>2024-09-02 06:17:00+09:00</td>\n",
       "      <td>2024-09-02 06:17:00+09:00</td>\n",
       "      <td>2024-09-02 06:17:59.999999+09:00</td>\n",
       "    </tr>\n",
       "    <tr>\n",
       "      <th>2</th>\n",
       "      <td>2024-09-02 06:18:00+09:00</td>\n",
       "      <td>2024-09-02 06:18:00+09:00</td>\n",
       "      <td>2024-09-02 06:18:00+09:00</td>\n",
       "      <td>2024-09-02 06:18:59.999999+09:00</td>\n",
       "    </tr>\n",
       "    <tr>\n",
       "      <th>3</th>\n",
       "      <td>2024-09-02 06:20:00+09:00</td>\n",
       "      <td>2024-09-02 06:20:00+09:00</td>\n",
       "      <td>2024-09-02 06:20:00+09:00</td>\n",
       "      <td>2024-09-02 06:20:59.999999+09:00</td>\n",
       "    </tr>\n",
       "    <tr>\n",
       "      <th>4</th>\n",
       "      <td>2024-09-02 06:42:00+09:00</td>\n",
       "      <td>2024-09-02 06:42:00+09:00</td>\n",
       "      <td>2024-09-02 06:42:00+09:00</td>\n",
       "      <td>2024-09-02 06:42:59.999999+09:00</td>\n",
       "    </tr>\n",
       "  </tbody>\n",
       "</table>\n",
       "</div>"
      ],
      "text/plain": [
       "                    Started                  Finished  \\\n",
       "0 2024-09-02 06:16:00+09:00 2024-09-02 06:16:00+09:00   \n",
       "1 2024-09-02 06:17:00+09:00 2024-09-02 06:17:00+09:00   \n",
       "2 2024-09-02 06:18:00+09:00 2024-09-02 06:18:00+09:00   \n",
       "3 2024-09-02 06:20:00+09:00 2024-09-02 06:20:00+09:00   \n",
       "4 2024-09-02 06:42:00+09:00 2024-09-02 06:42:00+09:00   \n",
       "\n",
       "                    started                         finished  \n",
       "0 2024-09-02 06:16:00+09:00 2024-09-02 06:16:59.999999+09:00  \n",
       "1 2024-09-02 06:17:00+09:00 2024-09-02 06:17:59.999999+09:00  \n",
       "2 2024-09-02 06:18:00+09:00 2024-09-02 06:18:59.999999+09:00  \n",
       "3 2024-09-02 06:20:00+09:00 2024-09-02 06:20:59.999999+09:00  \n",
       "4 2024-09-02 06:42:00+09:00 2024-09-02 06:42:59.999999+09:00  "
      ]
     },
     "execution_count": 18,
     "metadata": {},
     "output_type": "execute_result"
    }
   ],
   "source": [
    "cols = ['Started', 'Finished', 'started', 'finished']\n",
    "act_df[cols].head()"
   ]
  },
  {
   "cell_type": "code",
   "execution_count": 27,
   "id": "0955ceee",
   "metadata": {},
   "outputs": [
    {
     "name": "stdout",
     "output_type": "stream",
     "text": [
      "number of na rows per columns:\n"
     ]
    },
    {
     "data": {
      "text/plain": [
       "ID                   0\n",
       "Activity Type ID     0\n",
       "Activity Type        0\n",
       "Started             66\n",
       "Finished            67\n",
       "Updated              0\n",
       "Subject              0\n",
       "started             66\n",
       "finished            67\n",
       "dtype: int64"
      ]
     },
     "metadata": {},
     "output_type": "display_data"
    },
    {
     "name": "stdout",
     "output_type": "stream",
     "text": [
      "number of duplicated activity rows: 128\n",
      "act_df shape: (342, 9)\n"
     ]
    }
   ],
   "source": [
    "# Clean up the dataset\n",
    "print('number of na rows per columns:')\n",
    "display(act_df.isna().sum())\n",
    "cols = ['Activity Type', 'Started', 'Finished']\n",
    "print(f'number of duplicated activity rows: {act_df.duplicated(subset=cols, keep='last').sum()}')\n",
    "print(f'act_df shape: {act_df.shape}')"
   ]
  },
  {
   "cell_type": "markdown",
   "id": "acff07e4",
   "metadata": {},
   "source": [
    "From the above, we can see that this dataset is really bad. We need to clean the na, and duplicated rows."
   ]
  },
  {
   "cell_type": "code",
   "execution_count": 34,
   "id": "414276f1",
   "metadata": {},
   "outputs": [
    {
     "name": "stdout",
     "output_type": "stream",
     "text": [
      "act_df shape: (203, 9)\n"
     ]
    },
    {
     "data": {
      "application/vnd.microsoft.datawrangler.viewer.v0+json": {
       "columns": [
        {
         "name": "index",
         "rawType": "int64",
         "type": "integer"
        },
        {
         "name": "ID",
         "rawType": "int64",
         "type": "integer"
        },
        {
         "name": "Activity Type ID",
         "rawType": "int64",
         "type": "integer"
        },
        {
         "name": "Activity Type",
         "rawType": "object",
         "type": "string"
        },
        {
         "name": "Started",
         "rawType": "datetime64[ns, UTC+09:00]",
         "type": "unknown"
        },
        {
         "name": "Finished",
         "rawType": "datetime64[ns, UTC+09:00]",
         "type": "unknown"
        },
        {
         "name": "Updated",
         "rawType": "datetime64[ns, UTC+09:00]",
         "type": "unknown"
        },
        {
         "name": "Subject",
         "rawType": "object",
         "type": "string"
        },
        {
         "name": "started",
         "rawType": "datetime64[ns, UTC+09:00]",
         "type": "unknown"
        },
        {
         "name": "finished",
         "rawType": "datetime64[ns, UTC+09:00]",
         "type": "unknown"
        }
       ],
       "conversionMethod": "pd.DataFrame",
       "ref": "c0cf2c2a-9b62-4753-af35-34936fcba9e7",
       "rows": [
        [
         "0",
         "1130306",
         "2806",
         "1 (FACING camera) Sit and stand",
         "2024-09-02 06:44:00+09:00",
         "2024-09-02 06:44:00+09:00",
         "2024-09-02 06:44:00+09:00",
         "U1",
         "2024-09-02 06:44:00+09:00",
         "2024-09-02 06:44:59.999999+09:00"
        ],
        [
         "1",
         "1137246",
         "2806",
         "1 (FACING camera) Sit and stand",
         "2024-09-03 21:21:00+09:00",
         "2024-09-03 21:21:00+09:00",
         "2024-09-03 21:42:00+09:00",
         "U1",
         "2024-09-03 21:21:00+09:00",
         "2024-09-03 21:21:59.999999+09:00"
        ],
        [
         "2",
         "1137278",
         "2806",
         "1 (FACING camera) Sit and stand",
         "2024-09-03 21:22:00+09:00",
         "2024-09-03 21:22:00+09:00",
         "2024-09-03 21:38:00+09:00",
         "U1",
         "2024-09-03 21:22:00+09:00",
         "2024-09-03 21:22:59.999999+09:00"
        ],
        [
         "3",
         "1137252",
         "2807",
         "2 (FACING camera) both hands SHAKING (sitting position)",
         "2024-09-03 21:23:00+09:00",
         "2024-09-03 21:23:00+09:00",
         "2024-09-03 21:42:00+09:00",
         "U1",
         "2024-09-03 21:23:00+09:00",
         "2024-09-03 21:23:59.999999+09:00"
        ],
        [
         "4",
         "1137255",
         "2808",
         "3 Stand up from chair - both hands with SHAKING",
         "2024-09-03 21:24:00+09:00",
         "2024-09-03 21:24:00+09:00",
         "2024-09-03 21:42:00+09:00",
         "U1",
         "2024-09-03 21:24:00+09:00",
         "2024-09-03 21:24:59.999999+09:00"
        ]
       ],
       "shape": {
        "columns": 9,
        "rows": 5
       }
      },
      "text/html": [
       "<div>\n",
       "<style scoped>\n",
       "    .dataframe tbody tr th:only-of-type {\n",
       "        vertical-align: middle;\n",
       "    }\n",
       "\n",
       "    .dataframe tbody tr th {\n",
       "        vertical-align: top;\n",
       "    }\n",
       "\n",
       "    .dataframe thead th {\n",
       "        text-align: right;\n",
       "    }\n",
       "</style>\n",
       "<table border=\"1\" class=\"dataframe\">\n",
       "  <thead>\n",
       "    <tr style=\"text-align: right;\">\n",
       "      <th></th>\n",
       "      <th>ID</th>\n",
       "      <th>Activity Type ID</th>\n",
       "      <th>Activity Type</th>\n",
       "      <th>Started</th>\n",
       "      <th>Finished</th>\n",
       "      <th>Updated</th>\n",
       "      <th>Subject</th>\n",
       "      <th>started</th>\n",
       "      <th>finished</th>\n",
       "    </tr>\n",
       "  </thead>\n",
       "  <tbody>\n",
       "    <tr>\n",
       "      <th>0</th>\n",
       "      <td>1130306</td>\n",
       "      <td>2806</td>\n",
       "      <td>1 (FACING camera) Sit and stand</td>\n",
       "      <td>2024-09-02 06:44:00+09:00</td>\n",
       "      <td>2024-09-02 06:44:00+09:00</td>\n",
       "      <td>2024-09-02 06:44:00+09:00</td>\n",
       "      <td>U1</td>\n",
       "      <td>2024-09-02 06:44:00+09:00</td>\n",
       "      <td>2024-09-02 06:44:59.999999+09:00</td>\n",
       "    </tr>\n",
       "    <tr>\n",
       "      <th>1</th>\n",
       "      <td>1137246</td>\n",
       "      <td>2806</td>\n",
       "      <td>1 (FACING camera) Sit and stand</td>\n",
       "      <td>2024-09-03 21:21:00+09:00</td>\n",
       "      <td>2024-09-03 21:21:00+09:00</td>\n",
       "      <td>2024-09-03 21:42:00+09:00</td>\n",
       "      <td>U1</td>\n",
       "      <td>2024-09-03 21:21:00+09:00</td>\n",
       "      <td>2024-09-03 21:21:59.999999+09:00</td>\n",
       "    </tr>\n",
       "    <tr>\n",
       "      <th>2</th>\n",
       "      <td>1137278</td>\n",
       "      <td>2806</td>\n",
       "      <td>1 (FACING camera) Sit and stand</td>\n",
       "      <td>2024-09-03 21:22:00+09:00</td>\n",
       "      <td>2024-09-03 21:22:00+09:00</td>\n",
       "      <td>2024-09-03 21:38:00+09:00</td>\n",
       "      <td>U1</td>\n",
       "      <td>2024-09-03 21:22:00+09:00</td>\n",
       "      <td>2024-09-03 21:22:59.999999+09:00</td>\n",
       "    </tr>\n",
       "    <tr>\n",
       "      <th>3</th>\n",
       "      <td>1137252</td>\n",
       "      <td>2807</td>\n",
       "      <td>2 (FACING camera) both hands SHAKING (sitting ...</td>\n",
       "      <td>2024-09-03 21:23:00+09:00</td>\n",
       "      <td>2024-09-03 21:23:00+09:00</td>\n",
       "      <td>2024-09-03 21:42:00+09:00</td>\n",
       "      <td>U1</td>\n",
       "      <td>2024-09-03 21:23:00+09:00</td>\n",
       "      <td>2024-09-03 21:23:59.999999+09:00</td>\n",
       "    </tr>\n",
       "    <tr>\n",
       "      <th>4</th>\n",
       "      <td>1137255</td>\n",
       "      <td>2808</td>\n",
       "      <td>3 Stand up from chair - both hands with SHAKING</td>\n",
       "      <td>2024-09-03 21:24:00+09:00</td>\n",
       "      <td>2024-09-03 21:24:00+09:00</td>\n",
       "      <td>2024-09-03 21:42:00+09:00</td>\n",
       "      <td>U1</td>\n",
       "      <td>2024-09-03 21:24:00+09:00</td>\n",
       "      <td>2024-09-03 21:24:59.999999+09:00</td>\n",
       "    </tr>\n",
       "  </tbody>\n",
       "</table>\n",
       "</div>"
      ],
      "text/plain": [
       "        ID  Activity Type ID  \\\n",
       "0  1130306              2806   \n",
       "1  1137246              2806   \n",
       "2  1137278              2806   \n",
       "3  1137252              2807   \n",
       "4  1137255              2808   \n",
       "\n",
       "                                       Activity Type  \\\n",
       "0                    1 (FACING camera) Sit and stand   \n",
       "1                    1 (FACING camera) Sit and stand   \n",
       "2                    1 (FACING camera) Sit and stand   \n",
       "3  2 (FACING camera) both hands SHAKING (sitting ...   \n",
       "4    3 Stand up from chair - both hands with SHAKING   \n",
       "\n",
       "                    Started                  Finished  \\\n",
       "0 2024-09-02 06:44:00+09:00 2024-09-02 06:44:00+09:00   \n",
       "1 2024-09-03 21:21:00+09:00 2024-09-03 21:21:00+09:00   \n",
       "2 2024-09-03 21:22:00+09:00 2024-09-03 21:22:00+09:00   \n",
       "3 2024-09-03 21:23:00+09:00 2024-09-03 21:23:00+09:00   \n",
       "4 2024-09-03 21:24:00+09:00 2024-09-03 21:24:00+09:00   \n",
       "\n",
       "                    Updated Subject                   started  \\\n",
       "0 2024-09-02 06:44:00+09:00      U1 2024-09-02 06:44:00+09:00   \n",
       "1 2024-09-03 21:42:00+09:00      U1 2024-09-03 21:21:00+09:00   \n",
       "2 2024-09-03 21:38:00+09:00      U1 2024-09-03 21:22:00+09:00   \n",
       "3 2024-09-03 21:42:00+09:00      U1 2024-09-03 21:23:00+09:00   \n",
       "4 2024-09-03 21:42:00+09:00      U1 2024-09-03 21:24:00+09:00   \n",
       "\n",
       "                          finished  \n",
       "0 2024-09-02 06:44:59.999999+09:00  \n",
       "1 2024-09-03 21:21:59.999999+09:00  \n",
       "2 2024-09-03 21:22:59.999999+09:00  \n",
       "3 2024-09-03 21:23:59.999999+09:00  \n",
       "4 2024-09-03 21:24:59.999999+09:00  "
      ]
     },
     "metadata": {},
     "output_type": "display_data"
    }
   ],
   "source": [
    "# drop na rows in act_df and sort by subject\n",
    "# test_df = act_df.copy()\n",
    "act_df = act_df.dropna()\n",
    "cols = ['Activity Type', 'Started', 'Finished']\n",
    "act_df = act_df.drop_duplicates(subset=cols, keep='last')\n",
    "act_df = act_df.sort_values(by=['Subject', 'started'])\n",
    "\n",
    "act_df = act_df.reset_index(drop=True)\n",
    "print(f'act_df shape: {act_df.shape}')\n",
    "display(act_df.head())\n",
    "# del test_df"
   ]
  },
  {
   "cell_type": "code",
   "execution_count": 36,
   "id": "0a49d813",
   "metadata": {},
   "outputs": [],
   "source": [
    "\"\"\"\n",
    "Segmenting the dataset into one dataframe per activity\n",
    "Description:\n",
    "- Each activity will has its own dataframe, which contains all the timestamps and accelerometer data within the activity time range.\n",
    "\"\"\"\n",
    "from datetime import timedelta\n",
    "\n",
    "seg_label_list = [] # segment's (1 sample's) label list (label mean \"activity_type_id\", \"user_id\" etc.).\n",
    "seg_list = [] # segment's (1 sample's) accelerometer data list.\n",
    "\n",
    "for i in list(act_df.index):\n",
    "    started_at = act_df.iloc[i]['started']\n",
    "    finished_at = act_df.iloc[i]['finished']\n",
    "    seg = users_df[(users_df['datetime'] >= started_at) & (users_df['datetime'] <= finished_at)]\n",
    "    seg_label = act_df.iloc[i]['Activity Type']\n",
    "    # check if seq is not empty\n",
    "    if len(seg) != 0:\n",
    "        seg_list.append(seg)\n",
    "        seg_label_list.append(seg_label)"
   ]
  },
  {
   "cell_type": "code",
   "execution_count": 37,
   "id": "8574e2ea",
   "metadata": {},
   "outputs": [
    {
     "name": "stdout",
     "output_type": "stream",
     "text": [
      "seg_list: 199, seg_label_list: 199\n"
     ]
    }
   ],
   "source": [
    "print(f'seg_list: {len(seg_list)}, seg_label_list: {len(seg_label_list)}')"
   ]
  },
  {
   "cell_type": "markdown",
   "id": "cdd64009",
   "metadata": {},
   "source": [
    "# Feature Extraction"
   ]
  },
  {
   "cell_type": "code",
   "execution_count": 40,
   "id": "edd6f4fa",
   "metadata": {},
   "outputs": [
    {
     "name": "stdout",
     "output_type": "stream",
     "text": [
      "Started date: 2024-09-02\n",
      "Finished date: 2024-09-11\n"
     ]
    }
   ],
   "source": [
    "print(f'Started date: {act_df['Started'].dt.date.min()}')\n",
    "print(f'Finished date: {act_df['Started'].dt.date.max()}')"
   ]
  },
  {
   "cell_type": "markdown",
   "id": "4b0574bb",
   "metadata": {},
   "source": [
    "From the above results, we can know that the year and month values are not important. So that, we can extract the date only then drop year and month"
   ]
  },
  {
   "cell_type": "code",
   "execution_count": 47,
   "id": "f42431e3",
   "metadata": {},
   "outputs": [
    {
     "data": {
      "text/plain": [
       "0       4\n",
       "1       4\n",
       "2       4\n",
       "3       5\n",
       "4       5\n",
       "       ..\n",
       "198    21\n",
       "199    21\n",
       "200    21\n",
       "201    21\n",
       "202    21\n",
       "Name: date, Length: 203, dtype: int32"
      ]
     },
     "execution_count": 47,
     "metadata": {},
     "output_type": "execute_result"
    }
   ],
   "source": [
    "tmp_df = act_df.copy()\n",
    "tmp_df['date'] = tmp_df['Started'].dt.hour\n",
    "tmp_df.sort_values(inplace=True, by='date', ignore_index=True)\n",
    "tmp_df['date']"
   ]
  },
  {
   "cell_type": "code",
   "execution_count": 53,
   "id": "bdd67fbe",
   "metadata": {},
   "outputs": [],
   "source": [
    "import numpy as np\n",
    "\"\"\"\n",
    "Creator: Krisna\n",
    "\n",
    "Extracting std, mean, max and min from accelerometer data of each activity.\n",
    "\n",
    "Returns:\n",
    "    feats: List of features (which are std, mean, max, min)\n",
    "Args:\n",
    "    df: dataframe\n",
    "Usages:\n",
    "    feats_list = []\n",
    "    for df in seg_list:\n",
    "        feats_list.append(get_feats(df))\n",
    "\"\"\"\n",
    "def get_feats(df, columns=['x', 'y', 'z']):\n",
    "    feats = []\n",
    "    for col in columns:\n",
    "        std_ = df[col].std(ddof=0)\n",
    "        mean_ = np.average(df[col])\n",
    "        max_ = np.max(df[col])\n",
    "        min_ = np.min(df[col])\n",
    "        feats.extend([std_, mean_, max_, min_])\n",
    "\n",
    "    return feats"
   ]
  },
  {
   "cell_type": "code",
   "execution_count": 54,
   "id": "43aebd96",
   "metadata": {},
   "outputs": [],
   "source": [
    "feats_list = []\n",
    "for df in seg_list:\n",
    "    feats_list.append(get_feats(df))"
   ]
  },
  {
   "cell_type": "code",
   "execution_count": 56,
   "id": "13c4af28",
   "metadata": {},
   "outputs": [
    {
     "data": {
      "text/plain": [
       "199"
      ]
     },
     "execution_count": 56,
     "metadata": {},
     "output_type": "execute_result"
    }
   ],
   "source": [
    "len(feats_list)"
   ]
  },
  {
   "cell_type": "markdown",
   "id": "9ad0392b",
   "metadata": {},
   "source": [
    "# Training"
   ]
  },
  {
   "cell_type": "code",
   "execution_count": 58,
   "id": "3263d1b4",
   "metadata": {},
   "outputs": [],
   "source": [
    "from sklearn.ensemble import RandomForestClassifier\n",
    "rfc = RandomForestClassifier(n_estimators=500, n_jobs=-1)"
   ]
  },
  {
   "cell_type": "code",
   "execution_count": 59,
   "id": "bfa33eac",
   "metadata": {},
   "outputs": [],
   "source": [
    "from sklearn.model_selection import train_test_split\n",
    "X_train, X_test, y_train, y_test = train_test_split(feats_list, seg_label_list, test_size=0.3, shuffle=True, random_state=42)"
   ]
  },
  {
   "cell_type": "code",
   "execution_count": 60,
   "id": "fcf8683b",
   "metadata": {},
   "outputs": [
    {
     "name": "stdout",
     "output_type": "stream",
     "text": [
      "X_train : (139, 12), Y_train : (139,)\n",
      "X_test : (60, 12), Y_test : (60,)\n"
     ]
    }
   ],
   "source": [
    "print(f\"X_train : {np.array(X_train).shape}, Y_train : {np.array(y_train).shape}\")\n",
    "print(f\"X_test : {np.array(X_test).shape}, Y_test : {np.array(y_test).shape}\")"
   ]
  },
  {
   "cell_type": "code",
   "execution_count": 61,
   "id": "9fb241ee",
   "metadata": {},
   "outputs": [
    {
     "data": {
      "text/html": [
       "<style>#sk-container-id-1 {\n",
       "  /* Definition of color scheme common for light and dark mode */\n",
       "  --sklearn-color-text: #000;\n",
       "  --sklearn-color-text-muted: #666;\n",
       "  --sklearn-color-line: gray;\n",
       "  /* Definition of color scheme for unfitted estimators */\n",
       "  --sklearn-color-unfitted-level-0: #fff5e6;\n",
       "  --sklearn-color-unfitted-level-1: #f6e4d2;\n",
       "  --sklearn-color-unfitted-level-2: #ffe0b3;\n",
       "  --sklearn-color-unfitted-level-3: chocolate;\n",
       "  /* Definition of color scheme for fitted estimators */\n",
       "  --sklearn-color-fitted-level-0: #f0f8ff;\n",
       "  --sklearn-color-fitted-level-1: #d4ebff;\n",
       "  --sklearn-color-fitted-level-2: #b3dbfd;\n",
       "  --sklearn-color-fitted-level-3: cornflowerblue;\n",
       "\n",
       "  /* Specific color for light theme */\n",
       "  --sklearn-color-text-on-default-background: var(--sg-text-color, var(--theme-code-foreground, var(--jp-content-font-color1, black)));\n",
       "  --sklearn-color-background: var(--sg-background-color, var(--theme-background, var(--jp-layout-color0, white)));\n",
       "  --sklearn-color-border-box: var(--sg-text-color, var(--theme-code-foreground, var(--jp-content-font-color1, black)));\n",
       "  --sklearn-color-icon: #696969;\n",
       "\n",
       "  @media (prefers-color-scheme: dark) {\n",
       "    /* Redefinition of color scheme for dark theme */\n",
       "    --sklearn-color-text-on-default-background: var(--sg-text-color, var(--theme-code-foreground, var(--jp-content-font-color1, white)));\n",
       "    --sklearn-color-background: var(--sg-background-color, var(--theme-background, var(--jp-layout-color0, #111)));\n",
       "    --sklearn-color-border-box: var(--sg-text-color, var(--theme-code-foreground, var(--jp-content-font-color1, white)));\n",
       "    --sklearn-color-icon: #878787;\n",
       "  }\n",
       "}\n",
       "\n",
       "#sk-container-id-1 {\n",
       "  color: var(--sklearn-color-text);\n",
       "}\n",
       "\n",
       "#sk-container-id-1 pre {\n",
       "  padding: 0;\n",
       "}\n",
       "\n",
       "#sk-container-id-1 input.sk-hidden--visually {\n",
       "  border: 0;\n",
       "  clip: rect(1px 1px 1px 1px);\n",
       "  clip: rect(1px, 1px, 1px, 1px);\n",
       "  height: 1px;\n",
       "  margin: -1px;\n",
       "  overflow: hidden;\n",
       "  padding: 0;\n",
       "  position: absolute;\n",
       "  width: 1px;\n",
       "}\n",
       "\n",
       "#sk-container-id-1 div.sk-dashed-wrapped {\n",
       "  border: 1px dashed var(--sklearn-color-line);\n",
       "  margin: 0 0.4em 0.5em 0.4em;\n",
       "  box-sizing: border-box;\n",
       "  padding-bottom: 0.4em;\n",
       "  background-color: var(--sklearn-color-background);\n",
       "}\n",
       "\n",
       "#sk-container-id-1 div.sk-container {\n",
       "  /* jupyter's `normalize.less` sets `[hidden] { display: none; }`\n",
       "     but bootstrap.min.css set `[hidden] { display: none !important; }`\n",
       "     so we also need the `!important` here to be able to override the\n",
       "     default hidden behavior on the sphinx rendered scikit-learn.org.\n",
       "     See: https://github.com/scikit-learn/scikit-learn/issues/21755 */\n",
       "  display: inline-block !important;\n",
       "  position: relative;\n",
       "}\n",
       "\n",
       "#sk-container-id-1 div.sk-text-repr-fallback {\n",
       "  display: none;\n",
       "}\n",
       "\n",
       "div.sk-parallel-item,\n",
       "div.sk-serial,\n",
       "div.sk-item {\n",
       "  /* draw centered vertical line to link estimators */\n",
       "  background-image: linear-gradient(var(--sklearn-color-text-on-default-background), var(--sklearn-color-text-on-default-background));\n",
       "  background-size: 2px 100%;\n",
       "  background-repeat: no-repeat;\n",
       "  background-position: center center;\n",
       "}\n",
       "\n",
       "/* Parallel-specific style estimator block */\n",
       "\n",
       "#sk-container-id-1 div.sk-parallel-item::after {\n",
       "  content: \"\";\n",
       "  width: 100%;\n",
       "  border-bottom: 2px solid var(--sklearn-color-text-on-default-background);\n",
       "  flex-grow: 1;\n",
       "}\n",
       "\n",
       "#sk-container-id-1 div.sk-parallel {\n",
       "  display: flex;\n",
       "  align-items: stretch;\n",
       "  justify-content: center;\n",
       "  background-color: var(--sklearn-color-background);\n",
       "  position: relative;\n",
       "}\n",
       "\n",
       "#sk-container-id-1 div.sk-parallel-item {\n",
       "  display: flex;\n",
       "  flex-direction: column;\n",
       "}\n",
       "\n",
       "#sk-container-id-1 div.sk-parallel-item:first-child::after {\n",
       "  align-self: flex-end;\n",
       "  width: 50%;\n",
       "}\n",
       "\n",
       "#sk-container-id-1 div.sk-parallel-item:last-child::after {\n",
       "  align-self: flex-start;\n",
       "  width: 50%;\n",
       "}\n",
       "\n",
       "#sk-container-id-1 div.sk-parallel-item:only-child::after {\n",
       "  width: 0;\n",
       "}\n",
       "\n",
       "/* Serial-specific style estimator block */\n",
       "\n",
       "#sk-container-id-1 div.sk-serial {\n",
       "  display: flex;\n",
       "  flex-direction: column;\n",
       "  align-items: center;\n",
       "  background-color: var(--sklearn-color-background);\n",
       "  padding-right: 1em;\n",
       "  padding-left: 1em;\n",
       "}\n",
       "\n",
       "\n",
       "/* Toggleable style: style used for estimator/Pipeline/ColumnTransformer box that is\n",
       "clickable and can be expanded/collapsed.\n",
       "- Pipeline and ColumnTransformer use this feature and define the default style\n",
       "- Estimators will overwrite some part of the style using the `sk-estimator` class\n",
       "*/\n",
       "\n",
       "/* Pipeline and ColumnTransformer style (default) */\n",
       "\n",
       "#sk-container-id-1 div.sk-toggleable {\n",
       "  /* Default theme specific background. It is overwritten whether we have a\n",
       "  specific estimator or a Pipeline/ColumnTransformer */\n",
       "  background-color: var(--sklearn-color-background);\n",
       "}\n",
       "\n",
       "/* Toggleable label */\n",
       "#sk-container-id-1 label.sk-toggleable__label {\n",
       "  cursor: pointer;\n",
       "  display: flex;\n",
       "  width: 100%;\n",
       "  margin-bottom: 0;\n",
       "  padding: 0.5em;\n",
       "  box-sizing: border-box;\n",
       "  text-align: center;\n",
       "  align-items: start;\n",
       "  justify-content: space-between;\n",
       "  gap: 0.5em;\n",
       "}\n",
       "\n",
       "#sk-container-id-1 label.sk-toggleable__label .caption {\n",
       "  font-size: 0.6rem;\n",
       "  font-weight: lighter;\n",
       "  color: var(--sklearn-color-text-muted);\n",
       "}\n",
       "\n",
       "#sk-container-id-1 label.sk-toggleable__label-arrow:before {\n",
       "  /* Arrow on the left of the label */\n",
       "  content: \"▸\";\n",
       "  float: left;\n",
       "  margin-right: 0.25em;\n",
       "  color: var(--sklearn-color-icon);\n",
       "}\n",
       "\n",
       "#sk-container-id-1 label.sk-toggleable__label-arrow:hover:before {\n",
       "  color: var(--sklearn-color-text);\n",
       "}\n",
       "\n",
       "/* Toggleable content - dropdown */\n",
       "\n",
       "#sk-container-id-1 div.sk-toggleable__content {\n",
       "  max-height: 0;\n",
       "  max-width: 0;\n",
       "  overflow: hidden;\n",
       "  text-align: left;\n",
       "  /* unfitted */\n",
       "  background-color: var(--sklearn-color-unfitted-level-0);\n",
       "}\n",
       "\n",
       "#sk-container-id-1 div.sk-toggleable__content.fitted {\n",
       "  /* fitted */\n",
       "  background-color: var(--sklearn-color-fitted-level-0);\n",
       "}\n",
       "\n",
       "#sk-container-id-1 div.sk-toggleable__content pre {\n",
       "  margin: 0.2em;\n",
       "  border-radius: 0.25em;\n",
       "  color: var(--sklearn-color-text);\n",
       "  /* unfitted */\n",
       "  background-color: var(--sklearn-color-unfitted-level-0);\n",
       "}\n",
       "\n",
       "#sk-container-id-1 div.sk-toggleable__content.fitted pre {\n",
       "  /* unfitted */\n",
       "  background-color: var(--sklearn-color-fitted-level-0);\n",
       "}\n",
       "\n",
       "#sk-container-id-1 input.sk-toggleable__control:checked~div.sk-toggleable__content {\n",
       "  /* Expand drop-down */\n",
       "  max-height: 200px;\n",
       "  max-width: 100%;\n",
       "  overflow: auto;\n",
       "}\n",
       "\n",
       "#sk-container-id-1 input.sk-toggleable__control:checked~label.sk-toggleable__label-arrow:before {\n",
       "  content: \"▾\";\n",
       "}\n",
       "\n",
       "/* Pipeline/ColumnTransformer-specific style */\n",
       "\n",
       "#sk-container-id-1 div.sk-label input.sk-toggleable__control:checked~label.sk-toggleable__label {\n",
       "  color: var(--sklearn-color-text);\n",
       "  background-color: var(--sklearn-color-unfitted-level-2);\n",
       "}\n",
       "\n",
       "#sk-container-id-1 div.sk-label.fitted input.sk-toggleable__control:checked~label.sk-toggleable__label {\n",
       "  background-color: var(--sklearn-color-fitted-level-2);\n",
       "}\n",
       "\n",
       "/* Estimator-specific style */\n",
       "\n",
       "/* Colorize estimator box */\n",
       "#sk-container-id-1 div.sk-estimator input.sk-toggleable__control:checked~label.sk-toggleable__label {\n",
       "  /* unfitted */\n",
       "  background-color: var(--sklearn-color-unfitted-level-2);\n",
       "}\n",
       "\n",
       "#sk-container-id-1 div.sk-estimator.fitted input.sk-toggleable__control:checked~label.sk-toggleable__label {\n",
       "  /* fitted */\n",
       "  background-color: var(--sklearn-color-fitted-level-2);\n",
       "}\n",
       "\n",
       "#sk-container-id-1 div.sk-label label.sk-toggleable__label,\n",
       "#sk-container-id-1 div.sk-label label {\n",
       "  /* The background is the default theme color */\n",
       "  color: var(--sklearn-color-text-on-default-background);\n",
       "}\n",
       "\n",
       "/* On hover, darken the color of the background */\n",
       "#sk-container-id-1 div.sk-label:hover label.sk-toggleable__label {\n",
       "  color: var(--sklearn-color-text);\n",
       "  background-color: var(--sklearn-color-unfitted-level-2);\n",
       "}\n",
       "\n",
       "/* Label box, darken color on hover, fitted */\n",
       "#sk-container-id-1 div.sk-label.fitted:hover label.sk-toggleable__label.fitted {\n",
       "  color: var(--sklearn-color-text);\n",
       "  background-color: var(--sklearn-color-fitted-level-2);\n",
       "}\n",
       "\n",
       "/* Estimator label */\n",
       "\n",
       "#sk-container-id-1 div.sk-label label {\n",
       "  font-family: monospace;\n",
       "  font-weight: bold;\n",
       "  display: inline-block;\n",
       "  line-height: 1.2em;\n",
       "}\n",
       "\n",
       "#sk-container-id-1 div.sk-label-container {\n",
       "  text-align: center;\n",
       "}\n",
       "\n",
       "/* Estimator-specific */\n",
       "#sk-container-id-1 div.sk-estimator {\n",
       "  font-family: monospace;\n",
       "  border: 1px dotted var(--sklearn-color-border-box);\n",
       "  border-radius: 0.25em;\n",
       "  box-sizing: border-box;\n",
       "  margin-bottom: 0.5em;\n",
       "  /* unfitted */\n",
       "  background-color: var(--sklearn-color-unfitted-level-0);\n",
       "}\n",
       "\n",
       "#sk-container-id-1 div.sk-estimator.fitted {\n",
       "  /* fitted */\n",
       "  background-color: var(--sklearn-color-fitted-level-0);\n",
       "}\n",
       "\n",
       "/* on hover */\n",
       "#sk-container-id-1 div.sk-estimator:hover {\n",
       "  /* unfitted */\n",
       "  background-color: var(--sklearn-color-unfitted-level-2);\n",
       "}\n",
       "\n",
       "#sk-container-id-1 div.sk-estimator.fitted:hover {\n",
       "  /* fitted */\n",
       "  background-color: var(--sklearn-color-fitted-level-2);\n",
       "}\n",
       "\n",
       "/* Specification for estimator info (e.g. \"i\" and \"?\") */\n",
       "\n",
       "/* Common style for \"i\" and \"?\" */\n",
       "\n",
       ".sk-estimator-doc-link,\n",
       "a:link.sk-estimator-doc-link,\n",
       "a:visited.sk-estimator-doc-link {\n",
       "  float: right;\n",
       "  font-size: smaller;\n",
       "  line-height: 1em;\n",
       "  font-family: monospace;\n",
       "  background-color: var(--sklearn-color-background);\n",
       "  border-radius: 1em;\n",
       "  height: 1em;\n",
       "  width: 1em;\n",
       "  text-decoration: none !important;\n",
       "  margin-left: 0.5em;\n",
       "  text-align: center;\n",
       "  /* unfitted */\n",
       "  border: var(--sklearn-color-unfitted-level-1) 1pt solid;\n",
       "  color: var(--sklearn-color-unfitted-level-1);\n",
       "}\n",
       "\n",
       ".sk-estimator-doc-link.fitted,\n",
       "a:link.sk-estimator-doc-link.fitted,\n",
       "a:visited.sk-estimator-doc-link.fitted {\n",
       "  /* fitted */\n",
       "  border: var(--sklearn-color-fitted-level-1) 1pt solid;\n",
       "  color: var(--sklearn-color-fitted-level-1);\n",
       "}\n",
       "\n",
       "/* On hover */\n",
       "div.sk-estimator:hover .sk-estimator-doc-link:hover,\n",
       ".sk-estimator-doc-link:hover,\n",
       "div.sk-label-container:hover .sk-estimator-doc-link:hover,\n",
       ".sk-estimator-doc-link:hover {\n",
       "  /* unfitted */\n",
       "  background-color: var(--sklearn-color-unfitted-level-3);\n",
       "  color: var(--sklearn-color-background);\n",
       "  text-decoration: none;\n",
       "}\n",
       "\n",
       "div.sk-estimator.fitted:hover .sk-estimator-doc-link.fitted:hover,\n",
       ".sk-estimator-doc-link.fitted:hover,\n",
       "div.sk-label-container:hover .sk-estimator-doc-link.fitted:hover,\n",
       ".sk-estimator-doc-link.fitted:hover {\n",
       "  /* fitted */\n",
       "  background-color: var(--sklearn-color-fitted-level-3);\n",
       "  color: var(--sklearn-color-background);\n",
       "  text-decoration: none;\n",
       "}\n",
       "\n",
       "/* Span, style for the box shown on hovering the info icon */\n",
       ".sk-estimator-doc-link span {\n",
       "  display: none;\n",
       "  z-index: 9999;\n",
       "  position: relative;\n",
       "  font-weight: normal;\n",
       "  right: .2ex;\n",
       "  padding: .5ex;\n",
       "  margin: .5ex;\n",
       "  width: min-content;\n",
       "  min-width: 20ex;\n",
       "  max-width: 50ex;\n",
       "  color: var(--sklearn-color-text);\n",
       "  box-shadow: 2pt 2pt 4pt #999;\n",
       "  /* unfitted */\n",
       "  background: var(--sklearn-color-unfitted-level-0);\n",
       "  border: .5pt solid var(--sklearn-color-unfitted-level-3);\n",
       "}\n",
       "\n",
       ".sk-estimator-doc-link.fitted span {\n",
       "  /* fitted */\n",
       "  background: var(--sklearn-color-fitted-level-0);\n",
       "  border: var(--sklearn-color-fitted-level-3);\n",
       "}\n",
       "\n",
       ".sk-estimator-doc-link:hover span {\n",
       "  display: block;\n",
       "}\n",
       "\n",
       "/* \"?\"-specific style due to the `<a>` HTML tag */\n",
       "\n",
       "#sk-container-id-1 a.estimator_doc_link {\n",
       "  float: right;\n",
       "  font-size: 1rem;\n",
       "  line-height: 1em;\n",
       "  font-family: monospace;\n",
       "  background-color: var(--sklearn-color-background);\n",
       "  border-radius: 1rem;\n",
       "  height: 1rem;\n",
       "  width: 1rem;\n",
       "  text-decoration: none;\n",
       "  /* unfitted */\n",
       "  color: var(--sklearn-color-unfitted-level-1);\n",
       "  border: var(--sklearn-color-unfitted-level-1) 1pt solid;\n",
       "}\n",
       "\n",
       "#sk-container-id-1 a.estimator_doc_link.fitted {\n",
       "  /* fitted */\n",
       "  border: var(--sklearn-color-fitted-level-1) 1pt solid;\n",
       "  color: var(--sklearn-color-fitted-level-1);\n",
       "}\n",
       "\n",
       "/* On hover */\n",
       "#sk-container-id-1 a.estimator_doc_link:hover {\n",
       "  /* unfitted */\n",
       "  background-color: var(--sklearn-color-unfitted-level-3);\n",
       "  color: var(--sklearn-color-background);\n",
       "  text-decoration: none;\n",
       "}\n",
       "\n",
       "#sk-container-id-1 a.estimator_doc_link.fitted:hover {\n",
       "  /* fitted */\n",
       "  background-color: var(--sklearn-color-fitted-level-3);\n",
       "}\n",
       "</style><div id=\"sk-container-id-1\" class=\"sk-top-container\"><div class=\"sk-text-repr-fallback\"><pre>RandomForestClassifier(n_estimators=500, n_jobs=-1)</pre><b>In a Jupyter environment, please rerun this cell to show the HTML representation or trust the notebook. <br />On GitHub, the HTML representation is unable to render, please try loading this page with nbviewer.org.</b></div><div class=\"sk-container\" hidden><div class=\"sk-item\"><div class=\"sk-estimator fitted sk-toggleable\"><input class=\"sk-toggleable__control sk-hidden--visually\" id=\"sk-estimator-id-1\" type=\"checkbox\" checked><label for=\"sk-estimator-id-1\" class=\"sk-toggleable__label fitted sk-toggleable__label-arrow\"><div><div>RandomForestClassifier</div></div><div><a class=\"sk-estimator-doc-link fitted\" rel=\"noreferrer\" target=\"_blank\" href=\"https://scikit-learn.org/1.6/modules/generated/sklearn.ensemble.RandomForestClassifier.html\">?<span>Documentation for RandomForestClassifier</span></a><span class=\"sk-estimator-doc-link fitted\">i<span>Fitted</span></span></div></label><div class=\"sk-toggleable__content fitted\"><pre>RandomForestClassifier(n_estimators=500, n_jobs=-1)</pre></div> </div></div></div></div>"
      ],
      "text/plain": [
       "RandomForestClassifier(n_estimators=500, n_jobs=-1)"
      ]
     },
     "execution_count": 61,
     "metadata": {},
     "output_type": "execute_result"
    }
   ],
   "source": [
    "rfc.fit(X_train, y_train)"
   ]
  },
  {
   "cell_type": "code",
   "execution_count": 62,
   "id": "1aa3d67e",
   "metadata": {},
   "outputs": [
    {
     "name": "stdout",
     "output_type": "stream",
     "text": [
      "                                                                  precision    recall  f1-score   support\n",
      "\n",
      "                                 1 (FACING camera) Sit and stand       0.00      0.00      0.00         3\n",
      "      10 Slow walk (SHAKING hands/body, tiny step, head forward)       0.80      0.80      0.80         5\n",
      "         2 (FACING camera) both hands SHAKING (sitting position)       0.33      0.29      0.31         7\n",
      "                 3 Stand up from chair - both hands with SHAKING       0.20      0.50      0.29         4\n",
      "                                         4 (Sideway) Sit & stand       0.00      0.00      0.00         9\n",
      "                        5 (Sideway) both hands SHAKING (sitting)       0.33      0.25      0.29         8\n",
      "                  6 (Sideway) STAND up with - both hands SHAKING       0.20      0.29      0.24         7\n",
      "                                     7 Cool down - sitting/relax       0.00      0.00      0.00         3\n",
      "                                8 Walk (LEFT --> Right --> Left)       0.75      0.60      0.67         5\n",
      "9 Walk & STOP/frozen, full body shaking, rotate then return back       0.86      0.67      0.75         9\n",
      "\n",
      "                                                        accuracy                           0.35        60\n",
      "                                                       macro avg       0.35      0.34      0.33        60\n",
      "                                                    weighted avg       0.38      0.35      0.36        60\n",
      "\n"
     ]
    }
   ],
   "source": [
    "from sklearn.metrics import classification_report\n",
    "from sklearn.metrics import confusion_matrix\n",
    "\n",
    "y_predict = rfc.predict(X_test)\n",
    "print(classification_report(y_test, y_predict))\n",
    "# confusion_matrix(y_test, y_predict)"
   ]
  },
  {
   "cell_type": "code",
   "execution_count": 63,
   "id": "ab4b8021",
   "metadata": {},
   "outputs": [
    {
     "data": {
      "image/png": "[encoded data removed]",
      "text/plain": [
       "<Figure size 600x400 with 2 Axes>"
      ]
     },
     "metadata": {},
     "output_type": "display_data"
    }
   ],
   "source": [
    "from sklearn.metrics import confusion_matrix, ConfusionMatrixDisplay\n",
    "import seaborn as sns\n",
    "import matplotlib.pyplot as plt\n",
    "import numpy as np\n",
    "\n",
    "# compute confusion matrix\n",
    "cm = confusion_matrix(y_test, y_predict)\n",
    "labels = np.unique(y_test)\n",
    "\n",
    "# Plot with seaborn\n",
    "plt.figure(figsize=(6, 4))\n",
    "sns.heatmap(cm, annot=True, fmt='d', cmap='Blues', xticklabels=labels, yticklabels=labels)\n",
    "plt.xlabel('Predicted')\n",
    "plt.ylabel('Actual')\n",
    "plt.title('Confusion Matrix')\n",
    "plt.show()"
   ]
  },
  {
   "cell_type": "code",
   "execution_count": null,
   "id": "68faec5c",
   "metadata": {},
   "outputs": [],
   "source": []
  }
 ],
 "metadata": {
  "kernelspec": {
   "display_name": "tremor_challenge2",
   "language": "python",
   "name": "python3"
  },
  "language_info": {
   "codemirror_mode": {
    "name": "ipython",
    "version": 3
   },
   "file_extension": ".py",
   "mimetype": "text/x-python",
   "name": "python",
   "nbconvert_exporter": "python",
   "pygments_lexer": "ipython3",
   "version": "3.12.8"
  }
 },
 "nbformat": 4,
 "nbformat_minor": 5
}
