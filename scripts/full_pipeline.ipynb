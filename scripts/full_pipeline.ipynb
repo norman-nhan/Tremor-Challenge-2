{
 "cells": [
  {
   "cell_type": "markdown",
   "id": "77c037f6",
   "metadata": {},
   "source": [
    "# Load data & Time conversion"
   ]
  },
  {
   "cell_type": "markdown",
   "id": "bf3cfc32",
   "metadata": {},
   "source": [
    "- Acceleration data is have multiple timezones, so we convert them to 'UTC+09:00' for consistency.\n",
    "- Activity data is taken in 'UTC+09:00' timezone, but UTC information is not included in the data. So we localize the datetime to 'UTC+09:00' timezone."
   ]
  },
  {
   "cell_type": "code",
   "execution_count": 9,
   "id": "3f8b64b9",
   "metadata": {},
   "outputs": [
    {
     "data": {
      "application/vnd.microsoft.datawrangler.viewer.v0+json": {
       "columns": [
        {
         "name": "index",
         "rawType": "int64",
         "type": "integer"
        },
        {
         "name": "ID",
         "rawType": "int64",
         "type": "integer"
        },
        {
         "name": "Activity Type ID",
         "rawType": "int64",
         "type": "integer"
        },
        {
         "name": "Activity Type",
         "rawType": "object",
         "type": "string"
        },
        {
         "name": "Started",
         "rawType": "datetime64[ns, UTC+09:00]",
         "type": "unknown"
        },
        {
         "name": "Finished",
         "rawType": "datetime64[ns, UTC+09:00]",
         "type": "unknown"
        },
        {
         "name": "Updated",
         "rawType": "datetime64[ns, UTC+09:00]",
         "type": "unknown"
        },
        {
         "name": "Subject",
         "rawType": "object",
         "type": "string"
        }
       ],
       "ref": "f95aaa12-3c46-4859-a42f-59114227ee60",
       "rows": [
        [
         "0",
         "1130251",
         "2806",
         "1 (FACING camera) Sit and stand",
         "2024-09-02 06:16:00+09:00",
         "2024-09-02 06:16:00+09:00",
         "2024-09-02 06:16:00+09:00",
         "U22"
        ],
        [
         "1",
         "1130254",
         "2807",
         "2 (FACING camera) both hands SHAKING (sitting position)",
         "2024-09-02 06:17:00+09:00",
         "2024-09-02 06:17:00+09:00",
         "2024-09-02 06:17:00+09:00",
         "U22"
        ],
        [
         "2",
         "1130257",
         "2807",
         "2 (FACING camera) both hands SHAKING (sitting position)",
         "2024-09-02 06:18:00+09:00",
         "2024-09-02 06:18:00+09:00",
         "2024-09-02 06:18:00+09:00",
         "U22"
        ],
        [
         "3",
         "1130261",
         "2806",
         "1 (FACING camera) Sit and stand",
         "2024-09-02 06:20:00+09:00",
         "2024-09-02 06:20:00+09:00",
         "2024-09-02 06:20:00+09:00",
         "U22"
        ],
        [
         "4",
         "1130292",
         "2806",
         "1 (FACING camera) Sit and stand",
         "2024-09-02 06:42:00+09:00",
         "2024-09-02 06:42:00+09:00",
         "2024-09-02 06:42:00+09:00",
         "U2"
        ],
        [
         "5",
         "1130293",
         "2807",
         "2 (FACING camera) both hands SHAKING (sitting position)",
         "2024-09-02 06:42:00+09:00",
         "2024-09-02 06:42:00+09:00",
         "2024-09-02 06:42:00+09:00",
         "U2"
        ],
        [
         "6",
         "1130294",
         "2808",
         "3 Stand up from chair - both hands with SHAKING",
         "2024-09-02 06:42:00+09:00",
         "2024-09-02 06:42:00+09:00",
         "2024-09-02 06:42:00+09:00",
         "U2"
        ],
        [
         "7",
         "1130306",
         "2806",
         "1 (FACING camera) Sit and stand",
         "2024-09-02 06:44:00+09:00",
         "2024-09-02 06:44:00+09:00",
         "2024-09-02 06:44:00+09:00",
         "U1"
        ],
        [
         "8",
         "1136872",
         "2806",
         "1 (FACING camera) Sit and stand",
         "2024-09-03 19:56:00+09:00",
         "2024-09-03 19:56:00+09:00",
         "2024-09-03 19:56:00+09:00",
         "U22"
        ],
        [
         "9",
         "1136878",
         "2807",
         "2 (FACING camera) both hands SHAKING (sitting position)",
         "2024-09-03 19:56:00+09:00",
         "2024-09-03 19:57:00+09:00",
         "2024-09-03 19:57:00+09:00",
         "U22"
        ]
       ],
       "shape": {
        "columns": 7,
        "rows": 10
       }
      },
      "text/html": [
       "<div>\n",
       "<style scoped>\n",
       "    .dataframe tbody tr th:only-of-type {\n",
       "        vertical-align: middle;\n",
       "    }\n",
       "\n",
       "    .dataframe tbody tr th {\n",
       "        vertical-align: top;\n",
       "    }\n",
       "\n",
       "    .dataframe thead th {\n",
       "        text-align: right;\n",
       "    }\n",
       "</style>\n",
       "<table border=\"1\" class=\"dataframe\">\n",
       "  <thead>\n",
       "    <tr style=\"text-align: right;\">\n",
       "      <th></th>\n",
       "      <th>ID</th>\n",
       "      <th>Activity Type ID</th>\n",
       "      <th>Activity Type</th>\n",
       "      <th>Started</th>\n",
       "      <th>Finished</th>\n",
       "      <th>Updated</th>\n",
       "      <th>Subject</th>\n",
       "    </tr>\n",
       "  </thead>\n",
       "  <tbody>\n",
       "    <tr>\n",
       "      <th>0</th>\n",
       "      <td>1130251</td>\n",
       "      <td>2806</td>\n",
       "      <td>1 (FACING camera) Sit and stand</td>\n",
       "      <td>2024-09-02 06:16:00+09:00</td>\n",
       "      <td>2024-09-02 06:16:00+09:00</td>\n",
       "      <td>2024-09-02 06:16:00+09:00</td>\n",
       "      <td>U22</td>\n",
       "    </tr>\n",
       "    <tr>\n",
       "      <th>1</th>\n",
       "      <td>1130254</td>\n",
       "      <td>2807</td>\n",
       "      <td>2 (FACING camera) both hands SHAKING (sitting ...</td>\n",
       "      <td>2024-09-02 06:17:00+09:00</td>\n",
       "      <td>2024-09-02 06:17:00+09:00</td>\n",
       "      <td>2024-09-02 06:17:00+09:00</td>\n",
       "      <td>U22</td>\n",
       "    </tr>\n",
       "    <tr>\n",
       "      <th>2</th>\n",
       "      <td>1130257</td>\n",
       "      <td>2807</td>\n",
       "      <td>2 (FACING camera) both hands SHAKING (sitting ...</td>\n",
       "      <td>2024-09-02 06:18:00+09:00</td>\n",
       "      <td>2024-09-02 06:18:00+09:00</td>\n",
       "      <td>2024-09-02 06:18:00+09:00</td>\n",
       "      <td>U22</td>\n",
       "    </tr>\n",
       "    <tr>\n",
       "      <th>3</th>\n",
       "      <td>1130261</td>\n",
       "      <td>2806</td>\n",
       "      <td>1 (FACING camera) Sit and stand</td>\n",
       "      <td>2024-09-02 06:20:00+09:00</td>\n",
       "      <td>2024-09-02 06:20:00+09:00</td>\n",
       "      <td>2024-09-02 06:20:00+09:00</td>\n",
       "      <td>U22</td>\n",
       "    </tr>\n",
       "    <tr>\n",
       "      <th>4</th>\n",
       "      <td>1130292</td>\n",
       "      <td>2806</td>\n",
       "      <td>1 (FACING camera) Sit and stand</td>\n",
       "      <td>2024-09-02 06:42:00+09:00</td>\n",
       "      <td>2024-09-02 06:42:00+09:00</td>\n",
       "      <td>2024-09-02 06:42:00+09:00</td>\n",
       "      <td>U2</td>\n",
       "    </tr>\n",
       "    <tr>\n",
       "      <th>5</th>\n",
       "      <td>1130293</td>\n",
       "      <td>2807</td>\n",
       "      <td>2 (FACING camera) both hands SHAKING (sitting ...</td>\n",
       "      <td>2024-09-02 06:42:00+09:00</td>\n",
       "      <td>2024-09-02 06:42:00+09:00</td>\n",
       "      <td>2024-09-02 06:42:00+09:00</td>\n",
       "      <td>U2</td>\n",
       "    </tr>\n",
       "    <tr>\n",
       "      <th>6</th>\n",
       "      <td>1130294</td>\n",
       "      <td>2808</td>\n",
       "      <td>3 Stand up from chair - both hands with SHAKING</td>\n",
       "      <td>2024-09-02 06:42:00+09:00</td>\n",
       "      <td>2024-09-02 06:42:00+09:00</td>\n",
       "      <td>2024-09-02 06:42:00+09:00</td>\n",
       "      <td>U2</td>\n",
       "    </tr>\n",
       "    <tr>\n",
       "      <th>7</th>\n",
       "      <td>1130306</td>\n",
       "      <td>2806</td>\n",
       "      <td>1 (FACING camera) Sit and stand</td>\n",
       "      <td>2024-09-02 06:44:00+09:00</td>\n",
       "      <td>2024-09-02 06:44:00+09:00</td>\n",
       "      <td>2024-09-02 06:44:00+09:00</td>\n",
       "      <td>U1</td>\n",
       "    </tr>\n",
       "    <tr>\n",
       "      <th>8</th>\n",
       "      <td>1136872</td>\n",
       "      <td>2806</td>\n",
       "      <td>1 (FACING camera) Sit and stand</td>\n",
       "      <td>2024-09-03 19:56:00+09:00</td>\n",
       "      <td>2024-09-03 19:56:00+09:00</td>\n",
       "      <td>2024-09-03 19:56:00+09:00</td>\n",
       "      <td>U22</td>\n",
       "    </tr>\n",
       "    <tr>\n",
       "      <th>9</th>\n",
       "      <td>1136878</td>\n",
       "      <td>2807</td>\n",
       "      <td>2 (FACING camera) both hands SHAKING (sitting ...</td>\n",
       "      <td>2024-09-03 19:56:00+09:00</td>\n",
       "      <td>2024-09-03 19:57:00+09:00</td>\n",
       "      <td>2024-09-03 19:57:00+09:00</td>\n",
       "      <td>U22</td>\n",
       "    </tr>\n",
       "  </tbody>\n",
       "</table>\n",
       "</div>"
      ],
      "text/plain": [
       "        ID  Activity Type ID  \\\n",
       "0  1130251              2806   \n",
       "1  1130254              2807   \n",
       "2  1130257              2807   \n",
       "3  1130261              2806   \n",
       "4  1130292              2806   \n",
       "5  1130293              2807   \n",
       "6  1130294              2808   \n",
       "7  1130306              2806   \n",
       "8  1136872              2806   \n",
       "9  1136878              2807   \n",
       "\n",
       "                                       Activity Type  \\\n",
       "0                    1 (FACING camera) Sit and stand   \n",
       "1  2 (FACING camera) both hands SHAKING (sitting ...   \n",
       "2  2 (FACING camera) both hands SHAKING (sitting ...   \n",
       "3                    1 (FACING camera) Sit and stand   \n",
       "4                    1 (FACING camera) Sit and stand   \n",
       "5  2 (FACING camera) both hands SHAKING (sitting ...   \n",
       "6    3 Stand up from chair - both hands with SHAKING   \n",
       "7                    1 (FACING camera) Sit and stand   \n",
       "8                    1 (FACING camera) Sit and stand   \n",
       "9  2 (FACING camera) both hands SHAKING (sitting ...   \n",
       "\n",
       "                    Started                  Finished  \\\n",
       "0 2024-09-02 06:16:00+09:00 2024-09-02 06:16:00+09:00   \n",
       "1 2024-09-02 06:17:00+09:00 2024-09-02 06:17:00+09:00   \n",
       "2 2024-09-02 06:18:00+09:00 2024-09-02 06:18:00+09:00   \n",
       "3 2024-09-02 06:20:00+09:00 2024-09-02 06:20:00+09:00   \n",
       "4 2024-09-02 06:42:00+09:00 2024-09-02 06:42:00+09:00   \n",
       "5 2024-09-02 06:42:00+09:00 2024-09-02 06:42:00+09:00   \n",
       "6 2024-09-02 06:42:00+09:00 2024-09-02 06:42:00+09:00   \n",
       "7 2024-09-02 06:44:00+09:00 2024-09-02 06:44:00+09:00   \n",
       "8 2024-09-03 19:56:00+09:00 2024-09-03 19:56:00+09:00   \n",
       "9 2024-09-03 19:56:00+09:00 2024-09-03 19:57:00+09:00   \n",
       "\n",
       "                    Updated Subject  \n",
       "0 2024-09-02 06:16:00+09:00     U22  \n",
       "1 2024-09-02 06:17:00+09:00     U22  \n",
       "2 2024-09-02 06:18:00+09:00     U22  \n",
       "3 2024-09-02 06:20:00+09:00     U22  \n",
       "4 2024-09-02 06:42:00+09:00      U2  \n",
       "5 2024-09-02 06:42:00+09:00      U2  \n",
       "6 2024-09-02 06:42:00+09:00      U2  \n",
       "7 2024-09-02 06:44:00+09:00      U1  \n",
       "8 2024-09-03 19:56:00+09:00     U22  \n",
       "9 2024-09-03 19:57:00+09:00     U22  "
      ]
     },
     "execution_count": 9,
     "metadata": {},
     "output_type": "execute_result"
    }
   ],
   "source": [
    "# load activity data\n",
    "import pandas as pd\n",
    "\n",
    "act_dir = '../data/TrainingDataPD25/TrainActivities.csv'\n",
    "\n",
    "def read_act_df(base_dir, time_cols=['Started', 'Finished', 'Updated']):\n",
    "    act_df = pd.read_csv(base_dir)\n",
    "    act_df = act_df.dropna(subset=time_cols)\n",
    "\n",
    "    for col in time_cols:\n",
    "        act_df[col] = pd.to_datetime(act_df[col], format='%Y/%m/%d %H:%M')\n",
    "        if act_df[col].isna().any():\n",
    "            raise ValueError(f\"Column '{col}' contains NaN or unparseable datetime values.\")\n",
    "        act_df[col] = act_df[col].dt.tz_localize('UTC+09:00')\n",
    "\n",
    "    return act_df\n",
    "\n",
    "act_df = read_act_df(act_dir)\n",
    "act_df.head(10)"
   ]
  },
  {
   "cell_type": "code",
   "execution_count": 10,
   "id": "d91fa7e4",
   "metadata": {},
   "outputs": [
    {
     "data": {
      "application/vnd.microsoft.datawrangler.viewer.v0+json": {
       "columns": [
        {
         "name": "index",
         "rawType": "int64",
         "type": "integer"
        },
        {
         "name": "id",
         "rawType": "int64",
         "type": "integer"
        },
        {
         "name": "datetime",
         "rawType": "datetime64[ns, UTC+09:00]",
         "type": "unknown"
        },
        {
         "name": "x",
         "rawType": "float64",
         "type": "float"
        },
        {
         "name": "y",
         "rawType": "float64",
         "type": "float"
        },
        {
         "name": "z",
         "rawType": "float64",
         "type": "float"
        }
       ],
       "ref": "97b094e9-4834-4768-86df-506f1dcf5996",
       "rows": [
        [
         "0",
         "2810",
         "2024-09-10 06:25:37.059000+09:00",
         "7.322",
         "6.469",
         "-0.548"
        ],
        [
         "1",
         "2810",
         "2024-09-10 06:25:37.075000+09:00",
         "7.336",
         "6.364",
         "-0.586"
        ],
        [
         "2",
         "2810",
         "2024-09-10 06:25:37.084000+09:00",
         "7.381",
         "6.271",
         "-0.612"
        ],
        [
         "3",
         "2810",
         "2024-09-10 06:25:37.093000+09:00",
         "7.36",
         "6.194",
         "-0.624"
        ],
        [
         "4",
         "2810",
         "2024-09-10 06:25:37.102000+09:00",
         "7.319",
         "6.098",
         "-0.619"
        ],
        [
         "5",
         "2810",
         "2024-09-10 06:25:37.154000+09:00",
         "7.398",
         "6.036",
         "-0.648"
        ],
        [
         "6",
         "2810",
         "2024-09-10 06:25:37.160000+09:00",
         "7.384",
         "5.967",
         "-0.672"
        ],
        [
         "7",
         "2810",
         "2024-09-10 06:25:37.164000+09:00",
         "7.336",
         "5.921",
         "-0.641"
        ],
        [
         "8",
         "2810",
         "2024-09-10 06:25:37.171000+09:00",
         "7.494",
         "5.959",
         "-0.698"
        ],
        [
         "9",
         "2810",
         "2024-09-10 06:25:37.176000+09:00",
         "7.527",
         "6.002",
         "-0.713"
        ]
       ],
       "shape": {
        "columns": 5,
        "rows": 10
       }
      },
      "text/html": [
       "<div>\n",
       "<style scoped>\n",
       "    .dataframe tbody tr th:only-of-type {\n",
       "        vertical-align: middle;\n",
       "    }\n",
       "\n",
       "    .dataframe tbody tr th {\n",
       "        vertical-align: top;\n",
       "    }\n",
       "\n",
       "    .dataframe thead th {\n",
       "        text-align: right;\n",
       "    }\n",
       "</style>\n",
       "<table border=\"1\" class=\"dataframe\">\n",
       "  <thead>\n",
       "    <tr style=\"text-align: right;\">\n",
       "      <th></th>\n",
       "      <th>id</th>\n",
       "      <th>datetime</th>\n",
       "      <th>x</th>\n",
       "      <th>y</th>\n",
       "      <th>z</th>\n",
       "    </tr>\n",
       "  </thead>\n",
       "  <tbody>\n",
       "    <tr>\n",
       "      <th>0</th>\n",
       "      <td>2810</td>\n",
       "      <td>2024-09-10 06:25:37.059000+09:00</td>\n",
       "      <td>7.322</td>\n",
       "      <td>6.469</td>\n",
       "      <td>-0.548</td>\n",
       "    </tr>\n",
       "    <tr>\n",
       "      <th>1</th>\n",
       "      <td>2810</td>\n",
       "      <td>2024-09-10 06:25:37.075000+09:00</td>\n",
       "      <td>7.336</td>\n",
       "      <td>6.364</td>\n",
       "      <td>-0.586</td>\n",
       "    </tr>\n",
       "    <tr>\n",
       "      <th>2</th>\n",
       "      <td>2810</td>\n",
       "      <td>2024-09-10 06:25:37.084000+09:00</td>\n",
       "      <td>7.381</td>\n",
       "      <td>6.271</td>\n",
       "      <td>-0.612</td>\n",
       "    </tr>\n",
       "    <tr>\n",
       "      <th>3</th>\n",
       "      <td>2810</td>\n",
       "      <td>2024-09-10 06:25:37.093000+09:00</td>\n",
       "      <td>7.360</td>\n",
       "      <td>6.194</td>\n",
       "      <td>-0.624</td>\n",
       "    </tr>\n",
       "    <tr>\n",
       "      <th>4</th>\n",
       "      <td>2810</td>\n",
       "      <td>2024-09-10 06:25:37.102000+09:00</td>\n",
       "      <td>7.319</td>\n",
       "      <td>6.098</td>\n",
       "      <td>-0.619</td>\n",
       "    </tr>\n",
       "    <tr>\n",
       "      <th>5</th>\n",
       "      <td>2810</td>\n",
       "      <td>2024-09-10 06:25:37.154000+09:00</td>\n",
       "      <td>7.398</td>\n",
       "      <td>6.036</td>\n",
       "      <td>-0.648</td>\n",
       "    </tr>\n",
       "    <tr>\n",
       "      <th>6</th>\n",
       "      <td>2810</td>\n",
       "      <td>2024-09-10 06:25:37.160000+09:00</td>\n",
       "      <td>7.384</td>\n",
       "      <td>5.967</td>\n",
       "      <td>-0.672</td>\n",
       "    </tr>\n",
       "    <tr>\n",
       "      <th>7</th>\n",
       "      <td>2810</td>\n",
       "      <td>2024-09-10 06:25:37.164000+09:00</td>\n",
       "      <td>7.336</td>\n",
       "      <td>5.921</td>\n",
       "      <td>-0.641</td>\n",
       "    </tr>\n",
       "    <tr>\n",
       "      <th>8</th>\n",
       "      <td>2810</td>\n",
       "      <td>2024-09-10 06:25:37.171000+09:00</td>\n",
       "      <td>7.494</td>\n",
       "      <td>5.959</td>\n",
       "      <td>-0.698</td>\n",
       "    </tr>\n",
       "    <tr>\n",
       "      <th>9</th>\n",
       "      <td>2810</td>\n",
       "      <td>2024-09-10 06:25:37.176000+09:00</td>\n",
       "      <td>7.527</td>\n",
       "      <td>6.002</td>\n",
       "      <td>-0.713</td>\n",
       "    </tr>\n",
       "  </tbody>\n",
       "</table>\n",
       "</div>"
      ],
      "text/plain": [
       "     id                         datetime      x      y      z\n",
       "0  2810 2024-09-10 06:25:37.059000+09:00  7.322  6.469 -0.548\n",
       "1  2810 2024-09-10 06:25:37.075000+09:00  7.336  6.364 -0.586\n",
       "2  2810 2024-09-10 06:25:37.084000+09:00  7.381  6.271 -0.612\n",
       "3  2810 2024-09-10 06:25:37.093000+09:00  7.360  6.194 -0.624\n",
       "4  2810 2024-09-10 06:25:37.102000+09:00  7.319  6.098 -0.619\n",
       "5  2810 2024-09-10 06:25:37.154000+09:00  7.398  6.036 -0.648\n",
       "6  2810 2024-09-10 06:25:37.160000+09:00  7.384  5.967 -0.672\n",
       "7  2810 2024-09-10 06:25:37.164000+09:00  7.336  5.921 -0.641\n",
       "8  2810 2024-09-10 06:25:37.171000+09:00  7.494  5.959 -0.698\n",
       "9  2810 2024-09-10 06:25:37.176000+09:00  7.527  6.002 -0.713"
      ]
     },
     "execution_count": 10,
     "metadata": {},
     "output_type": "execute_result"
    }
   ],
   "source": [
    "#load acceleration data\n",
    "import os\n",
    "import glob\n",
    "\n",
    "user_dir = '/Users/tptn/MachineLearning/tremor_challenge2/data/TrainingDataPD25/users_timeXYZ/users'\n",
    "headers = ['id', 'datetime', 'x', 'y', 'z']\n",
    "\n",
    "def read_users_df(base_dir, headers):\n",
    "    \"\"\" Read all csv files in users folder \n",
    "    Return:\n",
    "        users_df: a DataFrame contains all csv files\n",
    "    Args:\n",
    "        base_dir: base folder to csv files\n",
    "        headers: headers for csv files\n",
    "    \"\"\"\n",
    "    df_list = [] # to store all csv files\n",
    "    for id in os.listdir(base_dir):\n",
    "        path = os.path.join(base_dir, id)\n",
    "\n",
    "        if os.path.isdir(path):\n",
    "            files = glob.glob(os.path.join(path, '*.csv'))\n",
    "\n",
    "            for f in files:\n",
    "                df = pd.read_csv(f, header=None, names=headers) # load csv\n",
    "                df['datetime'] = pd.to_datetime(df['datetime'], format='%Y-%m-%dT%H:%M:%S.%f%z') # conver to datetime\n",
    "                tz = df['datetime'].dt.tz # get the timezone\n",
    "                if tz != 'UTC+09:00':\n",
    "                    df['datetime'] = df['datetime'].dt.tz_convert('UTC+09:00')\n",
    "                df_list.append(df)\n",
    "    users_df = pd.concat(df_list, ignore_index=True)\n",
    "    return users_df\n",
    "\n",
    "users_df = read_users_df(user_dir, headers)\n",
    "users_df.head(10)"
   ]
  },
  {
   "cell_type": "markdown",
   "id": "efec81ad",
   "metadata": {},
   "source": [
    "# Preparing the data"
   ]
  },
  {
   "cell_type": "markdown",
   "id": "86dbc428",
   "metadata": {},
   "source": [
    "## Drop duplicate rows"
   ]
  },
  {
   "cell_type": "code",
   "execution_count": 16,
   "id": "db18393a",
   "metadata": {},
   "outputs": [
    {
     "data": {
      "text/plain": [
       "(203, 7)"
      ]
     },
     "execution_count": 16,
     "metadata": {},
     "output_type": "execute_result"
    }
   ],
   "source": [
    "def drop_dups(df, dup_cols=['Activity Type', 'Started', 'Finished', 'Subject']):\n",
    "    \"\"\"\n",
    "    Drop duplicated rows (with keep='last') and sort by 'Started' column.\n",
    "    \n",
    "    Returns\n",
    "    -------\n",
    "        DataFrame\n",
    "\n",
    "    Parameters\n",
    "    ----------\n",
    "    df: pandas.DataFrame\n",
    "        Original DataFrame\n",
    "    dup_cols: list of str\n",
    "        Columns to consider for identifying duplicates\n",
    "    \"\"\"\n",
    "    drop_df = df.drop_duplicates(subset=dup_cols, keep='last').sort_values(by=['Started']).reset_index(drop=True)\n",
    "    return drop_df\n",
    "\n",
    "drop_df = drop_dups(act_df)\n",
    "drop_df.shape\n",
    "# act_df.shape"
   ]
  },
  {
   "cell_type": "markdown",
   "id": "8ea71e0b",
   "metadata": {},
   "source": [
    "## Add duration between activity's start and finish \n",
    "- In the TrainActivities.csv, most of them has the same start and finish time, which means there is no duration. \n",
    "- If you want to match the acceleration data with activity type by 'duration', you must add it."
   ]
  },
  {
   "cell_type": "code",
   "execution_count": 22,
   "id": "921ef01b",
   "metadata": {},
   "outputs": [
    {
     "data": {
      "application/vnd.microsoft.datawrangler.viewer.v0+json": {
       "columns": [
        {
         "name": "index",
         "rawType": "int64",
         "type": "integer"
        },
        {
         "name": "Started",
         "rawType": "datetime64[ns, UTC+09:00]",
         "type": "unknown"
        },
        {
         "name": "Finished",
         "rawType": "datetime64[ns, UTC+09:00]",
         "type": "unknown"
        }
       ],
       "ref": "5c9bc1c6-eab7-4bdb-9f22-d2348eb10586",
       "rows": [
        [
         "0",
         "2024-09-02 06:16:00+09:00",
         "2024-09-02 06:16:59.999999+09:00"
        ],
        [
         "1",
         "2024-09-02 06:17:00+09:00",
         "2024-09-02 06:17:59.999999+09:00"
        ],
        [
         "2",
         "2024-09-02 06:18:00+09:00",
         "2024-09-02 06:18:59.999999+09:00"
        ],
        [
         "3",
         "2024-09-02 06:20:00+09:00",
         "2024-09-02 06:20:59.999999+09:00"
        ],
        [
         "4",
         "2024-09-02 06:42:00+09:00",
         "2024-09-02 06:42:59.999999+09:00"
        ],
        [
         "5",
         "2024-09-02 06:42:00+09:00",
         "2024-09-02 06:42:59.999999+09:00"
        ],
        [
         "6",
         "2024-09-02 06:42:00+09:00",
         "2024-09-02 06:42:59.999999+09:00"
        ],
        [
         "7",
         "2024-09-02 06:44:00+09:00",
         "2024-09-02 06:44:59.999999+09:00"
        ],
        [
         "8",
         "2024-09-03 19:56:00+09:00",
         "2024-09-03 19:56:59.999999+09:00"
        ],
        [
         "9",
         "2024-09-03 19:56:00+09:00",
         "2024-09-03 19:57:59.999999+09:00"
        ]
       ],
       "shape": {
        "columns": 2,
        "rows": 10
       }
      },
      "text/html": [
       "<div>\n",
       "<style scoped>\n",
       "    .dataframe tbody tr th:only-of-type {\n",
       "        vertical-align: middle;\n",
       "    }\n",
       "\n",
       "    .dataframe tbody tr th {\n",
       "        vertical-align: top;\n",
       "    }\n",
       "\n",
       "    .dataframe thead th {\n",
       "        text-align: right;\n",
       "    }\n",
       "</style>\n",
       "<table border=\"1\" class=\"dataframe\">\n",
       "  <thead>\n",
       "    <tr style=\"text-align: right;\">\n",
       "      <th></th>\n",
       "      <th>Started</th>\n",
       "      <th>Finished</th>\n",
       "    </tr>\n",
       "  </thead>\n",
       "  <tbody>\n",
       "    <tr>\n",
       "      <th>0</th>\n",
       "      <td>2024-09-02 06:16:00+09:00</td>\n",
       "      <td>2024-09-02 06:16:59.999999+09:00</td>\n",
       "    </tr>\n",
       "    <tr>\n",
       "      <th>1</th>\n",
       "      <td>2024-09-02 06:17:00+09:00</td>\n",
       "      <td>2024-09-02 06:17:59.999999+09:00</td>\n",
       "    </tr>\n",
       "    <tr>\n",
       "      <th>2</th>\n",
       "      <td>2024-09-02 06:18:00+09:00</td>\n",
       "      <td>2024-09-02 06:18:59.999999+09:00</td>\n",
       "    </tr>\n",
       "    <tr>\n",
       "      <th>3</th>\n",
       "      <td>2024-09-02 06:20:00+09:00</td>\n",
       "      <td>2024-09-02 06:20:59.999999+09:00</td>\n",
       "    </tr>\n",
       "    <tr>\n",
       "      <th>4</th>\n",
       "      <td>2024-09-02 06:42:00+09:00</td>\n",
       "      <td>2024-09-02 06:42:59.999999+09:00</td>\n",
       "    </tr>\n",
       "    <tr>\n",
       "      <th>5</th>\n",
       "      <td>2024-09-02 06:42:00+09:00</td>\n",
       "      <td>2024-09-02 06:42:59.999999+09:00</td>\n",
       "    </tr>\n",
       "    <tr>\n",
       "      <th>6</th>\n",
       "      <td>2024-09-02 06:42:00+09:00</td>\n",
       "      <td>2024-09-02 06:42:59.999999+09:00</td>\n",
       "    </tr>\n",
       "    <tr>\n",
       "      <th>7</th>\n",
       "      <td>2024-09-02 06:44:00+09:00</td>\n",
       "      <td>2024-09-02 06:44:59.999999+09:00</td>\n",
       "    </tr>\n",
       "    <tr>\n",
       "      <th>8</th>\n",
       "      <td>2024-09-03 19:56:00+09:00</td>\n",
       "      <td>2024-09-03 19:56:59.999999+09:00</td>\n",
       "    </tr>\n",
       "    <tr>\n",
       "      <th>9</th>\n",
       "      <td>2024-09-03 19:56:00+09:00</td>\n",
       "      <td>2024-09-03 19:57:59.999999+09:00</td>\n",
       "    </tr>\n",
       "  </tbody>\n",
       "</table>\n",
       "</div>"
      ],
      "text/plain": [
       "                    Started                         Finished\n",
       "0 2024-09-02 06:16:00+09:00 2024-09-02 06:16:59.999999+09:00\n",
       "1 2024-09-02 06:17:00+09:00 2024-09-02 06:17:59.999999+09:00\n",
       "2 2024-09-02 06:18:00+09:00 2024-09-02 06:18:59.999999+09:00\n",
       "3 2024-09-02 06:20:00+09:00 2024-09-02 06:20:59.999999+09:00\n",
       "4 2024-09-02 06:42:00+09:00 2024-09-02 06:42:59.999999+09:00\n",
       "5 2024-09-02 06:42:00+09:00 2024-09-02 06:42:59.999999+09:00\n",
       "6 2024-09-02 06:42:00+09:00 2024-09-02 06:42:59.999999+09:00\n",
       "7 2024-09-02 06:44:00+09:00 2024-09-02 06:44:59.999999+09:00\n",
       "8 2024-09-03 19:56:00+09:00 2024-09-03 19:56:59.999999+09:00\n",
       "9 2024-09-03 19:56:00+09:00 2024-09-03 19:57:59.999999+09:00"
      ]
     },
     "execution_count": 22,
     "metadata": {},
     "output_type": "execute_result"
    }
   ],
   "source": [
    "def add_duration(df, start_col='Started', end_col='Finished'):\n",
    "    \"\"\"Adding interval between two given cols\n",
    "    \n",
    "    Return:\n",
    "        DataFrame: a dataframe with added interval between two columns\n",
    "\n",
    "    Args:\n",
    "        df (DataFrame): original dataframe\n",
    "    \"\"\"\n",
    "    df_cp = df.copy()\n",
    "\n",
    "    df_cp[start_col] = df_cp[start_col].dt.floor('s')\n",
    "    df_cp[end_col] = df_cp[end_col].dt.floor('s') + pd.Timedelta(minutes=1) - pd.Timedelta(microseconds=1)\n",
    "\n",
    "    return df_cp\n",
    "\n",
    "duration_added_df = add_duration(drop_df)\n",
    "duration_added_df[['Started', 'Finished']].head(10)"
   ]
  },
  {
   "cell_type": "markdown",
   "id": "70e55abd",
   "metadata": {},
   "source": [
    "# Segmentation"
   ]
  },
  {
   "cell_type": "code",
   "execution_count": 38,
   "id": "a817f0f8",
   "metadata": {},
   "outputs": [],
   "source": [
    "def seg_df_per_start_and_duration(users_df, act_df):\n",
    "    \"\"\"\n",
    "    Segment dataframe into one dataframe per activity time interval.\n",
    "    Each segment contains acceleration data and a set of all overlapping activity labels.\n",
    "\n",
    "    Returns\n",
    "    -------\n",
    "    seg_list: list of DataFrame\n",
    "        List of DataFrames, each DataFrame corresponds to one time interval segment.\n",
    "    seg_label_list: list of set\n",
    "        List of sets of labels, each set corresponds to one acceleration segment with potentially multiple activities.\n",
    "    seg_subject_list: list of str\n",
    "        List of sets of subjects, each set corresponds to one acceleration segment.\n",
    "    \n",
    "    Parameters\n",
    "    ----------\n",
    "    users_df: pandas.DataFrame\n",
    "        A DataFrame containing all acceleration data with a 'datetime' column.\n",
    "    act_df: pandas.DataFrame\n",
    "        A DataFrame containing activity label data with 'Started', 'Finished', 'Activity Type ID', and 'Subject'.\n",
    "    \"\"\"\n",
    "\n",
    "    seg_list = []\n",
    "    seg_label_list = []\n",
    "    seg_subject_list = []\n",
    "\n",
    "    # Get all unique time intervals (start, end)\n",
    "    time_intervals = act_df[['Started', 'Finished']].drop_duplicates()\n",
    "\n",
    "    for _, row in time_intervals.iterrows():\n",
    "        started_at = row['Started']\n",
    "        finished_at = row['Finished']\n",
    "\n",
    "        # Extract the segment from sensor data\n",
    "        seg = users_df[(users_df['datetime'] >= started_at) & (users_df['datetime'] <= finished_at)]\n",
    "\n",
    "        # Get all activities and subjects in this time interval\n",
    "        overlapping_acts = act_df[(act_df['Started'] == started_at) & (act_df['Finished'] == finished_at)]\n",
    "        seg_labels = list(set(overlapping_acts['Activity Type ID'].tolist()))\n",
    "        seg_subjects = str(set(overlapping_acts['Subject'].tolist())) # it should be one subject only, because I already checked that there is only one user per started and duration\n",
    "        # print(set(overlapping_acts['Subject'].tolist()))\n",
    "        if not seg.empty:\n",
    "            seg_list.append(seg)\n",
    "            seg_label_list.append(seg_labels)\n",
    "            seg_subject_list.append(seg_subjects)\n",
    "\n",
    "    return seg_list, seg_label_list, seg_subject_list\n",
    "\n",
    "seg_list, seg_label_list, seg_subject_list = seg_df_per_start_and_duration(users_df, duration_added_df)\n",
    "\n",
    "# set(seg_subject_list) # there is no more than one subject per segment!\n",
    "# print(len(seg_list))"
   ]
  },
  {
   "cell_type": "markdown",
   "id": "214fe842",
   "metadata": {},
   "source": [
    "## Feature extraction"
   ]
  },
  {
   "cell_type": "code",
   "execution_count": 28,
   "id": "3e9c4f3c",
   "metadata": {},
   "outputs": [],
   "source": [
    "import numpy as np\n",
    "from scipy.stats import iqr, skew, kurtosis\n",
    "\n",
    "def zero_crossing_rate(signal):\n",
    "    \"\"\"Calculate zero crossing rate of a 1D numpy array\"\"\"\n",
    "    return ((signal[:-1] * signal[1:]) < 0).sum() / len(signal)\n",
    "\n",
    "def safe_corr(a, b):\n",
    "    \"\"\"Safely calculate correlation\"\"\"\n",
    "    if len(a) < 2 or np.std(a) == 0 or np.std(b) == 0:\n",
    "        return 0.0  # or np.nan if you prefer to filter later\n",
    "    return np.corrcoef(a, b)[0, 1]\n",
    "\n",
    "def get_feats(df, columns=['x', 'y', 'z']):\n",
    "    \"\"\"Extracting features from accelerometer data of each activity.\n",
    "\n",
    "    Returns:\n",
    "        feats: List of features (example: std_x, std_y, std_z, mean_x, ...)\n",
    "    Args:\n",
    "        df (DataFrame): DataFrame contains acceleration data\n",
    "        columns (list): list of columns.\n",
    "    \"\"\"\n",
    "\n",
    "    feats = []\n",
    "\n",
    "    # Time domain features per axis\n",
    "    for col in columns:\n",
    "        data = df[col].values\n",
    "\n",
    "        std_ = np.std(data, ddof=0)\n",
    "        mean_ = np.mean(data)\n",
    "        max_ = np.max(data)\n",
    "        min_ = np.min(data)\n",
    "        median_ = np.median(data)\n",
    "        iqr_ = iqr(data)\n",
    "        var_ = np.var(data)\n",
    "        skew_ = skew(data)\n",
    "        kurt_ = kurtosis(data)\n",
    "        ptp_ = np.ptp(data)  # peak-to-peak (max - min)\n",
    "        rms_ = np.sqrt(np.mean(data**2))\n",
    "        zcr_ = zero_crossing_rate(data)\n",
    "\n",
    "        feats.extend([\n",
    "            std_, mean_, max_, min_, median_, iqr_,\n",
    "            var_, skew_, kurt_, ptp_, rms_, zcr_\n",
    "        ])\n",
    "\n",
    "    # Signal Magnitude Area (SMA)\n",
    "    mag = np.abs(df[columns]).sum(axis=1)\n",
    "    sma = mag.sum() / len(df)\n",
    "    feats.append(sma)\n",
    "\n",
    "    # Correlation between axes\n",
    "    corr_xy = safe_corr(df['x'], df['y'])\n",
    "    corr_yz = safe_corr(df['y'], df['z'])\n",
    "    corr_zx = safe_corr(df['z'], df['x'])\n",
    "    \n",
    "    feats.extend([corr_xy, corr_yz, corr_zx])\n",
    "\n",
    "    return feats"
   ]
  },
  {
   "cell_type": "markdown",
   "id": "210417db",
   "metadata": {},
   "source": [
    "## Window overlapping"
   ]
  },
  {
   "cell_type": "code",
   "execution_count": 29,
   "id": "002a8578",
   "metadata": {},
   "outputs": [],
   "source": [
    "def windowSeg(df, wsize, stride):\n",
    "    \"\"\"Segment using sliding window method\n",
    "\n",
    "    Returns:\n",
    "        List: list of (list of features per segment (DataFrame)).\n",
    "    Args:\n",
    "        df (DataFrame): DataFramme contains accelerometer data\n",
    "        wsize: window size [seconds]\n",
    "        stride: how much the window slide\n",
    "    \"\"\"\n",
    "    features_list = []\n",
    "    start_time = df['datetime'].min()\n",
    "    end_time = df['datetime'].max()\n",
    "    current_start = start_time\n",
    "\n",
    "    while current_start + pd.Timedelta(seconds=wsize) <= end_time:\n",
    "        current_end = current_start + pd.Timedelta(seconds=wsize)\n",
    "        window = df[(df['datetime'] >= current_start) & (df['datetime'] < current_end)]\n",
    "        if not window.empty:\n",
    "            feats = get_feats(window)\n",
    "            features_list.append(feats)\n",
    "        current_start += pd.Timedelta(seconds=stride)\n",
    "\n",
    "    return features_list"
   ]
  },
  {
   "cell_type": "markdown",
   "id": "66e87004",
   "metadata": {},
   "source": [
    "## Segment and extract features"
   ]
  },
  {
   "cell_type": "code",
   "execution_count": 40,
   "id": "e9ffaede",
   "metadata": {},
   "outputs": [],
   "source": [
    "def process_segments(seg_list, seg_label_list, seg_subject_list, wsize=1, stride=0.5):\n",
    "    all_features = []\n",
    "    all_labels = []\n",
    "    all_subjects = []\n",
    "\n",
    "    for df, label, subject in zip(seg_list, seg_label_list, seg_subject_list):\n",
    "        feats_list = windowSeg(df, wsize, stride)\n",
    "        all_features.extend(feats_list)\n",
    "        all_labels.extend([label] * len(feats_list))\n",
    "        all_subjects.extend([subject] * len(feats_list))\n",
    "\n",
    "    # Define feature names for columns\n",
    "    base_features = ['std', 'mean', 'max', 'min', 'median', 'iqr', 'var', 'skew', 'kurt', 'ptp', 'rms', 'zcr']\n",
    "    columns = [f'{stat}_{axis}' for axis in ['x', 'y', 'z'] for stat in base_features]\n",
    "    columns += ['sma', 'corr_xy', 'corr_yz', 'corr_zx']\n",
    "\n",
    "    features_df = pd.DataFrame(all_features, columns=columns)\n",
    "    features_df['label'] = all_labels\n",
    "    features_df['subject'] = all_subjects\n",
    "\n",
    "    return features_df\n",
    "\n",
    "WINDOW_SIZE = 1 # window size = 1s\n",
    "OVERLAP_RATE = 0.5 * WINDOW_SIZE # overlap 50% window size\n",
    "\n",
    "all_in_one_df = process_segments(seg_list, seg_label_list, seg_subject_list, wsize=WINDOW_SIZE, stride=WINDOW_SIZE - OVERLAP_RATE)"
   ]
  },
  {
   "cell_type": "code",
   "execution_count": null,
   "id": "0153712e",
   "metadata": {},
   "outputs": [
    {
     "data": {
      "text/plain": [
       "21"
      ]
     },
     "execution_count": 43,
     "metadata": {},
     "output_type": "execute_result"
    }
   ],
   "source": [
    "all_in_one_df['label'].value_counts()\n",
    "len(all_in_one_df['label'].value_counts().index)"
   ]
  },
  {
   "cell_type": "markdown",
   "id": "4b950e4e",
   "metadata": {},
   "source": [
    "# Split the data"
   ]
  },
  {
   "cell_type": "code",
   "execution_count": 49,
   "id": "681f462a",
   "metadata": {},
   "outputs": [],
   "source": [
    "X = all_in_one_df.drop(columns=['label', 'subject']).values\n",
    "y = all_in_one_df['label'].values"
   ]
  },
  {
   "cell_type": "code",
   "execution_count": 55,
   "id": "ec8a842e",
   "metadata": {},
   "outputs": [],
   "source": [
    "def split_by_position(X, y, start_ratio=0.0, train_ratio=0.7):\n",
    "    \"\"\"\n",
    "    Split dataset into train/test without shuffling.\n",
    "    \n",
    "    Parameters:\n",
    "    - X, y: features and labels\n",
    "    - start_ratio: float in [0, 1), where to start the 70% slice\n",
    "    - train_ratio: proportion of the data to use as training (e.g. 0.7)\n",
    "\n",
    "    Returns:\n",
    "    - X_train, X_test, y_train, y_test\n",
    "    \"\"\"\n",
    "    assert 0 <= start_ratio < 1, \"start_ratio must be in [0, 1)\"\n",
    "    assert 0 < train_ratio <= 1, \"train_ratio must be in (0, 1]\"\n",
    "\n",
    "    total_len = len(X)\n",
    "    start_index = int(start_ratio * total_len)\n",
    "    end_index = start_index + int(train_ratio * total_len)\n",
    "\n",
    "    # Handle edge case where end_index exceeds total_len\n",
    "    if end_index > total_len:\n",
    "        end_index = total_len\n",
    "\n",
    "    X_train = X[start_index:end_index]\n",
    "    y_train = y[start_index:end_index]\n",
    "\n",
    "    # Use everything else for test\n",
    "    X_test = np.concatenate((X[:start_index], X[end_index:]), axis=0)\n",
    "    y_test = np.concatenate((y[:start_index], y[end_index:]), axis=0)\n",
    "\n",
    "    return X_train, X_test, y_train, y_test\n",
    "\n",
    "X_train, X_test, y_train, y_test = split_by_position(X, y, start_ratio=0.05, train_ratio=0.7)"
   ]
  },
  {
   "cell_type": "code",
   "execution_count": 56,
   "id": "7eacbaf4",
   "metadata": {},
   "outputs": [
    {
     "name": "stdout",
     "output_type": "stream",
     "text": [
      "X_train shape: (20414, 40), y_train shape: (20414,)\n",
      "X_test shape: (8749, 40), y_test shape: (8749,)\n"
     ]
    }
   ],
   "source": [
    "print(f\"X_train shape: {X_train.shape}, y_train shape: {y_train.shape}\")\n",
    "print(f\"X_test shape: {X_test.shape}, y_test shape: {y_test.shape}\")"
   ]
  },
  {
   "cell_type": "markdown",
   "id": "92cda081",
   "metadata": {},
   "source": [
    "# Handlle imbalanced train data"
   ]
  },
  {
   "cell_type": "markdown",
   "id": "b3443699",
   "metadata": {},
   "source": [
    "## Random Over Sampler"
   ]
  },
  {
   "cell_type": "code",
   "execution_count": 60,
   "id": "e471f548",
   "metadata": {},
   "outputs": [
    {
     "name": "stdout",
     "output_type": "stream",
     "text": [
      "Collecting scikit-multilearn\n",
      "  Downloading scikit_multilearn-0.2.0-py3-none-any.whl.metadata (6.0 kB)\n",
      "Downloading scikit_multilearn-0.2.0-py3-none-any.whl (89 kB)\n",
      "Installing collected packages: scikit-multilearn\n",
      "Successfully installed scikit-multilearn-0.2.0\n",
      "\n",
      "\u001b[1m[\u001b[0m\u001b[34;49mnotice\u001b[0m\u001b[1;39;49m]\u001b[0m\u001b[39;49m A new release of pip is available: \u001b[0m\u001b[31;49m25.0.1\u001b[0m\u001b[39;49m -> \u001b[0m\u001b[32;49m25.1.1\u001b[0m\n",
      "\u001b[1m[\u001b[0m\u001b[34;49mnotice\u001b[0m\u001b[1;39;49m]\u001b[0m\u001b[39;49m To update, run: \u001b[0m\u001b[32;49mpip install --upgrade pip\u001b[0m\n",
      "Note: you may need to restart the kernel to use updated packages.\n"
     ]
    }
   ],
   "source": [
    "%pip install scikit-multilearn"
   ]
  }
 ],
 "metadata": {
  "kernelspec": {
   "display_name": "tremor_challenge2",
   "language": "python",
   "name": "python3"
  },
  "language_info": {
   "codemirror_mode": {
    "name": "ipython",
    "version": 3
   },
   "file_extension": ".py",
   "mimetype": "text/x-python",
   "name": "python",
   "nbconvert_exporter": "python",
   "pygments_lexer": "ipython3",
   "version": "3.12.8"
  }
 },
 "nbformat": 4,
 "nbformat_minor": 5
}
