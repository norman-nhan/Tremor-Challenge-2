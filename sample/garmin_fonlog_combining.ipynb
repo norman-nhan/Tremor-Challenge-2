{
 "cells": [
  {
   "cell_type": "markdown",
   "id": "22e8f427-8968-4124-9f2c-33b2a89a21fa",
   "metadata": {},
   "source": [
    "# Load libraries"
   ]
  },
  {
   "cell_type": "code",
   "execution_count": 1,
   "id": "181a3a70-247e-4583-8daf-5e7bd3e23db5",
   "metadata": {},
   "outputs": [],
   "source": [
    "import numpy as np\n",
    "import pandas as pd\n",
    "from pandasql import sqldf"
   ]
  },
  {
   "cell_type": "markdown",
   "id": "e47f7ed0",
   "metadata": {
    "tags": []
   },
   "source": [
    "# Configurations & Constants"
   ]
  },
  {
   "cell_type": "code",
   "execution_count": 2,
   "id": "2902dca5",
   "metadata": {},
   "outputs": [],
   "source": [
    "user = 'participant1' # participant1-10\n",
    "target_freq_as_int = 15 # 15|1\n",
    "target_freq_unit1 = 'min' # min|s\n",
    "target_freq_unit2 = 'm' # m|s\n",
    "dataset_type = '' # '' | time_series_"
   ]
  },
  {
   "cell_type": "code",
   "execution_count": 3,
   "id": "1030a19d",
   "metadata": {
    "code_folding": []
   },
   "outputs": [],
   "source": [
    "wo_columns = {\n",
    "    \"Timestamp\": \"timestamp\",\n",
    "    \"Heart Rate (in Beats per minute)\": \"heart_rate\",\n",
    "    \"Stress Score\": \"stress_score\",\n",
    "    \"Stress Interpretation\": \"stress_level\",\n",
    "    \"Number of Steps\": \"steps\",\n",
    "    \"Wearing Off\": \"wearing_off\",\n",
    "    \"started_at\": \"wo_start\",\n",
    "    \"finished_at\": \"wo_end\",\n",
    "    \"Tremors\": \"wo_tremors\",\n",
    "    \"Slowing down of movement\": \"wo_slowdown\",\n",
    "    \"Change in mood or depression\": \"wo_moodchange\",\n",
    "    \"Rigidity of muscles\": \"wo_rigidity\",\n",
    "    \"Sharp pain or prolonged dull pain\": \"wo_pain\",\n",
    "    \"Impairment of complex movements of the hand and fingers\": \"wo_impairment_hands\",\n",
    "    \"Difficulty integrating thoughts or slowing down of thought\": \"wo_slow_thoughts\",\n",
    "    \"Anxiety or panic attacks\": \"wo_anxiety\",\n",
    "    \"Muscle spasm\": \"wo_muscle_spasm\",\n",
    "    \"activity_target.activity_id\": \"report_id\"\n",
    "}"
   ]
  },
  {
   "cell_type": "markdown",
   "id": "d88741a6",
   "metadata": {},
   "source": [
    "# Combine Datasets\n",
    "Match wearing-off to combined Garmin data based on wearing-off start and end"
   ]
  },
  {
   "cell_type": "code",
   "execution_count": 4,
   "id": "6f91d726",
   "metadata": {},
   "outputs": [],
   "source": [
    "garmin_data = pd.read_excel(f'./garmin_preprocessed.xlsx', sheet_name='garmin', engine='openpyxl')\n",
    "wearing_off_with_symptoms = pd.read_excel(f'./fonlog_preprocessed.xlsx', sheet_name='fonlog', engine='openpyxl')"
   ]
  },
  {
   "cell_type": "code",
   "execution_count": 5,
   "id": "807c8e05",
   "metadata": {},
   "outputs": [],
   "source": [
    "pysqldf = lambda q: sqldf(q, globals())\n",
    "cond_join= '''\n",
    "    select \n",
    "        garmin.*,\n",
    "        wearing_off_with_symptoms.*,\n",
    "        case\n",
    "            when wearing_off_with_symptoms.[started_at] is not null THEN 1\n",
    "        else 0\n",
    "        end as 'Wearing Off'\n",
    "    from garmin_data as garmin\n",
    "    left join wearing_off_with_symptoms\n",
    "    on garmin.[Timestamp] BETWEEN wearing_off_with_symptoms.[started_at] AND wearing_off_with_symptoms.[finished_at]\n",
    "'''\n",
    "\n",
    "# Change wearing-off columns\n",
    "combined_data = pysqldf(cond_join).rename(columns=wo_columns)\n",
    "\n",
    "# Drop duplicates based on timestamp\n",
    "combined_data = combined_data.drop_duplicates(subset=['timestamp'])\n",
    "\n",
    "# Set timestamp as index\n",
    "combined_data['timestamp'] = pd.to_datetime(combined_data['timestamp'])\n",
    "combined_data = combined_data.set_index('timestamp')"
   ]
  },
  {
   "cell_type": "markdown",
   "id": "ecde580e",
   "metadata": {},
   "source": [
    "Compute for wearing-off duration"
   ]
  },
  {
   "cell_type": "code",
   "execution_count": 6,
   "id": "8b40a5ef",
   "metadata": {},
   "outputs": [],
   "source": [
    "combined_data['wo_duration'] = ''\n",
    "combined_data['wo_duration'] = (\n",
    "    pd.to_datetime(combined_data.index) - pd.to_datetime(combined_data['wo_start'])\n",
    ") / np.timedelta64(1, target_freq_unit2)\n",
    "\n",
    "# gid = combined_data['wo_duration'].notnull().cumsum()\n",
    "# dg = combined_data.groupby(gid)\n",
    "# base = dg['wo_duration'].transform('last')\n",
    "# combined_data['wo_duration'] = (  base + ( dg.cumcount() ) * target_freq_as_int)\n",
    "\n",
    "# display(combined_data.iloc[140:150, ])\n",
    "\n",
    "combined_data.to_excel(f'./combined.xlsx', sheet_name='combined')"
   ]
  }
 ],
 "metadata": {
  "kernelspec": {
   "display_name": "Python 3",
   "language": "python",
   "name": "python3"
  },
  "language_info": {
   "codemirror_mode": {
    "name": "ipython",
    "version": 3
   },
   "file_extension": ".py",
   "mimetype": "text/x-python",
   "name": "python",
   "nbconvert_exporter": "python",
   "pygments_lexer": "ipython3",
   "version": "3.11.9"
  },
  "toc": {
   "base_numbering": 1,
   "nav_menu": {},
   "number_sections": true,
   "sideBar": true,
   "skip_h1_title": false,
   "title_cell": "Table of Contents",
   "title_sidebar": "Contents",
   "toc_cell": false,
   "toc_position": {
    "height": "calc(100% - 180px)",
    "left": "10px",
    "top": "150px",
    "width": "222px"
   },
   "toc_section_display": true,
   "toc_window_display": true
  }
 },
 "nbformat": 4,
 "nbformat_minor": 5
}
